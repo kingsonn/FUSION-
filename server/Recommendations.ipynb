{
  "metadata": {
    "language_info": {
      "codemirror_mode": {
        "name": "python",
        "version": 3
      },
      "file_extension": ".py",
      "mimetype": "text/x-python",
      "name": "python",
      "nbconvert_exporter": "python",
      "pygments_lexer": "ipython3",
      "version": "3.8"
    },
    "kernelspec": {
      "name": "python",
      "display_name": "Python (Pyodide)",
      "language": "python"
    }
  },
  "nbformat_minor": 4,
  "nbformat": 4,
  "cells": [
    {
      "cell_type": "code",
      "source": "import numpy as np\nimport pandas as pd",
      "metadata": {
        "trusted": true
      },
      "execution_count": 415,
      "outputs": []
    },
    {
      "cell_type": "code",
      "source": "items = pd.read_csv('ratings.csv')   nn   ",
      "metadata": {
        "trusted": true
      },
      "execution_count": 416,
      "outputs": []
    },
    {
      "cell_type": "code",
      "source": "items.head()",
      "metadata": {
        "trusted": true
      },
      "execution_count": 417,
      "outputs": [
        {
          "execution_count": 417,
          "output_type": "execute_result",
          "data": {
            "text/plain": "                   Items  1  2  3  4  5  6  7  8  9  ...  188  189  190  191  \\\n0  Cheese Grill Sandwich  0  4  0  0  0  2  0  0  0  ...    4    4    2    1   \n1        Cheese Sandwich  0  2  0  0  0  3  0  0  0  ...    1    3    2    1   \n2    Veg Grill Sandwich   0  3  0  0  0  3  0  3  0  ...    3    2    2    1   \n3     Vegetable Sandwich  0  1  0  0  0  3  0  0  0  ...    1    2    2    1   \n4       Toast Butter Jam  0  0  0  0  0  3  0  0  0  ...    0    2    0    1   \n\n   192  193  194  195  196  197  \n0    1    0    0    1    3    2  \n1    1    0    0    1    2    0  \n2    1    0    0    1    2    1  \n3    1    0    4    1    2    0  \n4    1    0    0    0    2    0  \n\n[5 rows x 198 columns]",
            "text/html": "<div>\n<style scoped>\n    .dataframe tbody tr th:only-of-type {\n        vertical-align: middle;\n    }\n\n    .dataframe tbody tr th {\n        vertical-align: top;\n    }\n\n    .dataframe thead th {\n        text-align: right;\n    }\n</style>\n<table border=\"1\" class=\"dataframe\">\n  <thead>\n    <tr style=\"text-align: right;\">\n      <th></th>\n      <th>Items</th>\n      <th>1</th>\n      <th>2</th>\n      <th>3</th>\n      <th>4</th>\n      <th>5</th>\n      <th>6</th>\n      <th>7</th>\n      <th>8</th>\n      <th>9</th>\n      <th>...</th>\n      <th>188</th>\n      <th>189</th>\n      <th>190</th>\n      <th>191</th>\n      <th>192</th>\n      <th>193</th>\n      <th>194</th>\n      <th>195</th>\n      <th>196</th>\n      <th>197</th>\n    </tr>\n  </thead>\n  <tbody>\n    <tr>\n      <th>0</th>\n      <td>Cheese Grill Sandwich</td>\n      <td>0</td>\n      <td>4</td>\n      <td>0</td>\n      <td>0</td>\n      <td>0</td>\n      <td>2</td>\n      <td>0</td>\n      <td>0</td>\n      <td>0</td>\n      <td>...</td>\n      <td>4</td>\n      <td>4</td>\n      <td>2</td>\n      <td>1</td>\n      <td>1</td>\n      <td>0</td>\n      <td>0</td>\n      <td>1</td>\n      <td>3</td>\n      <td>2</td>\n    </tr>\n    <tr>\n      <th>1</th>\n      <td>Cheese Sandwich</td>\n      <td>0</td>\n      <td>2</td>\n      <td>0</td>\n      <td>0</td>\n      <td>0</td>\n      <td>3</td>\n      <td>0</td>\n      <td>0</td>\n      <td>0</td>\n      <td>...</td>\n      <td>1</td>\n      <td>3</td>\n      <td>2</td>\n      <td>1</td>\n      <td>1</td>\n      <td>0</td>\n      <td>0</td>\n      <td>1</td>\n      <td>2</td>\n      <td>0</td>\n    </tr>\n    <tr>\n      <th>2</th>\n      <td>Veg Grill Sandwich</td>\n      <td>0</td>\n      <td>3</td>\n      <td>0</td>\n      <td>0</td>\n      <td>0</td>\n      <td>3</td>\n      <td>0</td>\n      <td>3</td>\n      <td>0</td>\n      <td>...</td>\n      <td>3</td>\n      <td>2</td>\n      <td>2</td>\n      <td>1</td>\n      <td>1</td>\n      <td>0</td>\n      <td>0</td>\n      <td>1</td>\n      <td>2</td>\n      <td>1</td>\n    </tr>\n    <tr>\n      <th>3</th>\n      <td>Vegetable Sandwich</td>\n      <td>0</td>\n      <td>1</td>\n      <td>0</td>\n      <td>0</td>\n      <td>0</td>\n      <td>3</td>\n      <td>0</td>\n      <td>0</td>\n      <td>0</td>\n      <td>...</td>\n      <td>1</td>\n      <td>2</td>\n      <td>2</td>\n      <td>1</td>\n      <td>1</td>\n      <td>0</td>\n      <td>4</td>\n      <td>1</td>\n      <td>2</td>\n      <td>0</td>\n    </tr>\n    <tr>\n      <th>4</th>\n      <td>Toast Butter Jam</td>\n      <td>0</td>\n      <td>0</td>\n      <td>0</td>\n      <td>0</td>\n      <td>0</td>\n      <td>3</td>\n      <td>0</td>\n      <td>0</td>\n      <td>0</td>\n      <td>...</td>\n      <td>0</td>\n      <td>2</td>\n      <td>0</td>\n      <td>1</td>\n      <td>1</td>\n      <td>0</td>\n      <td>0</td>\n      <td>0</td>\n      <td>2</td>\n      <td>0</td>\n    </tr>\n  </tbody>\n</table>\n<p>5 rows × 198 columns</p>\n</div>"
          },
          "metadata": {}
        }
      ]
    },
    {
      "cell_type": "code",
      "source": "items.shape",
      "metadata": {
        "trusted": true
      },
      "execution_count": 418,
      "outputs": [
        {
          "execution_count": 418,
          "output_type": "execute_result",
          "data": {
            "text/plain": "(52, 198)"
          },
          "metadata": {}
        }
      ]
    },
    {
      "cell_type": "code",
      "source": "items.isnull().sum()",
      "metadata": {
        "trusted": true
      },
      "execution_count": 419,
      "outputs": [
        {
          "execution_count": 419,
          "output_type": "execute_result",
          "data": {
            "text/plain": "Items    0\n1        0\n2        0\n3        0\n4        0\n        ..\n193      0\n194      0\n195      0\n196      0\n197      0\nLength: 198, dtype: int64"
          },
          "metadata": {}
        }
      ]
    },
    {
      "cell_type": "code",
      "source": "items.duplicated().sum()",
      "metadata": {
        "trusted": true
      },
      "execution_count": 420,
      "outputs": [
        {
          "execution_count": 420,
          "output_type": "execute_result",
          "data": {
            "text/plain": "0"
          },
          "metadata": {}
        }
      ]
    },
    {
      "cell_type": "markdown",
      "source": "Popularity based",
      "metadata": {}
    },
    {
      "cell_type": "code",
      "source": "items.replace(0, np.nan, inplace=True)",
      "metadata": {
        "trusted": true
      },
      "execution_count": 389,
      "outputs": []
    },
    {
      "cell_type": "code",
      "source": "items['avg_rating']= items.loc[:,items.columns!=\"Items\"].mean(axis=1)",
      "metadata": {
        "trusted": true
      },
      "execution_count": 390,
      "outputs": []
    },
    {
      "cell_type": "code",
      "source": "items['num_rating']= items.loc[:,items.columns!=\"Items\"].count(axis=1)",
      "metadata": {
        "trusted": true
      },
      "execution_count": 391,
      "outputs": []
    },
    {
      "cell_type": "code",
      "source": "items['num_rating']=items['num_rating']-1",
      "metadata": {
        "trusted": true
      },
      "execution_count": 392,
      "outputs": []
    },
    {
      "cell_type": "code",
      "source": "items.head()",
      "metadata": {
        "trusted": true
      },
      "execution_count": 393,
      "outputs": [
        {
          "execution_count": 393,
          "output_type": "execute_result",
          "data": {
            "text/plain": "                   Items   1    2   3   4   5    6   7    8   9  ...  190  \\\n0  Cheese Grill Sandwich NaN  4.0 NaN NaN NaN  2.0 NaN  NaN NaN  ...  2.0   \n1        Cheese Sandwich NaN  2.0 NaN NaN NaN  3.0 NaN  NaN NaN  ...  2.0   \n2    Veg Grill Sandwich  NaN  3.0 NaN NaN NaN  3.0 NaN  3.0 NaN  ...  2.0   \n3     Vegetable Sandwich NaN  1.0 NaN NaN NaN  3.0 NaN  NaN NaN  ...  2.0   \n4       Toast Butter Jam NaN  NaN NaN NaN NaN  3.0 NaN  NaN NaN  ...  NaN   \n\n   191  192  193  194  195  196  197  avg_rating  num_rating  \n0  1.0    1  NaN  NaN  1.0    3  2.0    2.373913         115  \n1  1.0    1  NaN  NaN  1.0    2  NaN    2.030928          97  \n2  1.0    1  NaN  NaN  1.0    2  1.0    2.257143         105  \n3  1.0    1  NaN  4.0  1.0    2  NaN    2.106383          94  \n4  1.0    1  NaN  NaN  NaN    2  NaN    2.014085          71  \n\n[5 rows x 200 columns]",
            "text/html": "<div>\n<style scoped>\n    .dataframe tbody tr th:only-of-type {\n        vertical-align: middle;\n    }\n\n    .dataframe tbody tr th {\n        vertical-align: top;\n    }\n\n    .dataframe thead th {\n        text-align: right;\n    }\n</style>\n<table border=\"1\" class=\"dataframe\">\n  <thead>\n    <tr style=\"text-align: right;\">\n      <th></th>\n      <th>Items</th>\n      <th>1</th>\n      <th>2</th>\n      <th>3</th>\n      <th>4</th>\n      <th>5</th>\n      <th>6</th>\n      <th>7</th>\n      <th>8</th>\n      <th>9</th>\n      <th>...</th>\n      <th>190</th>\n      <th>191</th>\n      <th>192</th>\n      <th>193</th>\n      <th>194</th>\n      <th>195</th>\n      <th>196</th>\n      <th>197</th>\n      <th>avg_rating</th>\n      <th>num_rating</th>\n    </tr>\n  </thead>\n  <tbody>\n    <tr>\n      <th>0</th>\n      <td>Cheese Grill Sandwich</td>\n      <td>NaN</td>\n      <td>4.0</td>\n      <td>NaN</td>\n      <td>NaN</td>\n      <td>NaN</td>\n      <td>2.0</td>\n      <td>NaN</td>\n      <td>NaN</td>\n      <td>NaN</td>\n      <td>...</td>\n      <td>2.0</td>\n      <td>1.0</td>\n      <td>1</td>\n      <td>NaN</td>\n      <td>NaN</td>\n      <td>1.0</td>\n      <td>3</td>\n      <td>2.0</td>\n      <td>2.373913</td>\n      <td>115</td>\n    </tr>\n    <tr>\n      <th>1</th>\n      <td>Cheese Sandwich</td>\n      <td>NaN</td>\n      <td>2.0</td>\n      <td>NaN</td>\n      <td>NaN</td>\n      <td>NaN</td>\n      <td>3.0</td>\n      <td>NaN</td>\n      <td>NaN</td>\n      <td>NaN</td>\n      <td>...</td>\n      <td>2.0</td>\n      <td>1.0</td>\n      <td>1</td>\n      <td>NaN</td>\n      <td>NaN</td>\n      <td>1.0</td>\n      <td>2</td>\n      <td>NaN</td>\n      <td>2.030928</td>\n      <td>97</td>\n    </tr>\n    <tr>\n      <th>2</th>\n      <td>Veg Grill Sandwich</td>\n      <td>NaN</td>\n      <td>3.0</td>\n      <td>NaN</td>\n      <td>NaN</td>\n      <td>NaN</td>\n      <td>3.0</td>\n      <td>NaN</td>\n      <td>3.0</td>\n      <td>NaN</td>\n      <td>...</td>\n      <td>2.0</td>\n      <td>1.0</td>\n      <td>1</td>\n      <td>NaN</td>\n      <td>NaN</td>\n      <td>1.0</td>\n      <td>2</td>\n      <td>1.0</td>\n      <td>2.257143</td>\n      <td>105</td>\n    </tr>\n    <tr>\n      <th>3</th>\n      <td>Vegetable Sandwich</td>\n      <td>NaN</td>\n      <td>1.0</td>\n      <td>NaN</td>\n      <td>NaN</td>\n      <td>NaN</td>\n      <td>3.0</td>\n      <td>NaN</td>\n      <td>NaN</td>\n      <td>NaN</td>\n      <td>...</td>\n      <td>2.0</td>\n      <td>1.0</td>\n      <td>1</td>\n      <td>NaN</td>\n      <td>4.0</td>\n      <td>1.0</td>\n      <td>2</td>\n      <td>NaN</td>\n      <td>2.106383</td>\n      <td>94</td>\n    </tr>\n    <tr>\n      <th>4</th>\n      <td>Toast Butter Jam</td>\n      <td>NaN</td>\n      <td>NaN</td>\n      <td>NaN</td>\n      <td>NaN</td>\n      <td>NaN</td>\n      <td>3.0</td>\n      <td>NaN</td>\n      <td>NaN</td>\n      <td>NaN</td>\n      <td>...</td>\n      <td>NaN</td>\n      <td>1.0</td>\n      <td>1</td>\n      <td>NaN</td>\n      <td>NaN</td>\n      <td>NaN</td>\n      <td>2</td>\n      <td>NaN</td>\n      <td>2.014085</td>\n      <td>71</td>\n    </tr>\n  </tbody>\n</table>\n<p>5 rows × 200 columns</p>\n</div>"
          },
          "metadata": {}
        }
      ]
    },
    {
      "cell_type": "code",
      "source": "popular_df=items[['Items','avg_rating','num_rating']]",
      "metadata": {
        "trusted": true
      },
      "execution_count": 394,
      "outputs": []
    },
    {
      "cell_type": "code",
      "source": "c=popular_df['avg_rating'].mean()",
      "metadata": {
        "trusted": true
      },
      "execution_count": 395,
      "outputs": []
    },
    {
      "cell_type": "code",
      "source": "c",
      "metadata": {
        "trusted": true
      },
      "execution_count": 396,
      "outputs": [
        {
          "execution_count": 396,
          "output_type": "execute_result",
          "data": {
            "text/plain": "2.836529494722303"
          },
          "metadata": {}
        }
      ]
    },
    {
      "cell_type": "code",
      "source": "popular_df=popular_df[popular_df['num_rating']>100]",
      "metadata": {
        "trusted": true
      },
      "execution_count": 397,
      "outputs": []
    },
    {
      "cell_type": "code",
      "source": "popular_df",
      "metadata": {
        "trusted": true
      },
      "execution_count": 398,
      "outputs": [
        {
          "execution_count": 398,
          "output_type": "execute_result",
          "data": {
            "text/plain": "                    Items  avg_rating  num_rating\n0   Cheese Grill Sandwich    2.373913         115\n2     Veg Grill Sandwich     2.257143         105\n7                   Poha     2.819672         122\n9                Wada Pav    3.005848         171\n10             Samosa Pav    3.271084         166\n11           Bread Pakoda    3.007692         130\n12              Misal Pav    2.839416         137\n14            Plain Maggi    2.960526         152\n15           Cheese Maggi    2.819820         111\n16              Pav Bhaji    2.863014         146\n17           Chole Bature    3.505882         170\n19            Idli Sambar    2.828358         134\n20      Medhu Wada Sambar    3.000000         128\n21              Sada Dosa    3.307143         140\n22            Masala Dosa    3.184211         152\n23            Mysore Dosa    3.087719         114\n24     Mysore Masala Dosa    3.064815         108\n25          Schezwan Dosa    3.222222         108\n26            Cheese Dosa    3.171171         111\n28              Full Meal    3.157895         133\n35             Bhurji Pav    3.400000         105\n36               Sev Puri    2.959350         123\n37            Papdi Chaat    3.169811         159\n38           Samosa Chaat    3.363636         143\n40       Margherita Pizza    2.577586         116\n41                 Pasta     2.578947         114\n42              Veg Pizza    2.834783         115\n43           Garlic Bread    2.702970         101\n44                 Lassi     2.851485         101\n45                 Coffee    2.948387         155\n46                    Tea    2.770370         135\n47            Cold Coffee    2.826087         115\n49       Watermelon Juice    3.019608         102\n50               Lemonade    2.917431         109",
            "text/html": "<div>\n<style scoped>\n    .dataframe tbody tr th:only-of-type {\n        vertical-align: middle;\n    }\n\n    .dataframe tbody tr th {\n        vertical-align: top;\n    }\n\n    .dataframe thead th {\n        text-align: right;\n    }\n</style>\n<table border=\"1\" class=\"dataframe\">\n  <thead>\n    <tr style=\"text-align: right;\">\n      <th></th>\n      <th>Items</th>\n      <th>avg_rating</th>\n      <th>num_rating</th>\n    </tr>\n  </thead>\n  <tbody>\n    <tr>\n      <th>0</th>\n      <td>Cheese Grill Sandwich</td>\n      <td>2.373913</td>\n      <td>115</td>\n    </tr>\n    <tr>\n      <th>2</th>\n      <td>Veg Grill Sandwich</td>\n      <td>2.257143</td>\n      <td>105</td>\n    </tr>\n    <tr>\n      <th>7</th>\n      <td>Poha</td>\n      <td>2.819672</td>\n      <td>122</td>\n    </tr>\n    <tr>\n      <th>9</th>\n      <td>Wada Pav</td>\n      <td>3.005848</td>\n      <td>171</td>\n    </tr>\n    <tr>\n      <th>10</th>\n      <td>Samosa Pav</td>\n      <td>3.271084</td>\n      <td>166</td>\n    </tr>\n    <tr>\n      <th>11</th>\n      <td>Bread Pakoda</td>\n      <td>3.007692</td>\n      <td>130</td>\n    </tr>\n    <tr>\n      <th>12</th>\n      <td>Misal Pav</td>\n      <td>2.839416</td>\n      <td>137</td>\n    </tr>\n    <tr>\n      <th>14</th>\n      <td>Plain Maggi</td>\n      <td>2.960526</td>\n      <td>152</td>\n    </tr>\n    <tr>\n      <th>15</th>\n      <td>Cheese Maggi</td>\n      <td>2.819820</td>\n      <td>111</td>\n    </tr>\n    <tr>\n      <th>16</th>\n      <td>Pav Bhaji</td>\n      <td>2.863014</td>\n      <td>146</td>\n    </tr>\n    <tr>\n      <th>17</th>\n      <td>Chole Bature</td>\n      <td>3.505882</td>\n      <td>170</td>\n    </tr>\n    <tr>\n      <th>19</th>\n      <td>Idli Sambar</td>\n      <td>2.828358</td>\n      <td>134</td>\n    </tr>\n    <tr>\n      <th>20</th>\n      <td>Medhu Wada Sambar</td>\n      <td>3.000000</td>\n      <td>128</td>\n    </tr>\n    <tr>\n      <th>21</th>\n      <td>Sada Dosa</td>\n      <td>3.307143</td>\n      <td>140</td>\n    </tr>\n    <tr>\n      <th>22</th>\n      <td>Masala Dosa</td>\n      <td>3.184211</td>\n      <td>152</td>\n    </tr>\n    <tr>\n      <th>23</th>\n      <td>Mysore Dosa</td>\n      <td>3.087719</td>\n      <td>114</td>\n    </tr>\n    <tr>\n      <th>24</th>\n      <td>Mysore Masala Dosa</td>\n      <td>3.064815</td>\n      <td>108</td>\n    </tr>\n    <tr>\n      <th>25</th>\n      <td>Schezwan Dosa</td>\n      <td>3.222222</td>\n      <td>108</td>\n    </tr>\n    <tr>\n      <th>26</th>\n      <td>Cheese Dosa</td>\n      <td>3.171171</td>\n      <td>111</td>\n    </tr>\n    <tr>\n      <th>28</th>\n      <td>Full Meal</td>\n      <td>3.157895</td>\n      <td>133</td>\n    </tr>\n    <tr>\n      <th>35</th>\n      <td>Bhurji Pav</td>\n      <td>3.400000</td>\n      <td>105</td>\n    </tr>\n    <tr>\n      <th>36</th>\n      <td>Sev Puri</td>\n      <td>2.959350</td>\n      <td>123</td>\n    </tr>\n    <tr>\n      <th>37</th>\n      <td>Papdi Chaat</td>\n      <td>3.169811</td>\n      <td>159</td>\n    </tr>\n    <tr>\n      <th>38</th>\n      <td>Samosa Chaat</td>\n      <td>3.363636</td>\n      <td>143</td>\n    </tr>\n    <tr>\n      <th>40</th>\n      <td>Margherita Pizza</td>\n      <td>2.577586</td>\n      <td>116</td>\n    </tr>\n    <tr>\n      <th>41</th>\n      <td>Pasta</td>\n      <td>2.578947</td>\n      <td>114</td>\n    </tr>\n    <tr>\n      <th>42</th>\n      <td>Veg Pizza</td>\n      <td>2.834783</td>\n      <td>115</td>\n    </tr>\n    <tr>\n      <th>43</th>\n      <td>Garlic Bread</td>\n      <td>2.702970</td>\n      <td>101</td>\n    </tr>\n    <tr>\n      <th>44</th>\n      <td>Lassi</td>\n      <td>2.851485</td>\n      <td>101</td>\n    </tr>\n    <tr>\n      <th>45</th>\n      <td>Coffee</td>\n      <td>2.948387</td>\n      <td>155</td>\n    </tr>\n    <tr>\n      <th>46</th>\n      <td>Tea</td>\n      <td>2.770370</td>\n      <td>135</td>\n    </tr>\n    <tr>\n      <th>47</th>\n      <td>Cold Coffee</td>\n      <td>2.826087</td>\n      <td>115</td>\n    </tr>\n    <tr>\n      <th>49</th>\n      <td>Watermelon Juice</td>\n      <td>3.019608</td>\n      <td>102</td>\n    </tr>\n    <tr>\n      <th>50</th>\n      <td>Lemonade</td>\n      <td>2.917431</td>\n      <td>109</td>\n    </tr>\n  </tbody>\n</table>\n</div>"
          },
          "metadata": {}
        }
      ]
    },
    {
      "cell_type": "code",
      "source": "def calculate_score(row):\n    return [((row['num_rating']/(row['num_rating']+100))*row['avg_rating'])+((100/(row['num_rating']+100))*c)]",
      "metadata": {
        "trusted": true
      },
      "execution_count": 399,
      "outputs": []
    },
    {
      "cell_type": "code",
      "source": "popular_df['score']=popular_df.apply(calculate_score, axis=1)",
      "metadata": {
        "trusted": true
      },
      "execution_count": 400,
      "outputs": []
    },
    {
      "cell_type": "code",
      "source": "popular_df=popular_df.sort_values('score', ascending=False).head(10)",
      "metadata": {
        "trusted": true
      },
      "execution_count": 401,
      "outputs": []
    },
    {
      "cell_type": "code",
      "source": "popular_df.rename(columns={'Items':'Item_name'}, inplace=True)",
      "metadata": {
        "trusted": true
      },
      "execution_count": 402,
      "outputs": []
    },
    {
      "cell_type": "code",
      "source": "popular_df=popular_df.merge(content, on='Item_name')",
      "metadata": {
        "trusted": true
      },
      "execution_count": 403,
      "outputs": []
    },
    {
      "cell_type": "code",
      "source": "popular_df",
      "metadata": {
        "trusted": true
      },
      "execution_count": 404,
      "outputs": [
        {
          "execution_count": 404,
          "output_type": "execute_result",
          "data": {
            "text/plain": "       Item_name  avg_rating  num_rating                 score  Item_id  \\\n0   Chole Bature    3.505882         170  [3.2579738869341863]     18.0   \n1   Samosa Chaat    3.363636         143  [3.1467199566758453]     39.0   \n2     Bhurji Pav    3.400000         105  [3.1251363388889284]     36.0   \n3      Sada Dosa    3.307143         140   [3.111053956134293]     22.0   \n4     Samosa Pav    3.271084         166  [3.1077178551587608]     11.0   \n5    Masala Dosa    3.184211         152   [3.046241862985041]     23.0   \n6    Papdi Chaat    3.169811         159  [3.0411310790433603]     38.0   \n7  Schezwan Dosa    3.222222         108     [3.0367930263088]     26.0   \n8      Full Meal    3.157895         133  [3.0199697402241643]     29.0   \n9    Cheese Dosa    3.171171         111  [3.0125732202475373]     27.0   \n\n                                        Description         Category  \\\n0  A North Indian breakfast dish made with spiced...  All Day Snacks   \n1             A delicious blend of samosas and chaat   Chaat Counter   \n2               Scrambled egg dish served with bread     Egg Counter   \n3  Thin crispy pancake made from fermented rice a...    South Indian   \n4  A popular Indian street food snack consisting ...  All Day Snacks   \n5  Sada dosa filled with spiced potato filling an...    South Indian   \n6  A tangy and savory Indian snack made with flat...   Chaat Counter   \n7  Dosa filled with stir-fried vegetables in Sche...    South Indian   \n8      A complete meal consisting of multiple dishes           Meals   \n9  Dosa filled with grated cheese and served with...    South Indian   \n\n    Meal Type                                  Main ingredients  Availability  \\\n0       Lunch                      Chickpeas, flour, spices, oil    Available   \n1   Appetizer  Samosas (deep-fried triangular pastry filled w...    Available   \n2   Breakfast  Eggs, onion, tomato, green chili, bread, butte...    Available   \n3   Breakfast  Dosa (fermented rice and black gram batter), c...    Available   \n4  Small Eats           Potato, peas, flour, bread roll, chutney    Available   \n5   Breakfast  Dosa (fermented rice and black gram batter), s...    Available   \n6   Appetizer  Crisp papdis, boiled potatoes, chickpeas, yogu...    Available   \n7   Breakfast  Dosa (fermented rice and black gram batter), s...    Available   \n8       Lunch  Rice, bread, vegetables, lentils, salads, pick...    Available   \n9   Breakfast  Dosa (fermented rice and black gram batter), g...    Available   \n\n      Mood  Price                                              Image    Rating  \n0    Happy   51.0  https://firebasestorage.googleapis.com/v0/b/ca...  3.505882  \n1        x   46.0  https://wowjohn.com/wp-content/uploads/2022/05...  3.363636  \n2  Neutral   57.0  https://purepng.com/public/uploads/large/purep...  3.400000  \n3      Sad   46.0  https://firebasestorage.googleapis.com/v0/b/ca...  3.307143  \n4      Sus   17.0  https://firebasestorage.googleapis.com/v0/b/ca...  3.271084  \n5  Neutral   34.0  https://firebasestorage.googleapis.com/v0/b/ca...  3.184211  \n6    Happy   46.0  https://wowjohn.com/wp-content/uploads/2022/05...  3.169811  \n7        x   51.0  https://firebasestorage.googleapis.com/v0/b/ca...  3.222222  \n8        x   98.0  https://firebasestorage.googleapis.com/v0/b/ca...  3.157895  \n9        x   46.0  https://firebasestorage.googleapis.com/v0/b/ca...  3.171171  ",
            "text/html": "<div>\n<style scoped>\n    .dataframe tbody tr th:only-of-type {\n        vertical-align: middle;\n    }\n\n    .dataframe tbody tr th {\n        vertical-align: top;\n    }\n\n    .dataframe thead th {\n        text-align: right;\n    }\n</style>\n<table border=\"1\" class=\"dataframe\">\n  <thead>\n    <tr style=\"text-align: right;\">\n      <th></th>\n      <th>Item_name</th>\n      <th>avg_rating</th>\n      <th>num_rating</th>\n      <th>score</th>\n      <th>Item_id</th>\n      <th>Description</th>\n      <th>Category</th>\n      <th>Meal Type</th>\n      <th>Main ingredients</th>\n      <th>Availability</th>\n      <th>Mood</th>\n      <th>Price</th>\n      <th>Image</th>\n      <th>Rating</th>\n    </tr>\n  </thead>\n  <tbody>\n    <tr>\n      <th>0</th>\n      <td>Chole Bature</td>\n      <td>3.505882</td>\n      <td>170</td>\n      <td>[3.2579738869341863]</td>\n      <td>18.0</td>\n      <td>A North Indian breakfast dish made with spiced...</td>\n      <td>All Day Snacks</td>\n      <td>Lunch</td>\n      <td>Chickpeas, flour, spices, oil</td>\n      <td>Available</td>\n      <td>Happy</td>\n      <td>51.0</td>\n      <td>https://firebasestorage.googleapis.com/v0/b/ca...</td>\n      <td>3.505882</td>\n    </tr>\n    <tr>\n      <th>1</th>\n      <td>Samosa Chaat</td>\n      <td>3.363636</td>\n      <td>143</td>\n      <td>[3.1467199566758453]</td>\n      <td>39.0</td>\n      <td>A delicious blend of samosas and chaat</td>\n      <td>Chaat Counter</td>\n      <td>Appetizer</td>\n      <td>Samosas (deep-fried triangular pastry filled w...</td>\n      <td>Available</td>\n      <td>x</td>\n      <td>46.0</td>\n      <td>https://wowjohn.com/wp-content/uploads/2022/05...</td>\n      <td>3.363636</td>\n    </tr>\n    <tr>\n      <th>2</th>\n      <td>Bhurji Pav</td>\n      <td>3.400000</td>\n      <td>105</td>\n      <td>[3.1251363388889284]</td>\n      <td>36.0</td>\n      <td>Scrambled egg dish served with bread</td>\n      <td>Egg Counter</td>\n      <td>Breakfast</td>\n      <td>Eggs, onion, tomato, green chili, bread, butte...</td>\n      <td>Available</td>\n      <td>Neutral</td>\n      <td>57.0</td>\n      <td>https://purepng.com/public/uploads/large/purep...</td>\n      <td>3.400000</td>\n    </tr>\n    <tr>\n      <th>3</th>\n      <td>Sada Dosa</td>\n      <td>3.307143</td>\n      <td>140</td>\n      <td>[3.111053956134293]</td>\n      <td>22.0</td>\n      <td>Thin crispy pancake made from fermented rice a...</td>\n      <td>South Indian</td>\n      <td>Breakfast</td>\n      <td>Dosa (fermented rice and black gram batter), c...</td>\n      <td>Available</td>\n      <td>Sad</td>\n      <td>46.0</td>\n      <td>https://firebasestorage.googleapis.com/v0/b/ca...</td>\n      <td>3.307143</td>\n    </tr>\n    <tr>\n      <th>4</th>\n      <td>Samosa Pav</td>\n      <td>3.271084</td>\n      <td>166</td>\n      <td>[3.1077178551587608]</td>\n      <td>11.0</td>\n      <td>A popular Indian street food snack consisting ...</td>\n      <td>All Day Snacks</td>\n      <td>Small Eats</td>\n      <td>Potato, peas, flour, bread roll, chutney</td>\n      <td>Available</td>\n      <td>Sus</td>\n      <td>17.0</td>\n      <td>https://firebasestorage.googleapis.com/v0/b/ca...</td>\n      <td>3.271084</td>\n    </tr>\n    <tr>\n      <th>5</th>\n      <td>Masala Dosa</td>\n      <td>3.184211</td>\n      <td>152</td>\n      <td>[3.046241862985041]</td>\n      <td>23.0</td>\n      <td>Sada dosa filled with spiced potato filling an...</td>\n      <td>South Indian</td>\n      <td>Breakfast</td>\n      <td>Dosa (fermented rice and black gram batter), s...</td>\n      <td>Available</td>\n      <td>Neutral</td>\n      <td>34.0</td>\n      <td>https://firebasestorage.googleapis.com/v0/b/ca...</td>\n      <td>3.184211</td>\n    </tr>\n    <tr>\n      <th>6</th>\n      <td>Papdi Chaat</td>\n      <td>3.169811</td>\n      <td>159</td>\n      <td>[3.0411310790433603]</td>\n      <td>38.0</td>\n      <td>A tangy and savory Indian snack made with flat...</td>\n      <td>Chaat Counter</td>\n      <td>Appetizer</td>\n      <td>Crisp papdis, boiled potatoes, chickpeas, yogu...</td>\n      <td>Available</td>\n      <td>Happy</td>\n      <td>46.0</td>\n      <td>https://wowjohn.com/wp-content/uploads/2022/05...</td>\n      <td>3.169811</td>\n    </tr>\n    <tr>\n      <th>7</th>\n      <td>Schezwan Dosa</td>\n      <td>3.222222</td>\n      <td>108</td>\n      <td>[3.0367930263088]</td>\n      <td>26.0</td>\n      <td>Dosa filled with stir-fried vegetables in Sche...</td>\n      <td>South Indian</td>\n      <td>Breakfast</td>\n      <td>Dosa (fermented rice and black gram batter), s...</td>\n      <td>Available</td>\n      <td>x</td>\n      <td>51.0</td>\n      <td>https://firebasestorage.googleapis.com/v0/b/ca...</td>\n      <td>3.222222</td>\n    </tr>\n    <tr>\n      <th>8</th>\n      <td>Full Meal</td>\n      <td>3.157895</td>\n      <td>133</td>\n      <td>[3.0199697402241643]</td>\n      <td>29.0</td>\n      <td>A complete meal consisting of multiple dishes</td>\n      <td>Meals</td>\n      <td>Lunch</td>\n      <td>Rice, bread, vegetables, lentils, salads, pick...</td>\n      <td>Available</td>\n      <td>x</td>\n      <td>98.0</td>\n      <td>https://firebasestorage.googleapis.com/v0/b/ca...</td>\n      <td>3.157895</td>\n    </tr>\n    <tr>\n      <th>9</th>\n      <td>Cheese Dosa</td>\n      <td>3.171171</td>\n      <td>111</td>\n      <td>[3.0125732202475373]</td>\n      <td>27.0</td>\n      <td>Dosa filled with grated cheese and served with...</td>\n      <td>South Indian</td>\n      <td>Breakfast</td>\n      <td>Dosa (fermented rice and black gram batter), g...</td>\n      <td>Available</td>\n      <td>x</td>\n      <td>46.0</td>\n      <td>https://firebasestorage.googleapis.com/v0/b/ca...</td>\n      <td>3.171171</td>\n    </tr>\n  </tbody>\n</table>\n</div>"
          },
          "metadata": {}
        }
      ]
    },
    {
      "cell_type": "code",
      "source": "list(popular_df['Item_name'])",
      "metadata": {
        "trusted": true
      },
      "execution_count": 505,
      "outputs": [
        {
          "execution_count": 505,
          "output_type": "execute_result",
          "data": {
            "text/plain": "['Chole Bature',\n 'Samosa Chaat',\n 'Bhurji Pav',\n 'Sada Dosa',\n 'Samosa Pav',\n 'Masala Dosa',\n 'Papdi Chaat',\n 'Schezwan Dosa',\n 'Full Meal',\n 'Cheese Dosa']"
          },
          "metadata": {}
        }
      ]
    },
    {
      "cell_type": "code",
      "source": "import pickle",
      "metadata": {
        "trusted": true
      },
      "execution_count": 489,
      "outputs": []
    },
    {
      "cell_type": "code",
      "source": "pickle.dump(popular_df, open('popular.pkl','wb'))",
      "metadata": {
        "trusted": true
      },
      "execution_count": 31,
      "outputs": []
    },
    {
      "cell_type": "markdown",
      "source": "Collaborative Filtering ",
      "metadata": {}
    },
    {
      "cell_type": "code",
      "source": "from sklearn.metrics.pairwise import cosine_similarity",
      "metadata": {
        "trusted": true
      },
      "execution_count": 425,
      "outputs": []
    },
    {
      "cell_type": "code",
      "source": "items=pd.read_csv('ratings.csv')",
      "metadata": {
        "trusted": true
      },
      "execution_count": 426,
      "outputs": []
    },
    {
      "cell_type": "code",
      "source": "items",
      "metadata": {
        "trusted": true
      },
      "execution_count": 427,
      "outputs": [
        {
          "execution_count": 427,
          "output_type": "execute_result",
          "data": {
            "text/plain": "                          Items  1  2  3  4  5  6  7  8  9  ...  188  189  \\\n0         Cheese Grill Sandwich  0  4  0  0  0  2  0  0  0  ...    4    4   \n1               Cheese Sandwich  0  2  0  0  0  3  0  0  0  ...    1    3   \n2           Veg Grill Sandwich   0  3  0  0  0  3  0  3  0  ...    3    2   \n3            Vegetable Sandwich  0  1  0  0  0  3  0  0  0  ...    1    2   \n4              Toast Butter Jam  0  0  0  0  0  3  0  0  0  ...    0    2   \n5              Bread Butter Jam  0  1  0  0  0  3  0  0  0  ...    0    2   \n6   Veg & Cheese grill Sandwich  0  4  0  0  0  3  0  0  0  ...    0    2   \n7                         Poha   1  3  0  0  0  4  0  0  0  ...    0    1   \n8                          Upma  1  0  0  0  0  4  0  0  0  ...    0    3   \n9                      Wada Pav  1  3  3  2  3  5  4  3  2  ...    4    4   \n10                   Samosa Pav  2  2  3  3  3  5  0  3  3  ...    4    4   \n11                 Bread Pakoda  0  0  5  0  3  3  0  0  0  ...    3    4   \n12                    Misal Pav  2  2  5  0  0  4  3  0  0  ...    5    4   \n13               Dahi Misal Pav  0  0  0  0  0  3  0  0  0  ...    0    4   \n14                  Plain Maggi  3  4  5  1  5  3  4  5  2  ...    1    3   \n15                 Cheese Maggi  0  0  0  1  0  2  0  5  0  ...    1    2   \n16                    Pav Bhaji  2  3  3  3  4  3  0  5  0  ...    0    4   \n17                 Chole Bature  3  1  3  4  4  3  5  0  0  ...    5    4   \n18                Fruit Platter  0  0  0  0  5  3  0  5  4  ...    0    4   \n19                  Idli Sambar  2  3  0  0  4  3  0  4  0  ...    0    4   \n20            Medhu Wada Sambar  2  0  4  0  0  3  0  4  0  ...    4    4   \n21                    Sada Dosa  2  4  4  0  0  3  5  4  0  ...    0    4   \n22                  Masala Dosa  2  3  5  4  0  3  0  4  0  ...    5    4   \n23                  Mysore Dosa  2  0  0  4  0  3  4  4  0  ...    0    4   \n24           Mysore Masala Dosa  0  0  0  4  2  3  0  4  0  ...    0    4   \n25                Schezwan Dosa  0  0  0  4  5  3  0  4  4  ...    0    4   \n26                  Cheese Dosa  0  0  0  3  0  4  5  4  0  ...    0    4   \n27           Cheese Masala Dosa  0  0  0  4  0  4  0  4  0  ...    0    4   \n28                    Full Meal  0  4  0  0  0  3  0  0  0  ...    0    4   \n29                  Dal Khichdi  0  0  0  0  0  3  0  0  0  ...    0    4   \n30             Sabudana Khichdi  0  0  0  0  0  3  0  0  0  ...    0    3   \n31                 Aloo Paratha  0  3  0  0  0  3  0  3  0  ...    0    4   \n32               Paneer Paratha  0  0  0  0  0  3  0  0  0  ...    0    3   \n33                   Boiled Egg  0  3  0  0  4  3  0  0  0  ...    0    4   \n34                  Omlette Pav  0  4  0  0  0  3  0  3  4  ...    0    4   \n35                   Bhurji Pav  0  4  0  0  4  3  0  0  0  ...    0    4   \n36                     Sev Puri  2  2  0  4  0  0  0  0  0  ...    3    3   \n37                  Papdi Chaat  3  3  3  4  0  4  5  3  3  ...    3    3   \n38                 Samosa Chaat  3  2  3  4  5  4  5  0  0  ...    0    4   \n39                Kachori Chaat  0  0  0  0  0  4  0  0  0  ...    0    1   \n40             Margherita Pizza  2  3  2  2  0  1  0  0  0  ...    0    1   \n41                       Pasta   2  2  0  0  0  2  0  2  0  ...    1    1   \n42                    Veg Pizza  2  4  3  0  0  2  0  0  2  ...    1    4   \n43                 Garlic Bread  2  3  0  0  0  2  0  0  0  ...    1    2   \n44                       Lassi   3  4  3  0  4  2  0  0  3  ...    0    4   \n45                       Coffee  4  2  4  3  5  3  0  0  3  ...    0    0   \n46                          Tea  0  2  4  0  5  3  0  0  0  ...    0    3   \n47                  Cold Coffee  4  4  4  2  3  4  0  0  2  ...    0    3   \n48                   Buttermilk  4  2  0  0  0  3  0  0  0  ...    0    3   \n49             Watermelon Juice  3  4  0  0  5  3  0  0  0  ...    0    4   \n50                     Lemonade  4  2  0  0  4  3  0  0  0  ...    0    4   \n51              Pineaaple Juice  3  4  0  0  5  3  0  0  0  ...    0    3   \n\n    190  191  192  193  194  195  196  197  \n0     2    1    1    0    0    1    3    2  \n1     2    1    1    0    0    1    2    0  \n2     2    1    1    0    0    1    2    1  \n3     2    1    1    0    4    1    2    0  \n4     0    1    1    0    0    0    2    0  \n5     2    4    1    0    4    1    2    0  \n6     2    1    1    0    0    1    3    0  \n7     4    3    1    0    5    2    1    0  \n8     3    1    1    0    0    2    1    0  \n9     2    3    1    2    5    3    3    1  \n10    3    3    1    2    4    3    1    2  \n11    2    3    1    0    3    2    3    0  \n12    4    1    1    0    0    2    2    1  \n13    3    1    1    0    0    2    1    0  \n14    2    3    1    5    5    3    3    0  \n15    3    2    1    5    0    3    2    0  \n16    3    2    1    5    0    3    3    0  \n17    3    3    1    5    0    3    2    1  \n18    3    1    1    5    5    2    4    3  \n19    3    3    1    4    5    3    2    3  \n20    4    1    1    4    0    3    2    4  \n21    4    3    1    3    2    3    2    5  \n22    3    3    1    3    3    3    3    4  \n23    4    0    1    0    0    4    3    0  \n24    3    1    1    0    3    4    3    0  \n25    4    1    1    0    0    4    1    0  \n26    3    1    1    0    0    2    3    5  \n27    4    1    1    0    0    2    3    0  \n28    3    3    1    3    0    2    3    0  \n29    3    2    1    5    5    3    2    0  \n30    4    1    2    0    0    3    1    0  \n31    3    2    1    0    0    3    1    0  \n32    4    2    1    0    0    4    3    0  \n33    4    3    1    0    0    1    3    0  \n34    3    3    1    0    0    1    3    0  \n35    4    3    1    5    0    4    3    0  \n36    4    3    1    0    0    1    2    0  \n37    3    2    1    0    4    4    3    2  \n38    4    2    1    5    5    4    2    2  \n39    4    2    1    0    0    3    2    0  \n40    3    1    1    5    0    2    3    1  \n41    2    1    1    0    0    3    3    1  \n42    4    1    1    0    0    3    3    1  \n43    4    1    1    5    0    2    4    1  \n44    4    1    1    0    4    5    3    0  \n45    2    3    1    3    5    5    3    2  \n46    4    2    1    3    0    5    3    0  \n47    4    1    1    5    5    5    3    3  \n48    4    1    1    0    0    3    2    0  \n49    3    1    1    0    0    5    3    4  \n50    3    3    1    0    0    5    2    0  \n51    4    1    1    0    0    4    1    4  \n\n[52 rows x 198 columns]",
            "text/html": "<div>\n<style scoped>\n    .dataframe tbody tr th:only-of-type {\n        vertical-align: middle;\n    }\n\n    .dataframe tbody tr th {\n        vertical-align: top;\n    }\n\n    .dataframe thead th {\n        text-align: right;\n    }\n</style>\n<table border=\"1\" class=\"dataframe\">\n  <thead>\n    <tr style=\"text-align: right;\">\n      <th></th>\n      <th>Items</th>\n      <th>1</th>\n      <th>2</th>\n      <th>3</th>\n      <th>4</th>\n      <th>5</th>\n      <th>6</th>\n      <th>7</th>\n      <th>8</th>\n      <th>9</th>\n      <th>...</th>\n      <th>188</th>\n      <th>189</th>\n      <th>190</th>\n      <th>191</th>\n      <th>192</th>\n      <th>193</th>\n      <th>194</th>\n      <th>195</th>\n      <th>196</th>\n      <th>197</th>\n    </tr>\n  </thead>\n  <tbody>\n    <tr>\n      <th>0</th>\n      <td>Cheese Grill Sandwich</td>\n      <td>0</td>\n      <td>4</td>\n      <td>0</td>\n      <td>0</td>\n      <td>0</td>\n      <td>2</td>\n      <td>0</td>\n      <td>0</td>\n      <td>0</td>\n      <td>...</td>\n      <td>4</td>\n      <td>4</td>\n      <td>2</td>\n      <td>1</td>\n      <td>1</td>\n      <td>0</td>\n      <td>0</td>\n      <td>1</td>\n      <td>3</td>\n      <td>2</td>\n    </tr>\n    <tr>\n      <th>1</th>\n      <td>Cheese Sandwich</td>\n      <td>0</td>\n      <td>2</td>\n      <td>0</td>\n      <td>0</td>\n      <td>0</td>\n      <td>3</td>\n      <td>0</td>\n      <td>0</td>\n      <td>0</td>\n      <td>...</td>\n      <td>1</td>\n      <td>3</td>\n      <td>2</td>\n      <td>1</td>\n      <td>1</td>\n      <td>0</td>\n      <td>0</td>\n      <td>1</td>\n      <td>2</td>\n      <td>0</td>\n    </tr>\n    <tr>\n      <th>2</th>\n      <td>Veg Grill Sandwich</td>\n      <td>0</td>\n      <td>3</td>\n      <td>0</td>\n      <td>0</td>\n      <td>0</td>\n      <td>3</td>\n      <td>0</td>\n      <td>3</td>\n      <td>0</td>\n      <td>...</td>\n      <td>3</td>\n      <td>2</td>\n      <td>2</td>\n      <td>1</td>\n      <td>1</td>\n      <td>0</td>\n      <td>0</td>\n      <td>1</td>\n      <td>2</td>\n      <td>1</td>\n    </tr>\n    <tr>\n      <th>3</th>\n      <td>Vegetable Sandwich</td>\n      <td>0</td>\n      <td>1</td>\n      <td>0</td>\n      <td>0</td>\n      <td>0</td>\n      <td>3</td>\n      <td>0</td>\n      <td>0</td>\n      <td>0</td>\n      <td>...</td>\n      <td>1</td>\n      <td>2</td>\n      <td>2</td>\n      <td>1</td>\n      <td>1</td>\n      <td>0</td>\n      <td>4</td>\n      <td>1</td>\n      <td>2</td>\n      <td>0</td>\n    </tr>\n    <tr>\n      <th>4</th>\n      <td>Toast Butter Jam</td>\n      <td>0</td>\n      <td>0</td>\n      <td>0</td>\n      <td>0</td>\n      <td>0</td>\n      <td>3</td>\n      <td>0</td>\n      <td>0</td>\n      <td>0</td>\n      <td>...</td>\n      <td>0</td>\n      <td>2</td>\n      <td>0</td>\n      <td>1</td>\n      <td>1</td>\n      <td>0</td>\n      <td>0</td>\n      <td>0</td>\n      <td>2</td>\n      <td>0</td>\n    </tr>\n    <tr>\n      <th>5</th>\n      <td>Bread Butter Jam</td>\n      <td>0</td>\n      <td>1</td>\n      <td>0</td>\n      <td>0</td>\n      <td>0</td>\n      <td>3</td>\n      <td>0</td>\n      <td>0</td>\n      <td>0</td>\n      <td>...</td>\n      <td>0</td>\n      <td>2</td>\n      <td>2</td>\n      <td>4</td>\n      <td>1</td>\n      <td>0</td>\n      <td>4</td>\n      <td>1</td>\n      <td>2</td>\n      <td>0</td>\n    </tr>\n    <tr>\n      <th>6</th>\n      <td>Veg &amp; Cheese grill Sandwich</td>\n      <td>0</td>\n      <td>4</td>\n      <td>0</td>\n      <td>0</td>\n      <td>0</td>\n      <td>3</td>\n      <td>0</td>\n      <td>0</td>\n      <td>0</td>\n      <td>...</td>\n      <td>0</td>\n      <td>2</td>\n      <td>2</td>\n      <td>1</td>\n      <td>1</td>\n      <td>0</td>\n      <td>0</td>\n      <td>1</td>\n      <td>3</td>\n      <td>0</td>\n    </tr>\n    <tr>\n      <th>7</th>\n      <td>Poha</td>\n      <td>1</td>\n      <td>3</td>\n      <td>0</td>\n      <td>0</td>\n      <td>0</td>\n      <td>4</td>\n      <td>0</td>\n      <td>0</td>\n      <td>0</td>\n      <td>...</td>\n      <td>0</td>\n      <td>1</td>\n      <td>4</td>\n      <td>3</td>\n      <td>1</td>\n      <td>0</td>\n      <td>5</td>\n      <td>2</td>\n      <td>1</td>\n      <td>0</td>\n    </tr>\n    <tr>\n      <th>8</th>\n      <td>Upma</td>\n      <td>1</td>\n      <td>0</td>\n      <td>0</td>\n      <td>0</td>\n      <td>0</td>\n      <td>4</td>\n      <td>0</td>\n      <td>0</td>\n      <td>0</td>\n      <td>...</td>\n      <td>0</td>\n      <td>3</td>\n      <td>3</td>\n      <td>1</td>\n      <td>1</td>\n      <td>0</td>\n      <td>0</td>\n      <td>2</td>\n      <td>1</td>\n      <td>0</td>\n    </tr>\n    <tr>\n      <th>9</th>\n      <td>Wada Pav</td>\n      <td>1</td>\n      <td>3</td>\n      <td>3</td>\n      <td>2</td>\n      <td>3</td>\n      <td>5</td>\n      <td>4</td>\n      <td>3</td>\n      <td>2</td>\n      <td>...</td>\n      <td>4</td>\n      <td>4</td>\n      <td>2</td>\n      <td>3</td>\n      <td>1</td>\n      <td>2</td>\n      <td>5</td>\n      <td>3</td>\n      <td>3</td>\n      <td>1</td>\n    </tr>\n    <tr>\n      <th>10</th>\n      <td>Samosa Pav</td>\n      <td>2</td>\n      <td>2</td>\n      <td>3</td>\n      <td>3</td>\n      <td>3</td>\n      <td>5</td>\n      <td>0</td>\n      <td>3</td>\n      <td>3</td>\n      <td>...</td>\n      <td>4</td>\n      <td>4</td>\n      <td>3</td>\n      <td>3</td>\n      <td>1</td>\n      <td>2</td>\n      <td>4</td>\n      <td>3</td>\n      <td>1</td>\n      <td>2</td>\n    </tr>\n    <tr>\n      <th>11</th>\n      <td>Bread Pakoda</td>\n      <td>0</td>\n      <td>0</td>\n      <td>5</td>\n      <td>0</td>\n      <td>3</td>\n      <td>3</td>\n      <td>0</td>\n      <td>0</td>\n      <td>0</td>\n      <td>...</td>\n      <td>3</td>\n      <td>4</td>\n      <td>2</td>\n      <td>3</td>\n      <td>1</td>\n      <td>0</td>\n      <td>3</td>\n      <td>2</td>\n      <td>3</td>\n      <td>0</td>\n    </tr>\n    <tr>\n      <th>12</th>\n      <td>Misal Pav</td>\n      <td>2</td>\n      <td>2</td>\n      <td>5</td>\n      <td>0</td>\n      <td>0</td>\n      <td>4</td>\n      <td>3</td>\n      <td>0</td>\n      <td>0</td>\n      <td>...</td>\n      <td>5</td>\n      <td>4</td>\n      <td>4</td>\n      <td>1</td>\n      <td>1</td>\n      <td>0</td>\n      <td>0</td>\n      <td>2</td>\n      <td>2</td>\n      <td>1</td>\n    </tr>\n    <tr>\n      <th>13</th>\n      <td>Dahi Misal Pav</td>\n      <td>0</td>\n      <td>0</td>\n      <td>0</td>\n      <td>0</td>\n      <td>0</td>\n      <td>3</td>\n      <td>0</td>\n      <td>0</td>\n      <td>0</td>\n      <td>...</td>\n      <td>0</td>\n      <td>4</td>\n      <td>3</td>\n      <td>1</td>\n      <td>1</td>\n      <td>0</td>\n      <td>0</td>\n      <td>2</td>\n      <td>1</td>\n      <td>0</td>\n    </tr>\n    <tr>\n      <th>14</th>\n      <td>Plain Maggi</td>\n      <td>3</td>\n      <td>4</td>\n      <td>5</td>\n      <td>1</td>\n      <td>5</td>\n      <td>3</td>\n      <td>4</td>\n      <td>5</td>\n      <td>2</td>\n      <td>...</td>\n      <td>1</td>\n      <td>3</td>\n      <td>2</td>\n      <td>3</td>\n      <td>1</td>\n      <td>5</td>\n      <td>5</td>\n      <td>3</td>\n      <td>3</td>\n      <td>0</td>\n    </tr>\n    <tr>\n      <th>15</th>\n      <td>Cheese Maggi</td>\n      <td>0</td>\n      <td>0</td>\n      <td>0</td>\n      <td>1</td>\n      <td>0</td>\n      <td>2</td>\n      <td>0</td>\n      <td>5</td>\n      <td>0</td>\n      <td>...</td>\n      <td>1</td>\n      <td>2</td>\n      <td>3</td>\n      <td>2</td>\n      <td>1</td>\n      <td>5</td>\n      <td>0</td>\n      <td>3</td>\n      <td>2</td>\n      <td>0</td>\n    </tr>\n    <tr>\n      <th>16</th>\n      <td>Pav Bhaji</td>\n      <td>2</td>\n      <td>3</td>\n      <td>3</td>\n      <td>3</td>\n      <td>4</td>\n      <td>3</td>\n      <td>0</td>\n      <td>5</td>\n      <td>0</td>\n      <td>...</td>\n      <td>0</td>\n      <td>4</td>\n      <td>3</td>\n      <td>2</td>\n      <td>1</td>\n      <td>5</td>\n      <td>0</td>\n      <td>3</td>\n      <td>3</td>\n      <td>0</td>\n    </tr>\n    <tr>\n      <th>17</th>\n      <td>Chole Bature</td>\n      <td>3</td>\n      <td>1</td>\n      <td>3</td>\n      <td>4</td>\n      <td>4</td>\n      <td>3</td>\n      <td>5</td>\n      <td>0</td>\n      <td>0</td>\n      <td>...</td>\n      <td>5</td>\n      <td>4</td>\n      <td>3</td>\n      <td>3</td>\n      <td>1</td>\n      <td>5</td>\n      <td>0</td>\n      <td>3</td>\n      <td>2</td>\n      <td>1</td>\n    </tr>\n    <tr>\n      <th>18</th>\n      <td>Fruit Platter</td>\n      <td>0</td>\n      <td>0</td>\n      <td>0</td>\n      <td>0</td>\n      <td>5</td>\n      <td>3</td>\n      <td>0</td>\n      <td>5</td>\n      <td>4</td>\n      <td>...</td>\n      <td>0</td>\n      <td>4</td>\n      <td>3</td>\n      <td>1</td>\n      <td>1</td>\n      <td>5</td>\n      <td>5</td>\n      <td>2</td>\n      <td>4</td>\n      <td>3</td>\n    </tr>\n    <tr>\n      <th>19</th>\n      <td>Idli Sambar</td>\n      <td>2</td>\n      <td>3</td>\n      <td>0</td>\n      <td>0</td>\n      <td>4</td>\n      <td>3</td>\n      <td>0</td>\n      <td>4</td>\n      <td>0</td>\n      <td>...</td>\n      <td>0</td>\n      <td>4</td>\n      <td>3</td>\n      <td>3</td>\n      <td>1</td>\n      <td>4</td>\n      <td>5</td>\n      <td>3</td>\n      <td>2</td>\n      <td>3</td>\n    </tr>\n    <tr>\n      <th>20</th>\n      <td>Medhu Wada Sambar</td>\n      <td>2</td>\n      <td>0</td>\n      <td>4</td>\n      <td>0</td>\n      <td>0</td>\n      <td>3</td>\n      <td>0</td>\n      <td>4</td>\n      <td>0</td>\n      <td>...</td>\n      <td>4</td>\n      <td>4</td>\n      <td>4</td>\n      <td>1</td>\n      <td>1</td>\n      <td>4</td>\n      <td>0</td>\n      <td>3</td>\n      <td>2</td>\n      <td>4</td>\n    </tr>\n    <tr>\n      <th>21</th>\n      <td>Sada Dosa</td>\n      <td>2</td>\n      <td>4</td>\n      <td>4</td>\n      <td>0</td>\n      <td>0</td>\n      <td>3</td>\n      <td>5</td>\n      <td>4</td>\n      <td>0</td>\n      <td>...</td>\n      <td>0</td>\n      <td>4</td>\n      <td>4</td>\n      <td>3</td>\n      <td>1</td>\n      <td>3</td>\n      <td>2</td>\n      <td>3</td>\n      <td>2</td>\n      <td>5</td>\n    </tr>\n    <tr>\n      <th>22</th>\n      <td>Masala Dosa</td>\n      <td>2</td>\n      <td>3</td>\n      <td>5</td>\n      <td>4</td>\n      <td>0</td>\n      <td>3</td>\n      <td>0</td>\n      <td>4</td>\n      <td>0</td>\n      <td>...</td>\n      <td>5</td>\n      <td>4</td>\n      <td>3</td>\n      <td>3</td>\n      <td>1</td>\n      <td>3</td>\n      <td>3</td>\n      <td>3</td>\n      <td>3</td>\n      <td>4</td>\n    </tr>\n    <tr>\n      <th>23</th>\n      <td>Mysore Dosa</td>\n      <td>2</td>\n      <td>0</td>\n      <td>0</td>\n      <td>4</td>\n      <td>0</td>\n      <td>3</td>\n      <td>4</td>\n      <td>4</td>\n      <td>0</td>\n      <td>...</td>\n      <td>0</td>\n      <td>4</td>\n      <td>4</td>\n      <td>0</td>\n      <td>1</td>\n      <td>0</td>\n      <td>0</td>\n      <td>4</td>\n      <td>3</td>\n      <td>0</td>\n    </tr>\n    <tr>\n      <th>24</th>\n      <td>Mysore Masala Dosa</td>\n      <td>0</td>\n      <td>0</td>\n      <td>0</td>\n      <td>4</td>\n      <td>2</td>\n      <td>3</td>\n      <td>0</td>\n      <td>4</td>\n      <td>0</td>\n      <td>...</td>\n      <td>0</td>\n      <td>4</td>\n      <td>3</td>\n      <td>1</td>\n      <td>1</td>\n      <td>0</td>\n      <td>3</td>\n      <td>4</td>\n      <td>3</td>\n      <td>0</td>\n    </tr>\n    <tr>\n      <th>25</th>\n      <td>Schezwan Dosa</td>\n      <td>0</td>\n      <td>0</td>\n      <td>0</td>\n      <td>4</td>\n      <td>5</td>\n      <td>3</td>\n      <td>0</td>\n      <td>4</td>\n      <td>4</td>\n      <td>...</td>\n      <td>0</td>\n      <td>4</td>\n      <td>4</td>\n      <td>1</td>\n      <td>1</td>\n      <td>0</td>\n      <td>0</td>\n      <td>4</td>\n      <td>1</td>\n      <td>0</td>\n    </tr>\n    <tr>\n      <th>26</th>\n      <td>Cheese Dosa</td>\n      <td>0</td>\n      <td>0</td>\n      <td>0</td>\n      <td>3</td>\n      <td>0</td>\n      <td>4</td>\n      <td>5</td>\n      <td>4</td>\n      <td>0</td>\n      <td>...</td>\n      <td>0</td>\n      <td>4</td>\n      <td>3</td>\n      <td>1</td>\n      <td>1</td>\n      <td>0</td>\n      <td>0</td>\n      <td>2</td>\n      <td>3</td>\n      <td>5</td>\n    </tr>\n    <tr>\n      <th>27</th>\n      <td>Cheese Masala Dosa</td>\n      <td>0</td>\n      <td>0</td>\n      <td>0</td>\n      <td>4</td>\n      <td>0</td>\n      <td>4</td>\n      <td>0</td>\n      <td>4</td>\n      <td>0</td>\n      <td>...</td>\n      <td>0</td>\n      <td>4</td>\n      <td>4</td>\n      <td>1</td>\n      <td>1</td>\n      <td>0</td>\n      <td>0</td>\n      <td>2</td>\n      <td>3</td>\n      <td>0</td>\n    </tr>\n    <tr>\n      <th>28</th>\n      <td>Full Meal</td>\n      <td>0</td>\n      <td>4</td>\n      <td>0</td>\n      <td>0</td>\n      <td>0</td>\n      <td>3</td>\n      <td>0</td>\n      <td>0</td>\n      <td>0</td>\n      <td>...</td>\n      <td>0</td>\n      <td>4</td>\n      <td>3</td>\n      <td>3</td>\n      <td>1</td>\n      <td>3</td>\n      <td>0</td>\n      <td>2</td>\n      <td>3</td>\n      <td>0</td>\n    </tr>\n    <tr>\n      <th>29</th>\n      <td>Dal Khichdi</td>\n      <td>0</td>\n      <td>0</td>\n      <td>0</td>\n      <td>0</td>\n      <td>0</td>\n      <td>3</td>\n      <td>0</td>\n      <td>0</td>\n      <td>0</td>\n      <td>...</td>\n      <td>0</td>\n      <td>4</td>\n      <td>3</td>\n      <td>2</td>\n      <td>1</td>\n      <td>5</td>\n      <td>5</td>\n      <td>3</td>\n      <td>2</td>\n      <td>0</td>\n    </tr>\n    <tr>\n      <th>30</th>\n      <td>Sabudana Khichdi</td>\n      <td>0</td>\n      <td>0</td>\n      <td>0</td>\n      <td>0</td>\n      <td>0</td>\n      <td>3</td>\n      <td>0</td>\n      <td>0</td>\n      <td>0</td>\n      <td>...</td>\n      <td>0</td>\n      <td>3</td>\n      <td>4</td>\n      <td>1</td>\n      <td>2</td>\n      <td>0</td>\n      <td>0</td>\n      <td>3</td>\n      <td>1</td>\n      <td>0</td>\n    </tr>\n    <tr>\n      <th>31</th>\n      <td>Aloo Paratha</td>\n      <td>0</td>\n      <td>3</td>\n      <td>0</td>\n      <td>0</td>\n      <td>0</td>\n      <td>3</td>\n      <td>0</td>\n      <td>3</td>\n      <td>0</td>\n      <td>...</td>\n      <td>0</td>\n      <td>4</td>\n      <td>3</td>\n      <td>2</td>\n      <td>1</td>\n      <td>0</td>\n      <td>0</td>\n      <td>3</td>\n      <td>1</td>\n      <td>0</td>\n    </tr>\n    <tr>\n      <th>32</th>\n      <td>Paneer Paratha</td>\n      <td>0</td>\n      <td>0</td>\n      <td>0</td>\n      <td>0</td>\n      <td>0</td>\n      <td>3</td>\n      <td>0</td>\n      <td>0</td>\n      <td>0</td>\n      <td>...</td>\n      <td>0</td>\n      <td>3</td>\n      <td>4</td>\n      <td>2</td>\n      <td>1</td>\n      <td>0</td>\n      <td>0</td>\n      <td>4</td>\n      <td>3</td>\n      <td>0</td>\n    </tr>\n    <tr>\n      <th>33</th>\n      <td>Boiled Egg</td>\n      <td>0</td>\n      <td>3</td>\n      <td>0</td>\n      <td>0</td>\n      <td>4</td>\n      <td>3</td>\n      <td>0</td>\n      <td>0</td>\n      <td>0</td>\n      <td>...</td>\n      <td>0</td>\n      <td>4</td>\n      <td>4</td>\n      <td>3</td>\n      <td>1</td>\n      <td>0</td>\n      <td>0</td>\n      <td>1</td>\n      <td>3</td>\n      <td>0</td>\n    </tr>\n    <tr>\n      <th>34</th>\n      <td>Omlette Pav</td>\n      <td>0</td>\n      <td>4</td>\n      <td>0</td>\n      <td>0</td>\n      <td>0</td>\n      <td>3</td>\n      <td>0</td>\n      <td>3</td>\n      <td>4</td>\n      <td>...</td>\n      <td>0</td>\n      <td>4</td>\n      <td>3</td>\n      <td>3</td>\n      <td>1</td>\n      <td>0</td>\n      <td>0</td>\n      <td>1</td>\n      <td>3</td>\n      <td>0</td>\n    </tr>\n    <tr>\n      <th>35</th>\n      <td>Bhurji Pav</td>\n      <td>0</td>\n      <td>4</td>\n      <td>0</td>\n      <td>0</td>\n      <td>4</td>\n      <td>3</td>\n      <td>0</td>\n      <td>0</td>\n      <td>0</td>\n      <td>...</td>\n      <td>0</td>\n      <td>4</td>\n      <td>4</td>\n      <td>3</td>\n      <td>1</td>\n      <td>5</td>\n      <td>0</td>\n      <td>4</td>\n      <td>3</td>\n      <td>0</td>\n    </tr>\n    <tr>\n      <th>36</th>\n      <td>Sev Puri</td>\n      <td>2</td>\n      <td>2</td>\n      <td>0</td>\n      <td>4</td>\n      <td>0</td>\n      <td>0</td>\n      <td>0</td>\n      <td>0</td>\n      <td>0</td>\n      <td>...</td>\n      <td>3</td>\n      <td>3</td>\n      <td>4</td>\n      <td>3</td>\n      <td>1</td>\n      <td>0</td>\n      <td>0</td>\n      <td>1</td>\n      <td>2</td>\n      <td>0</td>\n    </tr>\n    <tr>\n      <th>37</th>\n      <td>Papdi Chaat</td>\n      <td>3</td>\n      <td>3</td>\n      <td>3</td>\n      <td>4</td>\n      <td>0</td>\n      <td>4</td>\n      <td>5</td>\n      <td>3</td>\n      <td>3</td>\n      <td>...</td>\n      <td>3</td>\n      <td>3</td>\n      <td>3</td>\n      <td>2</td>\n      <td>1</td>\n      <td>0</td>\n      <td>4</td>\n      <td>4</td>\n      <td>3</td>\n      <td>2</td>\n    </tr>\n    <tr>\n      <th>38</th>\n      <td>Samosa Chaat</td>\n      <td>3</td>\n      <td>2</td>\n      <td>3</td>\n      <td>4</td>\n      <td>5</td>\n      <td>4</td>\n      <td>5</td>\n      <td>0</td>\n      <td>0</td>\n      <td>...</td>\n      <td>0</td>\n      <td>4</td>\n      <td>4</td>\n      <td>2</td>\n      <td>1</td>\n      <td>5</td>\n      <td>5</td>\n      <td>4</td>\n      <td>2</td>\n      <td>2</td>\n    </tr>\n    <tr>\n      <th>39</th>\n      <td>Kachori Chaat</td>\n      <td>0</td>\n      <td>0</td>\n      <td>0</td>\n      <td>0</td>\n      <td>0</td>\n      <td>4</td>\n      <td>0</td>\n      <td>0</td>\n      <td>0</td>\n      <td>...</td>\n      <td>0</td>\n      <td>1</td>\n      <td>4</td>\n      <td>2</td>\n      <td>1</td>\n      <td>0</td>\n      <td>0</td>\n      <td>3</td>\n      <td>2</td>\n      <td>0</td>\n    </tr>\n    <tr>\n      <th>40</th>\n      <td>Margherita Pizza</td>\n      <td>2</td>\n      <td>3</td>\n      <td>2</td>\n      <td>2</td>\n      <td>0</td>\n      <td>1</td>\n      <td>0</td>\n      <td>0</td>\n      <td>0</td>\n      <td>...</td>\n      <td>0</td>\n      <td>1</td>\n      <td>3</td>\n      <td>1</td>\n      <td>1</td>\n      <td>5</td>\n      <td>0</td>\n      <td>2</td>\n      <td>3</td>\n      <td>1</td>\n    </tr>\n    <tr>\n      <th>41</th>\n      <td>Pasta</td>\n      <td>2</td>\n      <td>2</td>\n      <td>0</td>\n      <td>0</td>\n      <td>0</td>\n      <td>2</td>\n      <td>0</td>\n      <td>2</td>\n      <td>0</td>\n      <td>...</td>\n      <td>1</td>\n      <td>1</td>\n      <td>2</td>\n      <td>1</td>\n      <td>1</td>\n      <td>0</td>\n      <td>0</td>\n      <td>3</td>\n      <td>3</td>\n      <td>1</td>\n    </tr>\n    <tr>\n      <th>42</th>\n      <td>Veg Pizza</td>\n      <td>2</td>\n      <td>4</td>\n      <td>3</td>\n      <td>0</td>\n      <td>0</td>\n      <td>2</td>\n      <td>0</td>\n      <td>0</td>\n      <td>2</td>\n      <td>...</td>\n      <td>1</td>\n      <td>4</td>\n      <td>4</td>\n      <td>1</td>\n      <td>1</td>\n      <td>0</td>\n      <td>0</td>\n      <td>3</td>\n      <td>3</td>\n      <td>1</td>\n    </tr>\n    <tr>\n      <th>43</th>\n      <td>Garlic Bread</td>\n      <td>2</td>\n      <td>3</td>\n      <td>0</td>\n      <td>0</td>\n      <td>0</td>\n      <td>2</td>\n      <td>0</td>\n      <td>0</td>\n      <td>0</td>\n      <td>...</td>\n      <td>1</td>\n      <td>2</td>\n      <td>4</td>\n      <td>1</td>\n      <td>1</td>\n      <td>5</td>\n      <td>0</td>\n      <td>2</td>\n      <td>4</td>\n      <td>1</td>\n    </tr>\n    <tr>\n      <th>44</th>\n      <td>Lassi</td>\n      <td>3</td>\n      <td>4</td>\n      <td>3</td>\n      <td>0</td>\n      <td>4</td>\n      <td>2</td>\n      <td>0</td>\n      <td>0</td>\n      <td>3</td>\n      <td>...</td>\n      <td>0</td>\n      <td>4</td>\n      <td>4</td>\n      <td>1</td>\n      <td>1</td>\n      <td>0</td>\n      <td>4</td>\n      <td>5</td>\n      <td>3</td>\n      <td>0</td>\n    </tr>\n    <tr>\n      <th>45</th>\n      <td>Coffee</td>\n      <td>4</td>\n      <td>2</td>\n      <td>4</td>\n      <td>3</td>\n      <td>5</td>\n      <td>3</td>\n      <td>0</td>\n      <td>0</td>\n      <td>3</td>\n      <td>...</td>\n      <td>0</td>\n      <td>0</td>\n      <td>2</td>\n      <td>3</td>\n      <td>1</td>\n      <td>3</td>\n      <td>5</td>\n      <td>5</td>\n      <td>3</td>\n      <td>2</td>\n    </tr>\n    <tr>\n      <th>46</th>\n      <td>Tea</td>\n      <td>0</td>\n      <td>2</td>\n      <td>4</td>\n      <td>0</td>\n      <td>5</td>\n      <td>3</td>\n      <td>0</td>\n      <td>0</td>\n      <td>0</td>\n      <td>...</td>\n      <td>0</td>\n      <td>3</td>\n      <td>4</td>\n      <td>2</td>\n      <td>1</td>\n      <td>3</td>\n      <td>0</td>\n      <td>5</td>\n      <td>3</td>\n      <td>0</td>\n    </tr>\n    <tr>\n      <th>47</th>\n      <td>Cold Coffee</td>\n      <td>4</td>\n      <td>4</td>\n      <td>4</td>\n      <td>2</td>\n      <td>3</td>\n      <td>4</td>\n      <td>0</td>\n      <td>0</td>\n      <td>2</td>\n      <td>...</td>\n      <td>0</td>\n      <td>3</td>\n      <td>4</td>\n      <td>1</td>\n      <td>1</td>\n      <td>5</td>\n      <td>5</td>\n      <td>5</td>\n      <td>3</td>\n      <td>3</td>\n    </tr>\n    <tr>\n      <th>48</th>\n      <td>Buttermilk</td>\n      <td>4</td>\n      <td>2</td>\n      <td>0</td>\n      <td>0</td>\n      <td>0</td>\n      <td>3</td>\n      <td>0</td>\n      <td>0</td>\n      <td>0</td>\n      <td>...</td>\n      <td>0</td>\n      <td>3</td>\n      <td>4</td>\n      <td>1</td>\n      <td>1</td>\n      <td>0</td>\n      <td>0</td>\n      <td>3</td>\n      <td>2</td>\n      <td>0</td>\n    </tr>\n    <tr>\n      <th>49</th>\n      <td>Watermelon Juice</td>\n      <td>3</td>\n      <td>4</td>\n      <td>0</td>\n      <td>0</td>\n      <td>5</td>\n      <td>3</td>\n      <td>0</td>\n      <td>0</td>\n      <td>0</td>\n      <td>...</td>\n      <td>0</td>\n      <td>4</td>\n      <td>3</td>\n      <td>1</td>\n      <td>1</td>\n      <td>0</td>\n      <td>0</td>\n      <td>5</td>\n      <td>3</td>\n      <td>4</td>\n    </tr>\n    <tr>\n      <th>50</th>\n      <td>Lemonade</td>\n      <td>4</td>\n      <td>2</td>\n      <td>0</td>\n      <td>0</td>\n      <td>4</td>\n      <td>3</td>\n      <td>0</td>\n      <td>0</td>\n      <td>0</td>\n      <td>...</td>\n      <td>0</td>\n      <td>4</td>\n      <td>3</td>\n      <td>3</td>\n      <td>1</td>\n      <td>0</td>\n      <td>0</td>\n      <td>5</td>\n      <td>2</td>\n      <td>0</td>\n    </tr>\n    <tr>\n      <th>51</th>\n      <td>Pineaaple Juice</td>\n      <td>3</td>\n      <td>4</td>\n      <td>0</td>\n      <td>0</td>\n      <td>5</td>\n      <td>3</td>\n      <td>0</td>\n      <td>0</td>\n      <td>0</td>\n      <td>...</td>\n      <td>0</td>\n      <td>3</td>\n      <td>4</td>\n      <td>1</td>\n      <td>1</td>\n      <td>0</td>\n      <td>0</td>\n      <td>4</td>\n      <td>1</td>\n      <td>4</td>\n    </tr>\n  </tbody>\n</table>\n<p>52 rows × 198 columns</p>\n</div>"
          },
          "metadata": {}
        }
      ]
    },
    {
      "cell_type": "code",
      "source": "pt=items.pivot_table(index='Items')",
      "metadata": {
        "trusted": true
      },
      "execution_count": 428,
      "outputs": []
    },
    {
      "cell_type": "code",
      "source": "pt.fillna(0,inplace=True)",
      "metadata": {
        "trusted": true
      },
      "execution_count": 429,
      "outputs": []
    },
    {
      "cell_type": "code",
      "source": "pt.count(axis=0)",
      "metadata": {
        "trusted": true
      },
      "execution_count": 430,
      "outputs": [
        {
          "execution_count": 430,
          "output_type": "execute_result",
          "data": {
            "text/plain": "1      52\n10     52\n100    52\n101    52\n102    52\n       ..\n95     52\n96     52\n97     52\n98     52\n99     52\nLength: 197, dtype: int64"
          },
          "metadata": {}
        }
      ]
    },
    {
      "cell_type": "code",
      "source": "similarity_scores=cosine_similarity(pt)",
      "metadata": {
        "trusted": true
      },
      "execution_count": 431,
      "outputs": []
    },
    {
      "cell_type": "code",
      "source": "pt",
      "metadata": {
        "trusted": true
      },
      "execution_count": 432,
      "outputs": [
        {
          "execution_count": 432,
          "output_type": "execute_result",
          "data": {
            "text/plain": "                             1  10  100  101  102  103  104  105  106  107  \\\nItems                                                                        \nAloo Paratha                 0   0    0    3    0    0    1    0    0    0   \nBhurji Pav                   0   0    2    3    0    0    1    3    5    0   \nBoiled Egg                   0   0    0    0    0    0    1    3    0    0   \nBread Butter Jam             0   2    1    0    0    0    2    0    0    0   \nBread Pakoda                 0   3    3    3    0    3    2    2    5    0   \nButtermilk                   4   0    1    0    0    0    1    0    0    0   \nCheese Dosa                  0   0    1    4    0    0    2    0    5    2   \nCheese Grill Sandwich        0   3    1    2    0    0    2    0    0    2   \nCheese Maggi                 0   4    0    3    0    0    2    0    0    0   \nCheese Masala Dosa           0   0    1    4    0    0    2    0    0    3   \nCheese Sandwich              0   2    1    2    0    0    2    0    0    1   \nChole Bature                 3   3    2    4    5    4    1    4    5    2   \nCoffee                       4   0    1    4    1    1    1    0    4    0   \nCold Coffee                  4   0    1    3    0    0    1    5    3    0   \nDahi Misal Pav               0   0    0    0    0    0    2    0    0    0   \nDal Khichdi                  0   0    1    0    0    0    3    0    0    0   \nFruit Platter                0   0    0    3    0    0    1    0    0    0   \nFull Meal                    0   1    1    0    4    0    1    4    0    0   \nGarlic Bread                 2   0    0    3    0    0    1    0    0    0   \nIdli Sambar                  2   4    1    0    0    0    2    3    0    0   \nKachori Chaat                0   0    1    3    0    0    2    0    0    1   \nLassi                        3   0    1    0    0    0    2    0    0    1   \nLemonade                     4   0    1    0    0    0    1    1    0    0   \nMargherita Pizza             2   0    0    3    0    0    1    0    3    0   \nMasala Dosa                  2   0    1    4    3    3    2    0    0    2   \nMedhu Wada Sambar            2   0    2    0    0    0    2    0    0    0   \nMisal Pav                    2   4    3    3    4    0    2    0    1    0   \nMysore Dosa                  2   0    1    4    0    0    2    3    0    2   \nMysore Masala Dosa           0   0    1    4    0    0    2    0    0    2   \nOmlette Pav                  0   3    1    3    0    0    1    0    4    0   \nPaneer Paratha               0   0    0    0    0    0    0    0    0    0   \nPapdi Chaat                  3   2    1    3    3    0    2    0    4    1   \nPasta                        2   0    1    4    0    0    3    0    0    0   \nPav Bhaji                    2   2    2    4    4    0    1    5    2    2   \nPineaaple Juice              3   0    1    0    0    0    0    0    0    0   \nPlain Maggi                  3   4    2    3    3    0    2    5    0    0   \nPoha                         1   0    2    3    0    0    2    4    0    0   \nSabudana Khichdi             0   0    1    0    0    0    1    0    0    0   \nSada Dosa                    2   0    2    0    0    0    2    0    0    0   \nSamosa Chaat                 3   0    1    3    3    3    2    0    0    2   \nSamosa Pav                   2   0    1    4    4    2    3    4    4    1   \nSchezwan Dosa                0   0    1    4    0    3    2    0    5    3   \nSev Puri                     2   3    1    3    0    0    2    0    0    1   \nTea                          0   4    1    4    3    0    1    0    0    0   \nToast Butter Jam             0   2    1    0    0    0    2    0    0    0   \nUpma                         1   0    2    0    0    0    2    0    0    0   \nVeg & Cheese grill Sandwich  0   2    1    0    0    1    2    0    0    0   \nVeg Grill Sandwich           0   3    1    3    0    0    2    0    0    1   \nVeg Pizza                    2   0    3    2    4    0    1    0    4    0   \nVegetable Sandwich           0   3    1    2    0    0    2    0    0    0   \nWada Pav                     1   5    1    3    3    2    3    4    3    1   \nWatermelon Juice             3   0    1    0    0    0    1    0    0    0   \n\n                             ...  90  91  92  93  94  95  96  97  98  99  \nItems                        ...                                          \nAloo Paratha                 ...   0   0   3   0   3   0   4   5   0   0  \nBhurji Pav                   ...   3   0   4   0   3   0   2   3   5   0  \nBoiled Egg                   ...   0   0   4   0   2   0   2   3   0   0  \nBread Butter Jam             ...   0   0   1   0   3   0   2   3   3   0  \nBread Pakoda                 ...   3   0   4   5   3   4   3   2   0   0  \nButtermilk                   ...   3   0   3   0   4   0   5   4   0   0  \nCheese Dosa                  ...   0   0   3   0   3   0   3   3   0   0  \nCheese Grill Sandwich        ...   0   0   1   0   2   0   3   1   1   0  \nCheese Maggi                 ...   3   1   0   0   3   0   3   1   0   4  \nCheese Masala Dosa           ...   0   0   3   0   3   0   3   4   0   0  \nCheese Sandwich              ...   0   0   1   0   3   3   3   1   0   0  \nChole Bature                 ...   4   0   5   5   3   5   3   5   2   3  \nCoffee                       ...   3   3   3   0   3   4   5   2   0   0  \nCold Coffee                  ...   0   0   3   4   3   0   5   4   0   0  \nDahi Misal Pav               ...   4   0   3   0   3   0   3   1   0   0  \nDal Khichdi                  ...   0   0   3   0   4   0   4   5   0   2  \nFruit Platter                ...   0   0   3   0   3   0   4   3   0   0  \nFull Meal                    ...   0   1   4   5   3   0   4   5   0   3  \nGarlic Bread                 ...   0   0   4   0   4   0   3   1   2   0  \nIdli Sambar                  ...   3   0   3   5   3   0   4   1   0   0  \nKachori Chaat                ...   4   0   4   0   4   5   2   0   0   0  \nLassi                        ...   3   0   3   0   3   2   5   3   0   0  \nLemonade                     ...   0   0   5   0   3   0   5   1   0   0  \nMargherita Pizza             ...   0   0   0   0   2   0   4   1   2   0  \nMasala Dosa                  ...   4   0   4   0   4   0   4   4   5   3  \nMedhu Wada Sambar            ...   4   0   4   5   3   0   4   1   0   0  \nMisal Pav                    ...   0   2   4   5   3   4   2   2   3   3  \nMysore Dosa                  ...   2   0   4   0   4   0   2   3   0   0  \nMysore Masala Dosa           ...   4   0   4   0   3   0   1   2   0   0  \nOmlette Pav                  ...   0   0   4   0   2   0   2   3   3   0  \nPaneer Paratha               ...   0   0   3   0   4   0   4   5   0   0  \nPapdi Chaat                  ...   4   2   4   0   4   5   3   4   0   3  \nPasta                        ...   0   0   4   0   3   1   2   1   4   4  \nPav Bhaji                    ...   3   2   5   3   4   0   2   4   3   3  \nPineaaple Juice              ...   0   0   3   0   3   0   5   1   0   0  \nPlain Maggi                  ...   4   1   5   0   4   0   3   1   0   3  \nPoha                         ...   0   0   3   4   2   0   2   3   0   0  \nSabudana Khichdi             ...   0   0   3   0   2   0   4   5   0   0  \nSada Dosa                    ...   4   0   4   0   4   0   4   5   0   3  \nSamosa Chaat                 ...   4   2   4   5   3   5   2   5   4   3  \nSamosa Pav                   ...   4   2   4   5   4   5   1   3   4   4  \nSchezwan Dosa                ...   0   0   3   0   3   0   1   5   0   0  \nSev Puri                     ...   4   0   3   0   3   5   2   3   0   3  \nTea                          ...   0   3   3   0   4   0   5   2   0   5  \nToast Butter Jam             ...   0   0   3   0   2   0   2   3   4   0  \nUpma                         ...   0   0   3   0   2   0   2   3   0   0  \nVeg & Cheese grill Sandwich  ...   0   0   1   0   3   0   2   3   3   0  \nVeg Grill Sandwich           ...   0   0   1   0   3   0   2   1   0   0  \nVeg Pizza                    ...   0   0   4   0   3   3   3   1   2   0  \nVegetable Sandwich           ...   0   0   1   0   4   0   2   2   2   0  \nWada Pav                     ...   4   1   4   3   3   5   4   1   0   3  \nWatermelon Juice             ...   0   0   3   0   3   0   5   1   0   0  \n\n[52 rows x 197 columns]",
            "text/html": "<div>\n<style scoped>\n    .dataframe tbody tr th:only-of-type {\n        vertical-align: middle;\n    }\n\n    .dataframe tbody tr th {\n        vertical-align: top;\n    }\n\n    .dataframe thead th {\n        text-align: right;\n    }\n</style>\n<table border=\"1\" class=\"dataframe\">\n  <thead>\n    <tr style=\"text-align: right;\">\n      <th></th>\n      <th>1</th>\n      <th>10</th>\n      <th>100</th>\n      <th>101</th>\n      <th>102</th>\n      <th>103</th>\n      <th>104</th>\n      <th>105</th>\n      <th>106</th>\n      <th>107</th>\n      <th>...</th>\n      <th>90</th>\n      <th>91</th>\n      <th>92</th>\n      <th>93</th>\n      <th>94</th>\n      <th>95</th>\n      <th>96</th>\n      <th>97</th>\n      <th>98</th>\n      <th>99</th>\n    </tr>\n    <tr>\n      <th>Items</th>\n      <th></th>\n      <th></th>\n      <th></th>\n      <th></th>\n      <th></th>\n      <th></th>\n      <th></th>\n      <th></th>\n      <th></th>\n      <th></th>\n      <th></th>\n      <th></th>\n      <th></th>\n      <th></th>\n      <th></th>\n      <th></th>\n      <th></th>\n      <th></th>\n      <th></th>\n      <th></th>\n      <th></th>\n    </tr>\n  </thead>\n  <tbody>\n    <tr>\n      <th>Aloo Paratha</th>\n      <td>0</td>\n      <td>0</td>\n      <td>0</td>\n      <td>3</td>\n      <td>0</td>\n      <td>0</td>\n      <td>1</td>\n      <td>0</td>\n      <td>0</td>\n      <td>0</td>\n      <td>...</td>\n      <td>0</td>\n      <td>0</td>\n      <td>3</td>\n      <td>0</td>\n      <td>3</td>\n      <td>0</td>\n      <td>4</td>\n      <td>5</td>\n      <td>0</td>\n      <td>0</td>\n    </tr>\n    <tr>\n      <th>Bhurji Pav</th>\n      <td>0</td>\n      <td>0</td>\n      <td>2</td>\n      <td>3</td>\n      <td>0</td>\n      <td>0</td>\n      <td>1</td>\n      <td>3</td>\n      <td>5</td>\n      <td>0</td>\n      <td>...</td>\n      <td>3</td>\n      <td>0</td>\n      <td>4</td>\n      <td>0</td>\n      <td>3</td>\n      <td>0</td>\n      <td>2</td>\n      <td>3</td>\n      <td>5</td>\n      <td>0</td>\n    </tr>\n    <tr>\n      <th>Boiled Egg</th>\n      <td>0</td>\n      <td>0</td>\n      <td>0</td>\n      <td>0</td>\n      <td>0</td>\n      <td>0</td>\n      <td>1</td>\n      <td>3</td>\n      <td>0</td>\n      <td>0</td>\n      <td>...</td>\n      <td>0</td>\n      <td>0</td>\n      <td>4</td>\n      <td>0</td>\n      <td>2</td>\n      <td>0</td>\n      <td>2</td>\n      <td>3</td>\n      <td>0</td>\n      <td>0</td>\n    </tr>\n    <tr>\n      <th>Bread Butter Jam</th>\n      <td>0</td>\n      <td>2</td>\n      <td>1</td>\n      <td>0</td>\n      <td>0</td>\n      <td>0</td>\n      <td>2</td>\n      <td>0</td>\n      <td>0</td>\n      <td>0</td>\n      <td>...</td>\n      <td>0</td>\n      <td>0</td>\n      <td>1</td>\n      <td>0</td>\n      <td>3</td>\n      <td>0</td>\n      <td>2</td>\n      <td>3</td>\n      <td>3</td>\n      <td>0</td>\n    </tr>\n    <tr>\n      <th>Bread Pakoda</th>\n      <td>0</td>\n      <td>3</td>\n      <td>3</td>\n      <td>3</td>\n      <td>0</td>\n      <td>3</td>\n      <td>2</td>\n      <td>2</td>\n      <td>5</td>\n      <td>0</td>\n      <td>...</td>\n      <td>3</td>\n      <td>0</td>\n      <td>4</td>\n      <td>5</td>\n      <td>3</td>\n      <td>4</td>\n      <td>3</td>\n      <td>2</td>\n      <td>0</td>\n      <td>0</td>\n    </tr>\n    <tr>\n      <th>Buttermilk</th>\n      <td>4</td>\n      <td>0</td>\n      <td>1</td>\n      <td>0</td>\n      <td>0</td>\n      <td>0</td>\n      <td>1</td>\n      <td>0</td>\n      <td>0</td>\n      <td>0</td>\n      <td>...</td>\n      <td>3</td>\n      <td>0</td>\n      <td>3</td>\n      <td>0</td>\n      <td>4</td>\n      <td>0</td>\n      <td>5</td>\n      <td>4</td>\n      <td>0</td>\n      <td>0</td>\n    </tr>\n    <tr>\n      <th>Cheese Dosa</th>\n      <td>0</td>\n      <td>0</td>\n      <td>1</td>\n      <td>4</td>\n      <td>0</td>\n      <td>0</td>\n      <td>2</td>\n      <td>0</td>\n      <td>5</td>\n      <td>2</td>\n      <td>...</td>\n      <td>0</td>\n      <td>0</td>\n      <td>3</td>\n      <td>0</td>\n      <td>3</td>\n      <td>0</td>\n      <td>3</td>\n      <td>3</td>\n      <td>0</td>\n      <td>0</td>\n    </tr>\n    <tr>\n      <th>Cheese Grill Sandwich</th>\n      <td>0</td>\n      <td>3</td>\n      <td>1</td>\n      <td>2</td>\n      <td>0</td>\n      <td>0</td>\n      <td>2</td>\n      <td>0</td>\n      <td>0</td>\n      <td>2</td>\n      <td>...</td>\n      <td>0</td>\n      <td>0</td>\n      <td>1</td>\n      <td>0</td>\n      <td>2</td>\n      <td>0</td>\n      <td>3</td>\n      <td>1</td>\n      <td>1</td>\n      <td>0</td>\n    </tr>\n    <tr>\n      <th>Cheese Maggi</th>\n      <td>0</td>\n      <td>4</td>\n      <td>0</td>\n      <td>3</td>\n      <td>0</td>\n      <td>0</td>\n      <td>2</td>\n      <td>0</td>\n      <td>0</td>\n      <td>0</td>\n      <td>...</td>\n      <td>3</td>\n      <td>1</td>\n      <td>0</td>\n      <td>0</td>\n      <td>3</td>\n      <td>0</td>\n      <td>3</td>\n      <td>1</td>\n      <td>0</td>\n      <td>4</td>\n    </tr>\n    <tr>\n      <th>Cheese Masala Dosa</th>\n      <td>0</td>\n      <td>0</td>\n      <td>1</td>\n      <td>4</td>\n      <td>0</td>\n      <td>0</td>\n      <td>2</td>\n      <td>0</td>\n      <td>0</td>\n      <td>3</td>\n      <td>...</td>\n      <td>0</td>\n      <td>0</td>\n      <td>3</td>\n      <td>0</td>\n      <td>3</td>\n      <td>0</td>\n      <td>3</td>\n      <td>4</td>\n      <td>0</td>\n      <td>0</td>\n    </tr>\n    <tr>\n      <th>Cheese Sandwich</th>\n      <td>0</td>\n      <td>2</td>\n      <td>1</td>\n      <td>2</td>\n      <td>0</td>\n      <td>0</td>\n      <td>2</td>\n      <td>0</td>\n      <td>0</td>\n      <td>1</td>\n      <td>...</td>\n      <td>0</td>\n      <td>0</td>\n      <td>1</td>\n      <td>0</td>\n      <td>3</td>\n      <td>3</td>\n      <td>3</td>\n      <td>1</td>\n      <td>0</td>\n      <td>0</td>\n    </tr>\n    <tr>\n      <th>Chole Bature</th>\n      <td>3</td>\n      <td>3</td>\n      <td>2</td>\n      <td>4</td>\n      <td>5</td>\n      <td>4</td>\n      <td>1</td>\n      <td>4</td>\n      <td>5</td>\n      <td>2</td>\n      <td>...</td>\n      <td>4</td>\n      <td>0</td>\n      <td>5</td>\n      <td>5</td>\n      <td>3</td>\n      <td>5</td>\n      <td>3</td>\n      <td>5</td>\n      <td>2</td>\n      <td>3</td>\n    </tr>\n    <tr>\n      <th>Coffee</th>\n      <td>4</td>\n      <td>0</td>\n      <td>1</td>\n      <td>4</td>\n      <td>1</td>\n      <td>1</td>\n      <td>1</td>\n      <td>0</td>\n      <td>4</td>\n      <td>0</td>\n      <td>...</td>\n      <td>3</td>\n      <td>3</td>\n      <td>3</td>\n      <td>0</td>\n      <td>3</td>\n      <td>4</td>\n      <td>5</td>\n      <td>2</td>\n      <td>0</td>\n      <td>0</td>\n    </tr>\n    <tr>\n      <th>Cold Coffee</th>\n      <td>4</td>\n      <td>0</td>\n      <td>1</td>\n      <td>3</td>\n      <td>0</td>\n      <td>0</td>\n      <td>1</td>\n      <td>5</td>\n      <td>3</td>\n      <td>0</td>\n      <td>...</td>\n      <td>0</td>\n      <td>0</td>\n      <td>3</td>\n      <td>4</td>\n      <td>3</td>\n      <td>0</td>\n      <td>5</td>\n      <td>4</td>\n      <td>0</td>\n      <td>0</td>\n    </tr>\n    <tr>\n      <th>Dahi Misal Pav</th>\n      <td>0</td>\n      <td>0</td>\n      <td>0</td>\n      <td>0</td>\n      <td>0</td>\n      <td>0</td>\n      <td>2</td>\n      <td>0</td>\n      <td>0</td>\n      <td>0</td>\n      <td>...</td>\n      <td>4</td>\n      <td>0</td>\n      <td>3</td>\n      <td>0</td>\n      <td>3</td>\n      <td>0</td>\n      <td>3</td>\n      <td>1</td>\n      <td>0</td>\n      <td>0</td>\n    </tr>\n    <tr>\n      <th>Dal Khichdi</th>\n      <td>0</td>\n      <td>0</td>\n      <td>1</td>\n      <td>0</td>\n      <td>0</td>\n      <td>0</td>\n      <td>3</td>\n      <td>0</td>\n      <td>0</td>\n      <td>0</td>\n      <td>...</td>\n      <td>0</td>\n      <td>0</td>\n      <td>3</td>\n      <td>0</td>\n      <td>4</td>\n      <td>0</td>\n      <td>4</td>\n      <td>5</td>\n      <td>0</td>\n      <td>2</td>\n    </tr>\n    <tr>\n      <th>Fruit Platter</th>\n      <td>0</td>\n      <td>0</td>\n      <td>0</td>\n      <td>3</td>\n      <td>0</td>\n      <td>0</td>\n      <td>1</td>\n      <td>0</td>\n      <td>0</td>\n      <td>0</td>\n      <td>...</td>\n      <td>0</td>\n      <td>0</td>\n      <td>3</td>\n      <td>0</td>\n      <td>3</td>\n      <td>0</td>\n      <td>4</td>\n      <td>3</td>\n      <td>0</td>\n      <td>0</td>\n    </tr>\n    <tr>\n      <th>Full Meal</th>\n      <td>0</td>\n      <td>1</td>\n      <td>1</td>\n      <td>0</td>\n      <td>4</td>\n      <td>0</td>\n      <td>1</td>\n      <td>4</td>\n      <td>0</td>\n      <td>0</td>\n      <td>...</td>\n      <td>0</td>\n      <td>1</td>\n      <td>4</td>\n      <td>5</td>\n      <td>3</td>\n      <td>0</td>\n      <td>4</td>\n      <td>5</td>\n      <td>0</td>\n      <td>3</td>\n    </tr>\n    <tr>\n      <th>Garlic Bread</th>\n      <td>2</td>\n      <td>0</td>\n      <td>0</td>\n      <td>3</td>\n      <td>0</td>\n      <td>0</td>\n      <td>1</td>\n      <td>0</td>\n      <td>0</td>\n      <td>0</td>\n      <td>...</td>\n      <td>0</td>\n      <td>0</td>\n      <td>4</td>\n      <td>0</td>\n      <td>4</td>\n      <td>0</td>\n      <td>3</td>\n      <td>1</td>\n      <td>2</td>\n      <td>0</td>\n    </tr>\n    <tr>\n      <th>Idli Sambar</th>\n      <td>2</td>\n      <td>4</td>\n      <td>1</td>\n      <td>0</td>\n      <td>0</td>\n      <td>0</td>\n      <td>2</td>\n      <td>3</td>\n      <td>0</td>\n      <td>0</td>\n      <td>...</td>\n      <td>3</td>\n      <td>0</td>\n      <td>3</td>\n      <td>5</td>\n      <td>3</td>\n      <td>0</td>\n      <td>4</td>\n      <td>1</td>\n      <td>0</td>\n      <td>0</td>\n    </tr>\n    <tr>\n      <th>Kachori Chaat</th>\n      <td>0</td>\n      <td>0</td>\n      <td>1</td>\n      <td>3</td>\n      <td>0</td>\n      <td>0</td>\n      <td>2</td>\n      <td>0</td>\n      <td>0</td>\n      <td>1</td>\n      <td>...</td>\n      <td>4</td>\n      <td>0</td>\n      <td>4</td>\n      <td>0</td>\n      <td>4</td>\n      <td>5</td>\n      <td>2</td>\n      <td>0</td>\n      <td>0</td>\n      <td>0</td>\n    </tr>\n    <tr>\n      <th>Lassi</th>\n      <td>3</td>\n      <td>0</td>\n      <td>1</td>\n      <td>0</td>\n      <td>0</td>\n      <td>0</td>\n      <td>2</td>\n      <td>0</td>\n      <td>0</td>\n      <td>1</td>\n      <td>...</td>\n      <td>3</td>\n      <td>0</td>\n      <td>3</td>\n      <td>0</td>\n      <td>3</td>\n      <td>2</td>\n      <td>5</td>\n      <td>3</td>\n      <td>0</td>\n      <td>0</td>\n    </tr>\n    <tr>\n      <th>Lemonade</th>\n      <td>4</td>\n      <td>0</td>\n      <td>1</td>\n      <td>0</td>\n      <td>0</td>\n      <td>0</td>\n      <td>1</td>\n      <td>1</td>\n      <td>0</td>\n      <td>0</td>\n      <td>...</td>\n      <td>0</td>\n      <td>0</td>\n      <td>5</td>\n      <td>0</td>\n      <td>3</td>\n      <td>0</td>\n      <td>5</td>\n      <td>1</td>\n      <td>0</td>\n      <td>0</td>\n    </tr>\n    <tr>\n      <th>Margherita Pizza</th>\n      <td>2</td>\n      <td>0</td>\n      <td>0</td>\n      <td>3</td>\n      <td>0</td>\n      <td>0</td>\n      <td>1</td>\n      <td>0</td>\n      <td>3</td>\n      <td>0</td>\n      <td>...</td>\n      <td>0</td>\n      <td>0</td>\n      <td>0</td>\n      <td>0</td>\n      <td>2</td>\n      <td>0</td>\n      <td>4</td>\n      <td>1</td>\n      <td>2</td>\n      <td>0</td>\n    </tr>\n    <tr>\n      <th>Masala Dosa</th>\n      <td>2</td>\n      <td>0</td>\n      <td>1</td>\n      <td>4</td>\n      <td>3</td>\n      <td>3</td>\n      <td>2</td>\n      <td>0</td>\n      <td>0</td>\n      <td>2</td>\n      <td>...</td>\n      <td>4</td>\n      <td>0</td>\n      <td>4</td>\n      <td>0</td>\n      <td>4</td>\n      <td>0</td>\n      <td>4</td>\n      <td>4</td>\n      <td>5</td>\n      <td>3</td>\n    </tr>\n    <tr>\n      <th>Medhu Wada Sambar</th>\n      <td>2</td>\n      <td>0</td>\n      <td>2</td>\n      <td>0</td>\n      <td>0</td>\n      <td>0</td>\n      <td>2</td>\n      <td>0</td>\n      <td>0</td>\n      <td>0</td>\n      <td>...</td>\n      <td>4</td>\n      <td>0</td>\n      <td>4</td>\n      <td>5</td>\n      <td>3</td>\n      <td>0</td>\n      <td>4</td>\n      <td>1</td>\n      <td>0</td>\n      <td>0</td>\n    </tr>\n    <tr>\n      <th>Misal Pav</th>\n      <td>2</td>\n      <td>4</td>\n      <td>3</td>\n      <td>3</td>\n      <td>4</td>\n      <td>0</td>\n      <td>2</td>\n      <td>0</td>\n      <td>1</td>\n      <td>0</td>\n      <td>...</td>\n      <td>0</td>\n      <td>2</td>\n      <td>4</td>\n      <td>5</td>\n      <td>3</td>\n      <td>4</td>\n      <td>2</td>\n      <td>2</td>\n      <td>3</td>\n      <td>3</td>\n    </tr>\n    <tr>\n      <th>Mysore Dosa</th>\n      <td>2</td>\n      <td>0</td>\n      <td>1</td>\n      <td>4</td>\n      <td>0</td>\n      <td>0</td>\n      <td>2</td>\n      <td>3</td>\n      <td>0</td>\n      <td>2</td>\n      <td>...</td>\n      <td>2</td>\n      <td>0</td>\n      <td>4</td>\n      <td>0</td>\n      <td>4</td>\n      <td>0</td>\n      <td>2</td>\n      <td>3</td>\n      <td>0</td>\n      <td>0</td>\n    </tr>\n    <tr>\n      <th>Mysore Masala Dosa</th>\n      <td>0</td>\n      <td>0</td>\n      <td>1</td>\n      <td>4</td>\n      <td>0</td>\n      <td>0</td>\n      <td>2</td>\n      <td>0</td>\n      <td>0</td>\n      <td>2</td>\n      <td>...</td>\n      <td>4</td>\n      <td>0</td>\n      <td>4</td>\n      <td>0</td>\n      <td>3</td>\n      <td>0</td>\n      <td>1</td>\n      <td>2</td>\n      <td>0</td>\n      <td>0</td>\n    </tr>\n    <tr>\n      <th>Omlette Pav</th>\n      <td>0</td>\n      <td>3</td>\n      <td>1</td>\n      <td>3</td>\n      <td>0</td>\n      <td>0</td>\n      <td>1</td>\n      <td>0</td>\n      <td>4</td>\n      <td>0</td>\n      <td>...</td>\n      <td>0</td>\n      <td>0</td>\n      <td>4</td>\n      <td>0</td>\n      <td>2</td>\n      <td>0</td>\n      <td>2</td>\n      <td>3</td>\n      <td>3</td>\n      <td>0</td>\n    </tr>\n    <tr>\n      <th>Paneer Paratha</th>\n      <td>0</td>\n      <td>0</td>\n      <td>0</td>\n      <td>0</td>\n      <td>0</td>\n      <td>0</td>\n      <td>0</td>\n      <td>0</td>\n      <td>0</td>\n      <td>0</td>\n      <td>...</td>\n      <td>0</td>\n      <td>0</td>\n      <td>3</td>\n      <td>0</td>\n      <td>4</td>\n      <td>0</td>\n      <td>4</td>\n      <td>5</td>\n      <td>0</td>\n      <td>0</td>\n    </tr>\n    <tr>\n      <th>Papdi Chaat</th>\n      <td>3</td>\n      <td>2</td>\n      <td>1</td>\n      <td>3</td>\n      <td>3</td>\n      <td>0</td>\n      <td>2</td>\n      <td>0</td>\n      <td>4</td>\n      <td>1</td>\n      <td>...</td>\n      <td>4</td>\n      <td>2</td>\n      <td>4</td>\n      <td>0</td>\n      <td>4</td>\n      <td>5</td>\n      <td>3</td>\n      <td>4</td>\n      <td>0</td>\n      <td>3</td>\n    </tr>\n    <tr>\n      <th>Pasta</th>\n      <td>2</td>\n      <td>0</td>\n      <td>1</td>\n      <td>4</td>\n      <td>0</td>\n      <td>0</td>\n      <td>3</td>\n      <td>0</td>\n      <td>0</td>\n      <td>0</td>\n      <td>...</td>\n      <td>0</td>\n      <td>0</td>\n      <td>4</td>\n      <td>0</td>\n      <td>3</td>\n      <td>1</td>\n      <td>2</td>\n      <td>1</td>\n      <td>4</td>\n      <td>4</td>\n    </tr>\n    <tr>\n      <th>Pav Bhaji</th>\n      <td>2</td>\n      <td>2</td>\n      <td>2</td>\n      <td>4</td>\n      <td>4</td>\n      <td>0</td>\n      <td>1</td>\n      <td>5</td>\n      <td>2</td>\n      <td>2</td>\n      <td>...</td>\n      <td>3</td>\n      <td>2</td>\n      <td>5</td>\n      <td>3</td>\n      <td>4</td>\n      <td>0</td>\n      <td>2</td>\n      <td>4</td>\n      <td>3</td>\n      <td>3</td>\n    </tr>\n    <tr>\n      <th>Pineaaple Juice</th>\n      <td>3</td>\n      <td>0</td>\n      <td>1</td>\n      <td>0</td>\n      <td>0</td>\n      <td>0</td>\n      <td>0</td>\n      <td>0</td>\n      <td>0</td>\n      <td>0</td>\n      <td>...</td>\n      <td>0</td>\n      <td>0</td>\n      <td>3</td>\n      <td>0</td>\n      <td>3</td>\n      <td>0</td>\n      <td>5</td>\n      <td>1</td>\n      <td>0</td>\n      <td>0</td>\n    </tr>\n    <tr>\n      <th>Plain Maggi</th>\n      <td>3</td>\n      <td>4</td>\n      <td>2</td>\n      <td>3</td>\n      <td>3</td>\n      <td>0</td>\n      <td>2</td>\n      <td>5</td>\n      <td>0</td>\n      <td>0</td>\n      <td>...</td>\n      <td>4</td>\n      <td>1</td>\n      <td>5</td>\n      <td>0</td>\n      <td>4</td>\n      <td>0</td>\n      <td>3</td>\n      <td>1</td>\n      <td>0</td>\n      <td>3</td>\n    </tr>\n    <tr>\n      <th>Poha</th>\n      <td>1</td>\n      <td>0</td>\n      <td>2</td>\n      <td>3</td>\n      <td>0</td>\n      <td>0</td>\n      <td>2</td>\n      <td>4</td>\n      <td>0</td>\n      <td>0</td>\n      <td>...</td>\n      <td>0</td>\n      <td>0</td>\n      <td>3</td>\n      <td>4</td>\n      <td>2</td>\n      <td>0</td>\n      <td>2</td>\n      <td>3</td>\n      <td>0</td>\n      <td>0</td>\n    </tr>\n    <tr>\n      <th>Sabudana Khichdi</th>\n      <td>0</td>\n      <td>0</td>\n      <td>1</td>\n      <td>0</td>\n      <td>0</td>\n      <td>0</td>\n      <td>1</td>\n      <td>0</td>\n      <td>0</td>\n      <td>0</td>\n      <td>...</td>\n      <td>0</td>\n      <td>0</td>\n      <td>3</td>\n      <td>0</td>\n      <td>2</td>\n      <td>0</td>\n      <td>4</td>\n      <td>5</td>\n      <td>0</td>\n      <td>0</td>\n    </tr>\n    <tr>\n      <th>Sada Dosa</th>\n      <td>2</td>\n      <td>0</td>\n      <td>2</td>\n      <td>0</td>\n      <td>0</td>\n      <td>0</td>\n      <td>2</td>\n      <td>0</td>\n      <td>0</td>\n      <td>0</td>\n      <td>...</td>\n      <td>4</td>\n      <td>0</td>\n      <td>4</td>\n      <td>0</td>\n      <td>4</td>\n      <td>0</td>\n      <td>4</td>\n      <td>5</td>\n      <td>0</td>\n      <td>3</td>\n    </tr>\n    <tr>\n      <th>Samosa Chaat</th>\n      <td>3</td>\n      <td>0</td>\n      <td>1</td>\n      <td>3</td>\n      <td>3</td>\n      <td>3</td>\n      <td>2</td>\n      <td>0</td>\n      <td>0</td>\n      <td>2</td>\n      <td>...</td>\n      <td>4</td>\n      <td>2</td>\n      <td>4</td>\n      <td>5</td>\n      <td>3</td>\n      <td>5</td>\n      <td>2</td>\n      <td>5</td>\n      <td>4</td>\n      <td>3</td>\n    </tr>\n    <tr>\n      <th>Samosa Pav</th>\n      <td>2</td>\n      <td>0</td>\n      <td>1</td>\n      <td>4</td>\n      <td>4</td>\n      <td>2</td>\n      <td>3</td>\n      <td>4</td>\n      <td>4</td>\n      <td>1</td>\n      <td>...</td>\n      <td>4</td>\n      <td>2</td>\n      <td>4</td>\n      <td>5</td>\n      <td>4</td>\n      <td>5</td>\n      <td>1</td>\n      <td>3</td>\n      <td>4</td>\n      <td>4</td>\n    </tr>\n    <tr>\n      <th>Schezwan Dosa</th>\n      <td>0</td>\n      <td>0</td>\n      <td>1</td>\n      <td>4</td>\n      <td>0</td>\n      <td>3</td>\n      <td>2</td>\n      <td>0</td>\n      <td>5</td>\n      <td>3</td>\n      <td>...</td>\n      <td>0</td>\n      <td>0</td>\n      <td>3</td>\n      <td>0</td>\n      <td>3</td>\n      <td>0</td>\n      <td>1</td>\n      <td>5</td>\n      <td>0</td>\n      <td>0</td>\n    </tr>\n    <tr>\n      <th>Sev Puri</th>\n      <td>2</td>\n      <td>3</td>\n      <td>1</td>\n      <td>3</td>\n      <td>0</td>\n      <td>0</td>\n      <td>2</td>\n      <td>0</td>\n      <td>0</td>\n      <td>1</td>\n      <td>...</td>\n      <td>4</td>\n      <td>0</td>\n      <td>3</td>\n      <td>0</td>\n      <td>3</td>\n      <td>5</td>\n      <td>2</td>\n      <td>3</td>\n      <td>0</td>\n      <td>3</td>\n    </tr>\n    <tr>\n      <th>Tea</th>\n      <td>0</td>\n      <td>4</td>\n      <td>1</td>\n      <td>4</td>\n      <td>3</td>\n      <td>0</td>\n      <td>1</td>\n      <td>0</td>\n      <td>0</td>\n      <td>0</td>\n      <td>...</td>\n      <td>0</td>\n      <td>3</td>\n      <td>3</td>\n      <td>0</td>\n      <td>4</td>\n      <td>0</td>\n      <td>5</td>\n      <td>2</td>\n      <td>0</td>\n      <td>5</td>\n    </tr>\n    <tr>\n      <th>Toast Butter Jam</th>\n      <td>0</td>\n      <td>2</td>\n      <td>1</td>\n      <td>0</td>\n      <td>0</td>\n      <td>0</td>\n      <td>2</td>\n      <td>0</td>\n      <td>0</td>\n      <td>0</td>\n      <td>...</td>\n      <td>0</td>\n      <td>0</td>\n      <td>3</td>\n      <td>0</td>\n      <td>2</td>\n      <td>0</td>\n      <td>2</td>\n      <td>3</td>\n      <td>4</td>\n      <td>0</td>\n    </tr>\n    <tr>\n      <th>Upma</th>\n      <td>1</td>\n      <td>0</td>\n      <td>2</td>\n      <td>0</td>\n      <td>0</td>\n      <td>0</td>\n      <td>2</td>\n      <td>0</td>\n      <td>0</td>\n      <td>0</td>\n      <td>...</td>\n      <td>0</td>\n      <td>0</td>\n      <td>3</td>\n      <td>0</td>\n      <td>2</td>\n      <td>0</td>\n      <td>2</td>\n      <td>3</td>\n      <td>0</td>\n      <td>0</td>\n    </tr>\n    <tr>\n      <th>Veg &amp; Cheese grill Sandwich</th>\n      <td>0</td>\n      <td>2</td>\n      <td>1</td>\n      <td>0</td>\n      <td>0</td>\n      <td>1</td>\n      <td>2</td>\n      <td>0</td>\n      <td>0</td>\n      <td>0</td>\n      <td>...</td>\n      <td>0</td>\n      <td>0</td>\n      <td>1</td>\n      <td>0</td>\n      <td>3</td>\n      <td>0</td>\n      <td>2</td>\n      <td>3</td>\n      <td>3</td>\n      <td>0</td>\n    </tr>\n    <tr>\n      <th>Veg Grill Sandwich</th>\n      <td>0</td>\n      <td>3</td>\n      <td>1</td>\n      <td>3</td>\n      <td>0</td>\n      <td>0</td>\n      <td>2</td>\n      <td>0</td>\n      <td>0</td>\n      <td>1</td>\n      <td>...</td>\n      <td>0</td>\n      <td>0</td>\n      <td>1</td>\n      <td>0</td>\n      <td>3</td>\n      <td>0</td>\n      <td>2</td>\n      <td>1</td>\n      <td>0</td>\n      <td>0</td>\n    </tr>\n    <tr>\n      <th>Veg Pizza</th>\n      <td>2</td>\n      <td>0</td>\n      <td>3</td>\n      <td>2</td>\n      <td>4</td>\n      <td>0</td>\n      <td>1</td>\n      <td>0</td>\n      <td>4</td>\n      <td>0</td>\n      <td>...</td>\n      <td>0</td>\n      <td>0</td>\n      <td>4</td>\n      <td>0</td>\n      <td>3</td>\n      <td>3</td>\n      <td>3</td>\n      <td>1</td>\n      <td>2</td>\n      <td>0</td>\n    </tr>\n    <tr>\n      <th>Vegetable Sandwich</th>\n      <td>0</td>\n      <td>3</td>\n      <td>1</td>\n      <td>2</td>\n      <td>0</td>\n      <td>0</td>\n      <td>2</td>\n      <td>0</td>\n      <td>0</td>\n      <td>0</td>\n      <td>...</td>\n      <td>0</td>\n      <td>0</td>\n      <td>1</td>\n      <td>0</td>\n      <td>4</td>\n      <td>0</td>\n      <td>2</td>\n      <td>2</td>\n      <td>2</td>\n      <td>0</td>\n    </tr>\n    <tr>\n      <th>Wada Pav</th>\n      <td>1</td>\n      <td>5</td>\n      <td>1</td>\n      <td>3</td>\n      <td>3</td>\n      <td>2</td>\n      <td>3</td>\n      <td>4</td>\n      <td>3</td>\n      <td>1</td>\n      <td>...</td>\n      <td>4</td>\n      <td>1</td>\n      <td>4</td>\n      <td>3</td>\n      <td>3</td>\n      <td>5</td>\n      <td>4</td>\n      <td>1</td>\n      <td>0</td>\n      <td>3</td>\n    </tr>\n    <tr>\n      <th>Watermelon Juice</th>\n      <td>3</td>\n      <td>0</td>\n      <td>1</td>\n      <td>0</td>\n      <td>0</td>\n      <td>0</td>\n      <td>1</td>\n      <td>0</td>\n      <td>0</td>\n      <td>0</td>\n      <td>...</td>\n      <td>0</td>\n      <td>0</td>\n      <td>3</td>\n      <td>0</td>\n      <td>3</td>\n      <td>0</td>\n      <td>5</td>\n      <td>1</td>\n      <td>0</td>\n      <td>0</td>\n    </tr>\n  </tbody>\n</table>\n<p>52 rows × 197 columns</p>\n</div>"
          },
          "metadata": {}
        }
      ]
    },
    {
      "cell_type": "code",
      "source": "def recommend(Items):\n    # index fetch\n    index = np.where(pt.index==Items)[0][0]\n    similar_items = sorted(list(enumerate(similarity_scores[index])),key=lambda x:x[1],reverse=True)[1:6]\n    \n    data = []\n    for i in similar_items:\n        item = []\n        temp_df = items[items['Items'] == pt.index[i[0]]]\n        item.extend(list(temp_df.drop_duplicates('Items')['Items'].values))\n\n        \n        data.append(item[0])\n    \n    return data",
      "metadata": {
        "trusted": true
      },
      "execution_count": 433,
      "outputs": []
    },
    {
      "cell_type": "code",
      "source": "recommend(\"Tea\")",
      "metadata": {
        "trusted": true
      },
      "execution_count": 518,
      "outputs": [
        {
          "execution_count": 518,
          "output_type": "execute_result",
          "data": {
            "text/plain": "['Coffee', 'Samosa Pav', 'Wada Pav', 'Cold Coffee', 'Masala Dosa']"
          },
          "metadata": {}
        }
      ]
    },
    {
      "cell_type": "code",
      "source": "pickle.dump(pt, open('pt.pkl','wb'))",
      "metadata": {
        "trusted": true
      },
      "execution_count": 490,
      "outputs": []
    },
    {
      "cell_type": "code",
      "source": "pickle.dump(similarity_scores, open('similarity_scores.pkl','wb'))",
      "metadata": {
        "trusted": true
      },
      "execution_count": 493,
      "outputs": []
    },
    {
      "cell_type": "code",
      "source": "pickle.dump(items, open('items.pkl','wb'))",
      "metadata": {
        "trusted": true
      },
      "execution_count": 494,
      "outputs": []
    },
    {
      "cell_type": "markdown",
      "source": "Content Filtering",
      "metadata": {}
    },
    {
      "cell_type": "code",
      "source": "content=pd.read_csv('Contentfiltering.csv')",
      "metadata": {
        "trusted": true
      },
      "execution_count": 454,
      "outputs": []
    },
    {
      "cell_type": "code",
      "source": "content=content.dropna()",
      "metadata": {
        "trusted": true
      },
      "execution_count": 455,
      "outputs": []
    },
    {
      "cell_type": "code",
      "source": "content.head()",
      "metadata": {
        "trusted": true
      },
      "execution_count": 456,
      "outputs": [
        {
          "execution_count": 456,
          "output_type": "execute_result",
          "data": {
            "text/plain": "   Item_id              Item_name  \\\n0      1.0  Cheese Grill Sandwich   \n1      2.0        Cheese Sandwich   \n2      3.0    Veg Grill Sandwich    \n3      4.0     Vegetable Sandwich   \n4      5.0       Toast Butter Jam   \n\n                                        Description     Category   Meal Type  \\\n0             A grilled sandwich with cheese filling  Sandwiches  Appetizer    \n1                     A sandwich with cheese filling  Sandwiches  Appetizer    \n2  A grilled sandwich with vegetable and cheese f...  Sandwiches  Appetizer    \n3                  A sandwich with vegetable filling  Sandwiches  Appetizer    \n4           Toasted bread with butter and jam spread  Sandwiches  Appetizer    \n\n                                   Main ingredients  Availability   Mood  \\\n0  Bread, cheese slices, butter, vegetables (opti...    Available  Happy   \n1                       Bread, cheese slices, butter    Available      x   \n2     Bread, cheese slices, butter, mixed vegetables    Available      x   \n3                    Bread, butter, mixed vegetables    Available      x   \n4                                 Bread, butter, jam    Available      x   \n\n   Price                                              Image    Rating  \n0   46.0  https://firebasestorage.googleapis.com/v0/b/ca...  2.373913  \n1   46.0  https://firebasestorage.googleapis.com/v0/b/ca...  2.030928  \n2   46.0  https://firebasestorage.googleapis.com/v0/b/ca...  2.257143  \n3   46.0  https://firebasestorage.googleapis.com/v0/b/ca...  2.106383  \n4   31.0  https://firebasestorage.googleapis.com/v0/b/ca...  2.014085  ",
            "text/html": "<div>\n<style scoped>\n    .dataframe tbody tr th:only-of-type {\n        vertical-align: middle;\n    }\n\n    .dataframe tbody tr th {\n        vertical-align: top;\n    }\n\n    .dataframe thead th {\n        text-align: right;\n    }\n</style>\n<table border=\"1\" class=\"dataframe\">\n  <thead>\n    <tr style=\"text-align: right;\">\n      <th></th>\n      <th>Item_id</th>\n      <th>Item_name</th>\n      <th>Description</th>\n      <th>Category</th>\n      <th>Meal Type</th>\n      <th>Main ingredients</th>\n      <th>Availability</th>\n      <th>Mood</th>\n      <th>Price</th>\n      <th>Image</th>\n      <th>Rating</th>\n    </tr>\n  </thead>\n  <tbody>\n    <tr>\n      <th>0</th>\n      <td>1.0</td>\n      <td>Cheese Grill Sandwich</td>\n      <td>A grilled sandwich with cheese filling</td>\n      <td>Sandwiches</td>\n      <td>Appetizer</td>\n      <td>Bread, cheese slices, butter, vegetables (opti...</td>\n      <td>Available</td>\n      <td>Happy</td>\n      <td>46.0</td>\n      <td>https://firebasestorage.googleapis.com/v0/b/ca...</td>\n      <td>2.373913</td>\n    </tr>\n    <tr>\n      <th>1</th>\n      <td>2.0</td>\n      <td>Cheese Sandwich</td>\n      <td>A sandwich with cheese filling</td>\n      <td>Sandwiches</td>\n      <td>Appetizer</td>\n      <td>Bread, cheese slices, butter</td>\n      <td>Available</td>\n      <td>x</td>\n      <td>46.0</td>\n      <td>https://firebasestorage.googleapis.com/v0/b/ca...</td>\n      <td>2.030928</td>\n    </tr>\n    <tr>\n      <th>2</th>\n      <td>3.0</td>\n      <td>Veg Grill Sandwich</td>\n      <td>A grilled sandwich with vegetable and cheese f...</td>\n      <td>Sandwiches</td>\n      <td>Appetizer</td>\n      <td>Bread, cheese slices, butter, mixed vegetables</td>\n      <td>Available</td>\n      <td>x</td>\n      <td>46.0</td>\n      <td>https://firebasestorage.googleapis.com/v0/b/ca...</td>\n      <td>2.257143</td>\n    </tr>\n    <tr>\n      <th>3</th>\n      <td>4.0</td>\n      <td>Vegetable Sandwich</td>\n      <td>A sandwich with vegetable filling</td>\n      <td>Sandwiches</td>\n      <td>Appetizer</td>\n      <td>Bread, butter, mixed vegetables</td>\n      <td>Available</td>\n      <td>x</td>\n      <td>46.0</td>\n      <td>https://firebasestorage.googleapis.com/v0/b/ca...</td>\n      <td>2.106383</td>\n    </tr>\n    <tr>\n      <th>4</th>\n      <td>5.0</td>\n      <td>Toast Butter Jam</td>\n      <td>Toasted bread with butter and jam spread</td>\n      <td>Sandwiches</td>\n      <td>Appetizer</td>\n      <td>Bread, butter, jam</td>\n      <td>Available</td>\n      <td>x</td>\n      <td>31.0</td>\n      <td>https://firebasestorage.googleapis.com/v0/b/ca...</td>\n      <td>2.014085</td>\n    </tr>\n  </tbody>\n</table>\n</div>"
          },
          "metadata": {}
        }
      ]
    },
    {
      "cell_type": "code",
      "source": "content['Description ']=content['Description '].apply(lambda x:x.lower())",
      "metadata": {
        "trusted": true
      },
      "execution_count": 457,
      "outputs": []
    },
    {
      "cell_type": "code",
      "source": "content['Description ']=content['Description '].apply(lambda x:x.split())",
      "metadata": {
        "trusted": true
      },
      "execution_count": 458,
      "outputs": []
    },
    {
      "cell_type": "code",
      "source": "content.head()",
      "metadata": {
        "trusted": true
      },
      "execution_count": 459,
      "outputs": [
        {
          "execution_count": 459,
          "output_type": "execute_result",
          "data": {
            "text/plain": "   Item_id              Item_name  \\\n0      1.0  Cheese Grill Sandwich   \n1      2.0        Cheese Sandwich   \n2      3.0    Veg Grill Sandwich    \n3      4.0     Vegetable Sandwich   \n4      5.0       Toast Butter Jam   \n\n                                        Description     Category   Meal Type  \\\n0      [a, grilled, sandwich, with, cheese, filling]  Sandwiches  Appetizer    \n1               [a, sandwich, with, cheese, filling]  Sandwiches  Appetizer    \n2  [a, grilled, sandwich, with, vegetable, and, c...  Sandwiches  Appetizer    \n3            [a, sandwich, with, vegetable, filling]  Sandwiches  Appetizer    \n4   [toasted, bread, with, butter, and, jam, spread]  Sandwiches  Appetizer    \n\n                                   Main ingredients  Availability   Mood  \\\n0  Bread, cheese slices, butter, vegetables (opti...    Available  Happy   \n1                       Bread, cheese slices, butter    Available      x   \n2     Bread, cheese slices, butter, mixed vegetables    Available      x   \n3                    Bread, butter, mixed vegetables    Available      x   \n4                                 Bread, butter, jam    Available      x   \n\n   Price                                              Image    Rating  \n0   46.0  https://firebasestorage.googleapis.com/v0/b/ca...  2.373913  \n1   46.0  https://firebasestorage.googleapis.com/v0/b/ca...  2.030928  \n2   46.0  https://firebasestorage.googleapis.com/v0/b/ca...  2.257143  \n3   46.0  https://firebasestorage.googleapis.com/v0/b/ca...  2.106383  \n4   31.0  https://firebasestorage.googleapis.com/v0/b/ca...  2.014085  ",
            "text/html": "<div>\n<style scoped>\n    .dataframe tbody tr th:only-of-type {\n        vertical-align: middle;\n    }\n\n    .dataframe tbody tr th {\n        vertical-align: top;\n    }\n\n    .dataframe thead th {\n        text-align: right;\n    }\n</style>\n<table border=\"1\" class=\"dataframe\">\n  <thead>\n    <tr style=\"text-align: right;\">\n      <th></th>\n      <th>Item_id</th>\n      <th>Item_name</th>\n      <th>Description</th>\n      <th>Category</th>\n      <th>Meal Type</th>\n      <th>Main ingredients</th>\n      <th>Availability</th>\n      <th>Mood</th>\n      <th>Price</th>\n      <th>Image</th>\n      <th>Rating</th>\n    </tr>\n  </thead>\n  <tbody>\n    <tr>\n      <th>0</th>\n      <td>1.0</td>\n      <td>Cheese Grill Sandwich</td>\n      <td>[a, grilled, sandwich, with, cheese, filling]</td>\n      <td>Sandwiches</td>\n      <td>Appetizer</td>\n      <td>Bread, cheese slices, butter, vegetables (opti...</td>\n      <td>Available</td>\n      <td>Happy</td>\n      <td>46.0</td>\n      <td>https://firebasestorage.googleapis.com/v0/b/ca...</td>\n      <td>2.373913</td>\n    </tr>\n    <tr>\n      <th>1</th>\n      <td>2.0</td>\n      <td>Cheese Sandwich</td>\n      <td>[a, sandwich, with, cheese, filling]</td>\n      <td>Sandwiches</td>\n      <td>Appetizer</td>\n      <td>Bread, cheese slices, butter</td>\n      <td>Available</td>\n      <td>x</td>\n      <td>46.0</td>\n      <td>https://firebasestorage.googleapis.com/v0/b/ca...</td>\n      <td>2.030928</td>\n    </tr>\n    <tr>\n      <th>2</th>\n      <td>3.0</td>\n      <td>Veg Grill Sandwich</td>\n      <td>[a, grilled, sandwich, with, vegetable, and, c...</td>\n      <td>Sandwiches</td>\n      <td>Appetizer</td>\n      <td>Bread, cheese slices, butter, mixed vegetables</td>\n      <td>Available</td>\n      <td>x</td>\n      <td>46.0</td>\n      <td>https://firebasestorage.googleapis.com/v0/b/ca...</td>\n      <td>2.257143</td>\n    </tr>\n    <tr>\n      <th>3</th>\n      <td>4.0</td>\n      <td>Vegetable Sandwich</td>\n      <td>[a, sandwich, with, vegetable, filling]</td>\n      <td>Sandwiches</td>\n      <td>Appetizer</td>\n      <td>Bread, butter, mixed vegetables</td>\n      <td>Available</td>\n      <td>x</td>\n      <td>46.0</td>\n      <td>https://firebasestorage.googleapis.com/v0/b/ca...</td>\n      <td>2.106383</td>\n    </tr>\n    <tr>\n      <th>4</th>\n      <td>5.0</td>\n      <td>Toast Butter Jam</td>\n      <td>[toasted, bread, with, butter, and, jam, spread]</td>\n      <td>Sandwiches</td>\n      <td>Appetizer</td>\n      <td>Bread, butter, jam</td>\n      <td>Available</td>\n      <td>x</td>\n      <td>31.0</td>\n      <td>https://firebasestorage.googleapis.com/v0/b/ca...</td>\n      <td>2.014085</td>\n    </tr>\n  </tbody>\n</table>\n</div>"
          },
          "metadata": {}
        }
      ]
    },
    {
      "cell_type": "code",
      "source": "content['Main ingredients ']=content['Main ingredients '].apply(lambda x:x.lower())\n",
      "metadata": {
        "trusted": true
      },
      "execution_count": 460,
      "outputs": []
    },
    {
      "cell_type": "code",
      "source": "content['Main ingredients ']=content['Main ingredients '].apply(lambda x:x.split(\", \"))",
      "metadata": {
        "trusted": true
      },
      "execution_count": 461,
      "outputs": []
    },
    {
      "cell_type": "code",
      "source": "content['Main ingredients ']=content['Main ingredients '].apply(lambda x:[i.replace(\" \" , \"\") for i in x])",
      "metadata": {
        "trusted": true
      },
      "execution_count": 462,
      "outputs": []
    },
    {
      "cell_type": "code",
      "source": "content['Category']=content['Category'].apply(lambda x:x.lower())\n",
      "metadata": {
        "trusted": true
      },
      "execution_count": 463,
      "outputs": []
    },
    {
      "cell_type": "code",
      "source": "content['Category']=content['Category'].apply(lambda x:x.split(\", \"))",
      "metadata": {
        "trusted": true
      },
      "execution_count": 464,
      "outputs": []
    },
    {
      "cell_type": "code",
      "source": "content['Category']=content['Category'].apply(lambda x:[i.replace(\" \" , \"\") for i in x])",
      "metadata": {
        "trusted": true
      },
      "execution_count": 465,
      "outputs": []
    },
    {
      "cell_type": "code",
      "source": "content['Meal Type']=content['Meal Type'].apply(lambda x:x.lower())\ncontent['Meal Type']=content['Meal Type'].apply(lambda x:x.split(\", \"))\ncontent['Meal Type']=content['Meal Type'].apply(lambda x:[i.replace(\" \" , \"\") for i in x])",
      "metadata": {
        "trusted": true
      },
      "execution_count": 466,
      "outputs": []
    },
    {
      "cell_type": "code",
      "source": "content.head()",
      "metadata": {
        "trusted": true
      },
      "execution_count": 467,
      "outputs": [
        {
          "execution_count": 467,
          "output_type": "execute_result",
          "data": {
            "text/plain": "   Item_id              Item_name  \\\n0      1.0  Cheese Grill Sandwich   \n1      2.0        Cheese Sandwich   \n2      3.0    Veg Grill Sandwich    \n3      4.0     Vegetable Sandwich   \n4      5.0       Toast Butter Jam   \n\n                                        Description       Category  \\\n0      [a, grilled, sandwich, with, cheese, filling]  [sandwiches]   \n1               [a, sandwich, with, cheese, filling]  [sandwiches]   \n2  [a, grilled, sandwich, with, vegetable, and, c...  [sandwiches]   \n3            [a, sandwich, with, vegetable, filling]  [sandwiches]   \n4   [toasted, bread, with, butter, and, jam, spread]  [sandwiches]   \n\n     Meal Type                                  Main ingredients   \\\n0  [appetizer]  [bread, cheeseslices, butter, vegetables(optio...   \n1  [appetizer]                      [bread, cheeseslices, butter]   \n2  [appetizer]     [bread, cheeseslices, butter, mixedvegetables]   \n3  [appetizer]                   [bread, butter, mixedvegetables]   \n4  [appetizer]                               [bread, butter, jam]   \n\n  Availability   Mood  Price  \\\n0    Available  Happy   46.0   \n1    Available      x   46.0   \n2    Available      x   46.0   \n3    Available      x   46.0   \n4    Available      x   31.0   \n\n                                               Image    Rating  \n0  https://firebasestorage.googleapis.com/v0/b/ca...  2.373913  \n1  https://firebasestorage.googleapis.com/v0/b/ca...  2.030928  \n2  https://firebasestorage.googleapis.com/v0/b/ca...  2.257143  \n3  https://firebasestorage.googleapis.com/v0/b/ca...  2.106383  \n4  https://firebasestorage.googleapis.com/v0/b/ca...  2.014085  ",
            "text/html": "<div>\n<style scoped>\n    .dataframe tbody tr th:only-of-type {\n        vertical-align: middle;\n    }\n\n    .dataframe tbody tr th {\n        vertical-align: top;\n    }\n\n    .dataframe thead th {\n        text-align: right;\n    }\n</style>\n<table border=\"1\" class=\"dataframe\">\n  <thead>\n    <tr style=\"text-align: right;\">\n      <th></th>\n      <th>Item_id</th>\n      <th>Item_name</th>\n      <th>Description</th>\n      <th>Category</th>\n      <th>Meal Type</th>\n      <th>Main ingredients</th>\n      <th>Availability</th>\n      <th>Mood</th>\n      <th>Price</th>\n      <th>Image</th>\n      <th>Rating</th>\n    </tr>\n  </thead>\n  <tbody>\n    <tr>\n      <th>0</th>\n      <td>1.0</td>\n      <td>Cheese Grill Sandwich</td>\n      <td>[a, grilled, sandwich, with, cheese, filling]</td>\n      <td>[sandwiches]</td>\n      <td>[appetizer]</td>\n      <td>[bread, cheeseslices, butter, vegetables(optio...</td>\n      <td>Available</td>\n      <td>Happy</td>\n      <td>46.0</td>\n      <td>https://firebasestorage.googleapis.com/v0/b/ca...</td>\n      <td>2.373913</td>\n    </tr>\n    <tr>\n      <th>1</th>\n      <td>2.0</td>\n      <td>Cheese Sandwich</td>\n      <td>[a, sandwich, with, cheese, filling]</td>\n      <td>[sandwiches]</td>\n      <td>[appetizer]</td>\n      <td>[bread, cheeseslices, butter]</td>\n      <td>Available</td>\n      <td>x</td>\n      <td>46.0</td>\n      <td>https://firebasestorage.googleapis.com/v0/b/ca...</td>\n      <td>2.030928</td>\n    </tr>\n    <tr>\n      <th>2</th>\n      <td>3.0</td>\n      <td>Veg Grill Sandwich</td>\n      <td>[a, grilled, sandwich, with, vegetable, and, c...</td>\n      <td>[sandwiches]</td>\n      <td>[appetizer]</td>\n      <td>[bread, cheeseslices, butter, mixedvegetables]</td>\n      <td>Available</td>\n      <td>x</td>\n      <td>46.0</td>\n      <td>https://firebasestorage.googleapis.com/v0/b/ca...</td>\n      <td>2.257143</td>\n    </tr>\n    <tr>\n      <th>3</th>\n      <td>4.0</td>\n      <td>Vegetable Sandwich</td>\n      <td>[a, sandwich, with, vegetable, filling]</td>\n      <td>[sandwiches]</td>\n      <td>[appetizer]</td>\n      <td>[bread, butter, mixedvegetables]</td>\n      <td>Available</td>\n      <td>x</td>\n      <td>46.0</td>\n      <td>https://firebasestorage.googleapis.com/v0/b/ca...</td>\n      <td>2.106383</td>\n    </tr>\n    <tr>\n      <th>4</th>\n      <td>5.0</td>\n      <td>Toast Butter Jam</td>\n      <td>[toasted, bread, with, butter, and, jam, spread]</td>\n      <td>[sandwiches]</td>\n      <td>[appetizer]</td>\n      <td>[bread, butter, jam]</td>\n      <td>Available</td>\n      <td>x</td>\n      <td>31.0</td>\n      <td>https://firebasestorage.googleapis.com/v0/b/ca...</td>\n      <td>2.014085</td>\n    </tr>\n  </tbody>\n</table>\n</div>"
          },
          "metadata": {}
        }
      ]
    },
    {
      "cell_type": "code",
      "source": "content['Tags']= content['Description '] + content['Category'] + content['Meal Type'] + content['Main ingredients ']",
      "metadata": {
        "trusted": true
      },
      "execution_count": 468,
      "outputs": []
    },
    {
      "cell_type": "code",
      "source": "cf= content[['Item_id', 'Item_name', 'Tags']]",
      "metadata": {
        "trusted": true
      },
      "execution_count": 469,
      "outputs": []
    },
    {
      "cell_type": "code",
      "source": "cf['Tags']=cf['Tags'].apply(lambda x:\" \".join(x))",
      "metadata": {
        "trusted": true
      },
      "execution_count": 470,
      "outputs": [
        {
          "name": "stderr",
          "text": "<ipython-input-470-d84bb4a6de1a>:1: SettingWithCopyWarning: \nA value is trying to be set on a copy of a slice from a DataFrame.\nTry using .loc[row_indexer,col_indexer] = value instead\n\nSee the caveats in the documentation: https://pandas.pydata.org/pandas-docs/stable/user_guide/indexing.html#returning-a-view-versus-a-copy\n  cf['Tags']=cf['Tags'].apply(lambda x:\" \".join(x))\n",
          "output_type": "stream"
        }
      ]
    },
    {
      "cell_type": "code",
      "source": "from sklearn.feature_extraction.text import CountVectorizer\ncv= CountVectorizer(max_features=100, stop_words='english')",
      "metadata": {
        "trusted": true
      },
      "execution_count": 471,
      "outputs": []
    },
    {
      "cell_type": "code",
      "source": "import nltk",
      "metadata": {
        "trusted": true
      },
      "execution_count": 472,
      "outputs": []
    },
    {
      "cell_type": "code",
      "source": "from nltk.stem.porter import PorterStemmer\nps= PorterStemmer()",
      "metadata": {
        "trusted": true
      },
      "execution_count": 473,
      "outputs": []
    },
    {
      "cell_type": "code",
      "source": "def stem(text):\n    y =[]\n    \n    for i in text.split():\n        y.append(ps.stem(i))\n    \n    return \" \".join(y)",
      "metadata": {
        "trusted": true
      },
      "execution_count": 474,
      "outputs": []
    },
    {
      "cell_type": "code",
      "source": "cf['Tags'][0]",
      "metadata": {
        "trusted": true
      },
      "execution_count": 475,
      "outputs": [
        {
          "execution_count": 475,
          "output_type": "execute_result",
          "data": {
            "text/plain": "'a grilled sandwich with cheese filling sandwiches appetizer bread cheeseslices butter vegetables(optional)'"
          },
          "metadata": {}
        }
      ]
    },
    {
      "cell_type": "code",
      "source": "stem('a grilled sandwich with cheese filling sandwiches appetizer bread cheeseslices butter vegetables(optional)')",
      "metadata": {
        "trusted": true
      },
      "execution_count": 476,
      "outputs": [
        {
          "execution_count": 476,
          "output_type": "execute_result",
          "data": {
            "text/plain": "'a grill sandwich with chees fill sandwich appet bread cheeseslic butter vegetables(optional)'"
          },
          "metadata": {}
        }
      ]
    },
    {
      "cell_type": "code",
      "source": "cf['Tags']=cf['Tags'].apply(stem)",
      "metadata": {
        "trusted": true
      },
      "execution_count": 477,
      "outputs": [
        {
          "name": "stderr",
          "text": "<ipython-input-477-017ad4fba5f5>:1: SettingWithCopyWarning: \nA value is trying to be set on a copy of a slice from a DataFrame.\nTry using .loc[row_indexer,col_indexer] = value instead\n\nSee the caveats in the documentation: https://pandas.pydata.org/pandas-docs/stable/user_guide/indexing.html#returning-a-view-versus-a-copy\n  cf['Tags']=cf['Tags'].apply(stem)\n",
          "output_type": "stream"
        }
      ]
    },
    {
      "cell_type": "code",
      "source": "cf",
      "metadata": {
        "trusted": true
      },
      "execution_count": 478,
      "outputs": [
        {
          "execution_count": 478,
          "output_type": "execute_result",
          "data": {
            "text/plain": "    Item_id                    Item_name  \\\n0       1.0        Cheese Grill Sandwich   \n1       2.0              Cheese Sandwich   \n2       3.0          Veg Grill Sandwich    \n3       4.0           Vegetable Sandwich   \n4       5.0             Toast Butter Jam   \n5       6.0             Bread Butter Jam   \n6       7.0  Veg & Cheese grill Sandwich   \n7       8.0                        Poha    \n8       9.0                         Upma   \n9      10.0                     Wada Pav   \n10     11.0                   Samosa Pav   \n11     12.0                 Bread Pakoda   \n12     13.0                    Misal Pav   \n13     14.0               Dahi Misal Pav   \n14     15.0                  Plain Maggi   \n15     16.0                 Cheese Maggi   \n16     17.0                    Pav Bhaji   \n17     18.0                 Chole Bature   \n18     19.0                Fruit Platter   \n19     20.0                  Idli Sambar   \n20     21.0            Medhu Wada Sambar   \n21     22.0                    Sada Dosa   \n22     23.0                  Masala Dosa   \n23     24.0                  Mysore Dosa   \n24     25.0           Mysore Masala Dosa   \n25     26.0                Schezwan Dosa   \n26     27.0                  Cheese Dosa   \n27     28.0           Cheese Masala Dosa   \n28     29.0                    Full Meal   \n29     30.0                  Dal Khichdi   \n30     31.0             Sabudana Khichdi   \n31     32.0                 Aloo Paratha   \n32     33.0               Paneer Paratha   \n33     34.0                   Boiled Egg   \n34     35.0                  Omlette Pav   \n35     36.0                   Bhurji Pav   \n36     37.0                     Sev Puri   \n37     38.0                  Papdi Chaat   \n38     39.0                 Samosa Chaat   \n39     40.0                Kachori Chaat   \n40     41.0             Margherita Pizza   \n41     42.0                       Pasta    \n42     43.0                    Veg Pizza   \n43     44.0                 Garlic Bread   \n44     45.0                       Lassi    \n45     46.0                       Coffee   \n46     47.0                          Tea   \n47     48.0                  Cold Coffee   \n48     49.0                   Buttermilk   \n49     50.0             Watermelon Juice   \n50     51.0                     Lemonade   \n51     52.0              Pineaaple Juice   \n\n                                                 Tags  \n0   a grill sandwich with chees fill sandwich appe...  \n1   a sandwich with chees fill sandwich appet brea...  \n2   a grill sandwich with veget and chees fill san...  \n3   a sandwich with veget fill sandwich appet brea...  \n4   toast bread with butter and jam spread sandwic...  \n5   bread with butter and jam spread sandwich appe...  \n6   a grill sandwich with veget and chees fill san...  \n7   a popular indian breakfast dish made of flatte...  \n8   a south indian breakfast dish made of semolina...  \n9   a popular indian fast food dish consist of a d...  \n10  a popular indian street food snack consist of ...  \n11  a deep-fri indian snack made of spice bread sl...  \n12  a spici maharashtrian breakfast dish made with...  \n13  a variat of misal pav with the addit of yogurt...  \n14  a quick and easi indian noodl dish made with m...  \n15  a variat of plain maggi with the addit of chee...  \n16  a popular indian street food dish consist of a...  \n17  a north indian breakfast dish made with spice ...  \n18  a platter of assort fresh fruit serv as a heal...  \n19  steam rice cake serv with a lentil-bas veget s...  \n20  deep-fri lentil doughnut serv with a lentil-ba...  \n21  thin crispi pancak made from ferment rice and ...  \n22  sada dosa fill with spice potato fill and serv...  \n23  sada dosa coat with a spici red chutney made f...  \n24  masala dosa fill with spice potato fill and co...  \n25  dosa fill with stir-fri veget in schezwan sauc...  \n26  dosa fill with grate chees and serv with tomat...  \n27  masala dosa fill with grate chees and serv wit...  \n28  a complet meal consist of multipl dish meal lu...  \n29  a one-pot dish made with rice and lentil meal ...  \n30  a gluten-fre dish made with tapioca pearl and ...  \n31  a stuf flatbread made with spice potato fill m...  \n32  a stuf flatbread made with spice paneer fill m...  \n33    hard-boil egg dish eggcount breakfast egg water  \n34  indian-styl omelett sandwich eggcount breakfas...  \n35  scrambl egg dish serv with bread eggcount brea...  \n36  a popular indian street food snack chaatcount ...  \n37  a tangi and savori indian snack made with flat...  \n38  a delici blend of samosa and chaat chaatcount ...  \n39  a spici and crispi street food made with kacho...  \n40  a classic pizza origin from itali with a simpl...  \n41  a dish made from cook noodles, typic made from...  \n42  a pizza made with variou veget as toppings, in...  \n43  a bread dish made with garlic, butter, and her...  \n44  a popular indian yogurt-bas drink beverag drin...  \n45  a popular hot beverag made from roast coffe be...  \n46  a popular hot beverag made from tea leav bever...  \n47  a chill version of coffee, often with ad milk ...  \n48  a refresh drink made from cultur milk beverag ...  \n49  a refresh juic made from fresh watermelon beve...  \n50  a refresh drink made from lemon juic and water...  \n51  a sweet and tangi juic made from fresh pineapp...  ",
            "text/html": "<div>\n<style scoped>\n    .dataframe tbody tr th:only-of-type {\n        vertical-align: middle;\n    }\n\n    .dataframe tbody tr th {\n        vertical-align: top;\n    }\n\n    .dataframe thead th {\n        text-align: right;\n    }\n</style>\n<table border=\"1\" class=\"dataframe\">\n  <thead>\n    <tr style=\"text-align: right;\">\n      <th></th>\n      <th>Item_id</th>\n      <th>Item_name</th>\n      <th>Tags</th>\n    </tr>\n  </thead>\n  <tbody>\n    <tr>\n      <th>0</th>\n      <td>1.0</td>\n      <td>Cheese Grill Sandwich</td>\n      <td>a grill sandwich with chees fill sandwich appe...</td>\n    </tr>\n    <tr>\n      <th>1</th>\n      <td>2.0</td>\n      <td>Cheese Sandwich</td>\n      <td>a sandwich with chees fill sandwich appet brea...</td>\n    </tr>\n    <tr>\n      <th>2</th>\n      <td>3.0</td>\n      <td>Veg Grill Sandwich</td>\n      <td>a grill sandwich with veget and chees fill san...</td>\n    </tr>\n    <tr>\n      <th>3</th>\n      <td>4.0</td>\n      <td>Vegetable Sandwich</td>\n      <td>a sandwich with veget fill sandwich appet brea...</td>\n    </tr>\n    <tr>\n      <th>4</th>\n      <td>5.0</td>\n      <td>Toast Butter Jam</td>\n      <td>toast bread with butter and jam spread sandwic...</td>\n    </tr>\n    <tr>\n      <th>5</th>\n      <td>6.0</td>\n      <td>Bread Butter Jam</td>\n      <td>bread with butter and jam spread sandwich appe...</td>\n    </tr>\n    <tr>\n      <th>6</th>\n      <td>7.0</td>\n      <td>Veg &amp; Cheese grill Sandwich</td>\n      <td>a grill sandwich with veget and chees fill san...</td>\n    </tr>\n    <tr>\n      <th>7</th>\n      <td>8.0</td>\n      <td>Poha</td>\n      <td>a popular indian breakfast dish made of flatte...</td>\n    </tr>\n    <tr>\n      <th>8</th>\n      <td>9.0</td>\n      <td>Upma</td>\n      <td>a south indian breakfast dish made of semolina...</td>\n    </tr>\n    <tr>\n      <th>9</th>\n      <td>10.0</td>\n      <td>Wada Pav</td>\n      <td>a popular indian fast food dish consist of a d...</td>\n    </tr>\n    <tr>\n      <th>10</th>\n      <td>11.0</td>\n      <td>Samosa Pav</td>\n      <td>a popular indian street food snack consist of ...</td>\n    </tr>\n    <tr>\n      <th>11</th>\n      <td>12.0</td>\n      <td>Bread Pakoda</td>\n      <td>a deep-fri indian snack made of spice bread sl...</td>\n    </tr>\n    <tr>\n      <th>12</th>\n      <td>13.0</td>\n      <td>Misal Pav</td>\n      <td>a spici maharashtrian breakfast dish made with...</td>\n    </tr>\n    <tr>\n      <th>13</th>\n      <td>14.0</td>\n      <td>Dahi Misal Pav</td>\n      <td>a variat of misal pav with the addit of yogurt...</td>\n    </tr>\n    <tr>\n      <th>14</th>\n      <td>15.0</td>\n      <td>Plain Maggi</td>\n      <td>a quick and easi indian noodl dish made with m...</td>\n    </tr>\n    <tr>\n      <th>15</th>\n      <td>16.0</td>\n      <td>Cheese Maggi</td>\n      <td>a variat of plain maggi with the addit of chee...</td>\n    </tr>\n    <tr>\n      <th>16</th>\n      <td>17.0</td>\n      <td>Pav Bhaji</td>\n      <td>a popular indian street food dish consist of a...</td>\n    </tr>\n    <tr>\n      <th>17</th>\n      <td>18.0</td>\n      <td>Chole Bature</td>\n      <td>a north indian breakfast dish made with spice ...</td>\n    </tr>\n    <tr>\n      <th>18</th>\n      <td>19.0</td>\n      <td>Fruit Platter</td>\n      <td>a platter of assort fresh fruit serv as a heal...</td>\n    </tr>\n    <tr>\n      <th>19</th>\n      <td>20.0</td>\n      <td>Idli Sambar</td>\n      <td>steam rice cake serv with a lentil-bas veget s...</td>\n    </tr>\n    <tr>\n      <th>20</th>\n      <td>21.0</td>\n      <td>Medhu Wada Sambar</td>\n      <td>deep-fri lentil doughnut serv with a lentil-ba...</td>\n    </tr>\n    <tr>\n      <th>21</th>\n      <td>22.0</td>\n      <td>Sada Dosa</td>\n      <td>thin crispi pancak made from ferment rice and ...</td>\n    </tr>\n    <tr>\n      <th>22</th>\n      <td>23.0</td>\n      <td>Masala Dosa</td>\n      <td>sada dosa fill with spice potato fill and serv...</td>\n    </tr>\n    <tr>\n      <th>23</th>\n      <td>24.0</td>\n      <td>Mysore Dosa</td>\n      <td>sada dosa coat with a spici red chutney made f...</td>\n    </tr>\n    <tr>\n      <th>24</th>\n      <td>25.0</td>\n      <td>Mysore Masala Dosa</td>\n      <td>masala dosa fill with spice potato fill and co...</td>\n    </tr>\n    <tr>\n      <th>25</th>\n      <td>26.0</td>\n      <td>Schezwan Dosa</td>\n      <td>dosa fill with stir-fri veget in schezwan sauc...</td>\n    </tr>\n    <tr>\n      <th>26</th>\n      <td>27.0</td>\n      <td>Cheese Dosa</td>\n      <td>dosa fill with grate chees and serv with tomat...</td>\n    </tr>\n    <tr>\n      <th>27</th>\n      <td>28.0</td>\n      <td>Cheese Masala Dosa</td>\n      <td>masala dosa fill with grate chees and serv wit...</td>\n    </tr>\n    <tr>\n      <th>28</th>\n      <td>29.0</td>\n      <td>Full Meal</td>\n      <td>a complet meal consist of multipl dish meal lu...</td>\n    </tr>\n    <tr>\n      <th>29</th>\n      <td>30.0</td>\n      <td>Dal Khichdi</td>\n      <td>a one-pot dish made with rice and lentil meal ...</td>\n    </tr>\n    <tr>\n      <th>30</th>\n      <td>31.0</td>\n      <td>Sabudana Khichdi</td>\n      <td>a gluten-fre dish made with tapioca pearl and ...</td>\n    </tr>\n    <tr>\n      <th>31</th>\n      <td>32.0</td>\n      <td>Aloo Paratha</td>\n      <td>a stuf flatbread made with spice potato fill m...</td>\n    </tr>\n    <tr>\n      <th>32</th>\n      <td>33.0</td>\n      <td>Paneer Paratha</td>\n      <td>a stuf flatbread made with spice paneer fill m...</td>\n    </tr>\n    <tr>\n      <th>33</th>\n      <td>34.0</td>\n      <td>Boiled Egg</td>\n      <td>hard-boil egg dish eggcount breakfast egg water</td>\n    </tr>\n    <tr>\n      <th>34</th>\n      <td>35.0</td>\n      <td>Omlette Pav</td>\n      <td>indian-styl omelett sandwich eggcount breakfas...</td>\n    </tr>\n    <tr>\n      <th>35</th>\n      <td>36.0</td>\n      <td>Bhurji Pav</td>\n      <td>scrambl egg dish serv with bread eggcount brea...</td>\n    </tr>\n    <tr>\n      <th>36</th>\n      <td>37.0</td>\n      <td>Sev Puri</td>\n      <td>a popular indian street food snack chaatcount ...</td>\n    </tr>\n    <tr>\n      <th>37</th>\n      <td>38.0</td>\n      <td>Papdi Chaat</td>\n      <td>a tangi and savori indian snack made with flat...</td>\n    </tr>\n    <tr>\n      <th>38</th>\n      <td>39.0</td>\n      <td>Samosa Chaat</td>\n      <td>a delici blend of samosa and chaat chaatcount ...</td>\n    </tr>\n    <tr>\n      <th>39</th>\n      <td>40.0</td>\n      <td>Kachori Chaat</td>\n      <td>a spici and crispi street food made with kacho...</td>\n    </tr>\n    <tr>\n      <th>40</th>\n      <td>41.0</td>\n      <td>Margherita Pizza</td>\n      <td>a classic pizza origin from itali with a simpl...</td>\n    </tr>\n    <tr>\n      <th>41</th>\n      <td>42.0</td>\n      <td>Pasta</td>\n      <td>a dish made from cook noodles, typic made from...</td>\n    </tr>\n    <tr>\n      <th>42</th>\n      <td>43.0</td>\n      <td>Veg Pizza</td>\n      <td>a pizza made with variou veget as toppings, in...</td>\n    </tr>\n    <tr>\n      <th>43</th>\n      <td>44.0</td>\n      <td>Garlic Bread</td>\n      <td>a bread dish made with garlic, butter, and her...</td>\n    </tr>\n    <tr>\n      <th>44</th>\n      <td>45.0</td>\n      <td>Lassi</td>\n      <td>a popular indian yogurt-bas drink beverag drin...</td>\n    </tr>\n    <tr>\n      <th>45</th>\n      <td>46.0</td>\n      <td>Coffee</td>\n      <td>a popular hot beverag made from roast coffe be...</td>\n    </tr>\n    <tr>\n      <th>46</th>\n      <td>47.0</td>\n      <td>Tea</td>\n      <td>a popular hot beverag made from tea leav bever...</td>\n    </tr>\n    <tr>\n      <th>47</th>\n      <td>48.0</td>\n      <td>Cold Coffee</td>\n      <td>a chill version of coffee, often with ad milk ...</td>\n    </tr>\n    <tr>\n      <th>48</th>\n      <td>49.0</td>\n      <td>Buttermilk</td>\n      <td>a refresh drink made from cultur milk beverag ...</td>\n    </tr>\n    <tr>\n      <th>49</th>\n      <td>50.0</td>\n      <td>Watermelon Juice</td>\n      <td>a refresh juic made from fresh watermelon beve...</td>\n    </tr>\n    <tr>\n      <th>50</th>\n      <td>51.0</td>\n      <td>Lemonade</td>\n      <td>a refresh drink made from lemon juic and water...</td>\n    </tr>\n    <tr>\n      <th>51</th>\n      <td>52.0</td>\n      <td>Pineaaple Juice</td>\n      <td>a sweet and tangi juic made from fresh pineapp...</td>\n    </tr>\n  </tbody>\n</table>\n</div>"
          },
          "metadata": {}
        }
      ]
    },
    {
      "cell_type": "code",
      "source": "vectors = cv.fit_transform(cf['Tags']).toarray()",
      "metadata": {
        "trusted": true
      },
      "execution_count": 479,
      "outputs": []
    },
    {
      "cell_type": "code",
      "source": "from sklearn.metrics.pairwise import cosine_similarity",
      "metadata": {
        "trusted": true
      },
      "execution_count": 480,
      "outputs": []
    },
    {
      "cell_type": "code",
      "source": "similarity = cosine_similarity(vectors)",
      "metadata": {
        "trusted": true
      },
      "execution_count": 481,
      "outputs": []
    },
    {
      "cell_type": "code",
      "source": "cosine_similarity(vectors)",
      "metadata": {
        "trusted": true
      },
      "execution_count": 482,
      "outputs": [
        {
          "execution_count": 482,
          "output_type": "execute_result",
          "data": {
            "text/plain": "array([[1.        , 0.8660254 , 0.83333333, ..., 0.        , 0.0745356 ,\n        0.10910895],\n       [0.8660254 , 1.        , 0.8660254 , ..., 0.        , 0.        ,\n        0.        ],\n       [0.83333333, 0.8660254 , 1.        , ..., 0.        , 0.        ,\n        0.        ],\n       ...,\n       [0.        , 0.        , 0.        , ..., 1.        , 0.82158384,\n        0.80178373],\n       [0.0745356 , 0.        , 0.        , ..., 0.82158384, 1.        ,\n        0.78072006],\n       [0.10910895, 0.        , 0.        , ..., 0.80178373, 0.78072006,\n        1.        ]])"
          },
          "metadata": {}
        }
      ]
    },
    {
      "cell_type": "code",
      "source": "def recommend1(food):\n    l=[]\n    index = cf[cf['Item_name'] == food].index[0]\n    distances = sorted(list(enumerate(similarity[index])),reverse=True,key = lambda x: x[1])\n    for i in distances[1:6]:\n        l.append(cf.iloc[i[0]].Item_name)\n        \n    return l\n        ",
      "metadata": {
        "trusted": true
      },
      "execution_count": 495,
      "outputs": []
    },
    {
      "cell_type": "code",
      "source": "list(recommend1(\"Wada Pav\"))",
      "metadata": {
        "trusted": true
      },
      "execution_count": 496,
      "outputs": [
        {
          "execution_count": 496,
          "output_type": "execute_result",
          "data": {
            "text/plain": "['Samosa Pav', 'Pav Bhaji', 'Misal Pav', 'Poha ', 'Bread Pakoda']"
          },
          "metadata": {}
        }
      ]
    },
    {
      "cell_type": "code",
      "source": "pickle.dump(cf, open('cf.pkl','wb'))",
      "metadata": {
        "trusted": true
      },
      "execution_count": 497,
      "outputs": []
    },
    {
      "cell_type": "code",
      "source": "pickle.dump(similarity, open('similarity.pkl','wb'))",
      "metadata": {
        "trusted": true
      },
      "execution_count": 498,
      "outputs": []
    },
    {
      "cell_type": "code",
      "source": "def hybrid(item):\n    a=recommend1(item)\n    b=list(map(recommend,a))\n    return b",
      "metadata": {
        "trusted": true
      },
      "execution_count": 486,
      "outputs": []
    },
    {
      "cell_type": "code",
      "source": "list(np.unique(list(np.unique(hybrid(\"Fruit Platter\")))+list(recommend1(\"Fruit Platter\"))+list(recommend(\"Fruit Platter\"))))",
      "metadata": {
        "trusted": true
      },
      "execution_count": 571,
      "outputs": [
        {
          "execution_count": 571,
          "output_type": "execute_result",
          "data": {
            "text/plain": "['Aloo Paratha',\n 'Bread Pakoda',\n 'Cheese Maggi',\n 'Chole Bature',\n 'Dal Khichdi',\n 'Fruit Platter',\n 'Idli Sambar',\n 'Lassi ',\n 'Masala Dosa',\n 'Papdi Chaat',\n 'Pav Bhaji',\n 'Plain Maggi',\n 'Samosa Chaat',\n 'Samosa Pav',\n 'Sev Puri',\n 'Wada Pav',\n 'Watermelon Juice']"
          },
          "metadata": {}
        }
      ]
    },
    {
      "cell_type": "markdown",
      "source": "Nearest Neighbors clustering\n",
      "metadata": {}
    },
    {
      "cell_type": "code",
      "source": "pt",
      "metadata": {
        "trusted": true
      },
      "execution_count": 596,
      "outputs": [
        {
          "execution_count": 594,
          "output_type": "execute_result",
          "data": {
            "text/plain": "                             1  10  100  101  102  103  104  105  106  107  \\\nItems                                                                        \nAloo Paratha                 0   0    0    3    0    0    1    0    0    0   \nBhurji Pav                   0   0    2    3    0    0    1    3    5    0   \nBoiled Egg                   0   0    0    0    0    0    1    3    0    0   \nBread Butter Jam             0   2    1    0    0    0    2    0    0    0   \nBread Pakoda                 0   3    3    3    0    3    2    2    5    0   \nButtermilk                   4   0    1    0    0    0    1    0    0    0   \nCheese Dosa                  0   0    1    4    0    0    2    0    5    2   \nCheese Grill Sandwich        0   3    1    2    0    0    2    0    0    2   \nCheese Maggi                 0   4    0    3    0    0    2    0    0    0   \nCheese Masala Dosa           0   0    1    4    0    0    2    0    0    3   \nCheese Sandwich              0   2    1    2    0    0    2    0    0    1   \nChole Bature                 3   3    2    4    5    4    1    4    5    2   \nCoffee                       4   0    1    4    1    1    1    0    4    0   \nCold Coffee                  4   0    1    3    0    0    1    5    3    0   \nDahi Misal Pav               0   0    0    0    0    0    2    0    0    0   \nDal Khichdi                  0   0    1    0    0    0    3    0    0    0   \nFruit Platter                0   0    0    3    0    0    1    0    0    0   \nFull Meal                    0   1    1    0    4    0    1    4    0    0   \nGarlic Bread                 2   0    0    3    0    0    1    0    0    0   \nIdli Sambar                  2   4    1    0    0    0    2    3    0    0   \nKachori Chaat                0   0    1    3    0    0    2    0    0    1   \nLassi                        3   0    1    0    0    0    2    0    0    1   \nLemonade                     4   0    1    0    0    0    1    1    0    0   \nMargherita Pizza             2   0    0    3    0    0    1    0    3    0   \nMasala Dosa                  2   0    1    4    3    3    2    0    0    2   \nMedhu Wada Sambar            2   0    2    0    0    0    2    0    0    0   \nMisal Pav                    2   4    3    3    4    0    2    0    1    0   \nMysore Dosa                  2   0    1    4    0    0    2    3    0    2   \nMysore Masala Dosa           0   0    1    4    0    0    2    0    0    2   \nOmlette Pav                  0   3    1    3    0    0    1    0    4    0   \nPaneer Paratha               0   0    0    0    0    0    0    0    0    0   \nPapdi Chaat                  3   2    1    3    3    0    2    0    4    1   \nPasta                        2   0    1    4    0    0    3    0    0    0   \nPav Bhaji                    2   2    2    4    4    0    1    5    2    2   \nPineaaple Juice              3   0    1    0    0    0    0    0    0    0   \nPlain Maggi                  3   4    2    3    3    0    2    5    0    0   \nPoha                         1   0    2    3    0    0    2    4    0    0   \nSabudana Khichdi             0   0    1    0    0    0    1    0    0    0   \nSada Dosa                    2   0    2    0    0    0    2    0    0    0   \nSamosa Chaat                 3   0    1    3    3    3    2    0    0    2   \nSamosa Pav                   2   0    1    4    4    2    3    4    4    1   \nSchezwan Dosa                0   0    1    4    0    3    2    0    5    3   \nSev Puri                     2   3    1    3    0    0    2    0    0    1   \nTea                          0   4    1    4    3    0    1    0    0    0   \nToast Butter Jam             0   2    1    0    0    0    2    0    0    0   \nUpma                         1   0    2    0    0    0    2    0    0    0   \nVeg & Cheese grill Sandwich  0   2    1    0    0    1    2    0    0    0   \nVeg Grill Sandwich           0   3    1    3    0    0    2    0    0    1   \nVeg Pizza                    2   0    3    2    4    0    1    0    4    0   \nVegetable Sandwich           0   3    1    2    0    0    2    0    0    0   \nWada Pav                     1   5    1    3    3    2    3    4    3    1   \nWatermelon Juice             3   0    1    0    0    0    1    0    0    0   \n\n                             ...  90  91  92  93  94  95  96  97  98  99  \nItems                        ...                                          \nAloo Paratha                 ...   0   0   3   0   3   0   4   5   0   0  \nBhurji Pav                   ...   3   0   4   0   3   0   2   3   5   0  \nBoiled Egg                   ...   0   0   4   0   2   0   2   3   0   0  \nBread Butter Jam             ...   0   0   1   0   3   0   2   3   3   0  \nBread Pakoda                 ...   3   0   4   5   3   4   3   2   0   0  \nButtermilk                   ...   3   0   3   0   4   0   5   4   0   0  \nCheese Dosa                  ...   0   0   3   0   3   0   3   3   0   0  \nCheese Grill Sandwich        ...   0   0   1   0   2   0   3   1   1   0  \nCheese Maggi                 ...   3   1   0   0   3   0   3   1   0   4  \nCheese Masala Dosa           ...   0   0   3   0   3   0   3   4   0   0  \nCheese Sandwich              ...   0   0   1   0   3   3   3   1   0   0  \nChole Bature                 ...   4   0   5   5   3   5   3   5   2   3  \nCoffee                       ...   3   3   3   0   3   4   5   2   0   0  \nCold Coffee                  ...   0   0   3   4   3   0   5   4   0   0  \nDahi Misal Pav               ...   4   0   3   0   3   0   3   1   0   0  \nDal Khichdi                  ...   0   0   3   0   4   0   4   5   0   2  \nFruit Platter                ...   0   0   3   0   3   0   4   3   0   0  \nFull Meal                    ...   0   1   4   5   3   0   4   5   0   3  \nGarlic Bread                 ...   0   0   4   0   4   0   3   1   2   0  \nIdli Sambar                  ...   3   0   3   5   3   0   4   1   0   0  \nKachori Chaat                ...   4   0   4   0   4   5   2   0   0   0  \nLassi                        ...   3   0   3   0   3   2   5   3   0   0  \nLemonade                     ...   0   0   5   0   3   0   5   1   0   0  \nMargherita Pizza             ...   0   0   0   0   2   0   4   1   2   0  \nMasala Dosa                  ...   4   0   4   0   4   0   4   4   5   3  \nMedhu Wada Sambar            ...   4   0   4   5   3   0   4   1   0   0  \nMisal Pav                    ...   0   2   4   5   3   4   2   2   3   3  \nMysore Dosa                  ...   2   0   4   0   4   0   2   3   0   0  \nMysore Masala Dosa           ...   4   0   4   0   3   0   1   2   0   0  \nOmlette Pav                  ...   0   0   4   0   2   0   2   3   3   0  \nPaneer Paratha               ...   0   0   3   0   4   0   4   5   0   0  \nPapdi Chaat                  ...   4   2   4   0   4   5   3   4   0   3  \nPasta                        ...   0   0   4   0   3   1   2   1   4   4  \nPav Bhaji                    ...   3   2   5   3   4   0   2   4   3   3  \nPineaaple Juice              ...   0   0   3   0   3   0   5   1   0   0  \nPlain Maggi                  ...   4   1   5   0   4   0   3   1   0   3  \nPoha                         ...   0   0   3   4   2   0   2   3   0   0  \nSabudana Khichdi             ...   0   0   3   0   2   0   4   5   0   0  \nSada Dosa                    ...   4   0   4   0   4   0   4   5   0   3  \nSamosa Chaat                 ...   4   2   4   5   3   5   2   5   4   3  \nSamosa Pav                   ...   4   2   4   5   4   5   1   3   4   4  \nSchezwan Dosa                ...   0   0   3   0   3   0   1   5   0   0  \nSev Puri                     ...   4   0   3   0   3   5   2   3   0   3  \nTea                          ...   0   3   3   0   4   0   5   2   0   5  \nToast Butter Jam             ...   0   0   3   0   2   0   2   3   4   0  \nUpma                         ...   0   0   3   0   2   0   2   3   0   0  \nVeg & Cheese grill Sandwich  ...   0   0   1   0   3   0   2   3   3   0  \nVeg Grill Sandwich           ...   0   0   1   0   3   0   2   1   0   0  \nVeg Pizza                    ...   0   0   4   0   3   3   3   1   2   0  \nVegetable Sandwich           ...   0   0   1   0   4   0   2   2   2   0  \nWada Pav                     ...   4   1   4   3   3   5   4   1   0   3  \nWatermelon Juice             ...   0   0   3   0   3   0   5   1   0   0  \n\n[52 rows x 197 columns]",
            "text/html": "<div>\n<style scoped>\n    .dataframe tbody tr th:only-of-type {\n        vertical-align: middle;\n    }\n\n    .dataframe tbody tr th {\n        vertical-align: top;\n    }\n\n    .dataframe thead th {\n        text-align: right;\n    }\n</style>\n<table border=\"1\" class=\"dataframe\">\n  <thead>\n    <tr style=\"text-align: right;\">\n      <th></th>\n      <th>1</th>\n      <th>10</th>\n      <th>100</th>\n      <th>101</th>\n      <th>102</th>\n      <th>103</th>\n      <th>104</th>\n      <th>105</th>\n      <th>106</th>\n      <th>107</th>\n      <th>...</th>\n      <th>90</th>\n      <th>91</th>\n      <th>92</th>\n      <th>93</th>\n      <th>94</th>\n      <th>95</th>\n      <th>96</th>\n      <th>97</th>\n      <th>98</th>\n      <th>99</th>\n    </tr>\n    <tr>\n      <th>Items</th>\n      <th></th>\n      <th></th>\n      <th></th>\n      <th></th>\n      <th></th>\n      <th></th>\n      <th></th>\n      <th></th>\n      <th></th>\n      <th></th>\n      <th></th>\n      <th></th>\n      <th></th>\n      <th></th>\n      <th></th>\n      <th></th>\n      <th></th>\n      <th></th>\n      <th></th>\n      <th></th>\n      <th></th>\n    </tr>\n  </thead>\n  <tbody>\n    <tr>\n      <th>Aloo Paratha</th>\n      <td>0</td>\n      <td>0</td>\n      <td>0</td>\n      <td>3</td>\n      <td>0</td>\n      <td>0</td>\n      <td>1</td>\n      <td>0</td>\n      <td>0</td>\n      <td>0</td>\n      <td>...</td>\n      <td>0</td>\n      <td>0</td>\n      <td>3</td>\n      <td>0</td>\n      <td>3</td>\n      <td>0</td>\n      <td>4</td>\n      <td>5</td>\n      <td>0</td>\n      <td>0</td>\n    </tr>\n    <tr>\n      <th>Bhurji Pav</th>\n      <td>0</td>\n      <td>0</td>\n      <td>2</td>\n      <td>3</td>\n      <td>0</td>\n      <td>0</td>\n      <td>1</td>\n      <td>3</td>\n      <td>5</td>\n      <td>0</td>\n      <td>...</td>\n      <td>3</td>\n      <td>0</td>\n      <td>4</td>\n      <td>0</td>\n      <td>3</td>\n      <td>0</td>\n      <td>2</td>\n      <td>3</td>\n      <td>5</td>\n      <td>0</td>\n    </tr>\n    <tr>\n      <th>Boiled Egg</th>\n      <td>0</td>\n      <td>0</td>\n      <td>0</td>\n      <td>0</td>\n      <td>0</td>\n      <td>0</td>\n      <td>1</td>\n      <td>3</td>\n      <td>0</td>\n      <td>0</td>\n      <td>...</td>\n      <td>0</td>\n      <td>0</td>\n      <td>4</td>\n      <td>0</td>\n      <td>2</td>\n      <td>0</td>\n      <td>2</td>\n      <td>3</td>\n      <td>0</td>\n      <td>0</td>\n    </tr>\n    <tr>\n      <th>Bread Butter Jam</th>\n      <td>0</td>\n      <td>2</td>\n      <td>1</td>\n      <td>0</td>\n      <td>0</td>\n      <td>0</td>\n      <td>2</td>\n      <td>0</td>\n      <td>0</td>\n      <td>0</td>\n      <td>...</td>\n      <td>0</td>\n      <td>0</td>\n      <td>1</td>\n      <td>0</td>\n      <td>3</td>\n      <td>0</td>\n      <td>2</td>\n      <td>3</td>\n      <td>3</td>\n      <td>0</td>\n    </tr>\n    <tr>\n      <th>Bread Pakoda</th>\n      <td>0</td>\n      <td>3</td>\n      <td>3</td>\n      <td>3</td>\n      <td>0</td>\n      <td>3</td>\n      <td>2</td>\n      <td>2</td>\n      <td>5</td>\n      <td>0</td>\n      <td>...</td>\n      <td>3</td>\n      <td>0</td>\n      <td>4</td>\n      <td>5</td>\n      <td>3</td>\n      <td>4</td>\n      <td>3</td>\n      <td>2</td>\n      <td>0</td>\n      <td>0</td>\n    </tr>\n    <tr>\n      <th>Buttermilk</th>\n      <td>4</td>\n      <td>0</td>\n      <td>1</td>\n      <td>0</td>\n      <td>0</td>\n      <td>0</td>\n      <td>1</td>\n      <td>0</td>\n      <td>0</td>\n      <td>0</td>\n      <td>...</td>\n      <td>3</td>\n      <td>0</td>\n      <td>3</td>\n      <td>0</td>\n      <td>4</td>\n      <td>0</td>\n      <td>5</td>\n      <td>4</td>\n      <td>0</td>\n      <td>0</td>\n    </tr>\n    <tr>\n      <th>Cheese Dosa</th>\n      <td>0</td>\n      <td>0</td>\n      <td>1</td>\n      <td>4</td>\n      <td>0</td>\n      <td>0</td>\n      <td>2</td>\n      <td>0</td>\n      <td>5</td>\n      <td>2</td>\n      <td>...</td>\n      <td>0</td>\n      <td>0</td>\n      <td>3</td>\n      <td>0</td>\n      <td>3</td>\n      <td>0</td>\n      <td>3</td>\n      <td>3</td>\n      <td>0</td>\n      <td>0</td>\n    </tr>\n    <tr>\n      <th>Cheese Grill Sandwich</th>\n      <td>0</td>\n      <td>3</td>\n      <td>1</td>\n      <td>2</td>\n      <td>0</td>\n      <td>0</td>\n      <td>2</td>\n      <td>0</td>\n      <td>0</td>\n      <td>2</td>\n      <td>...</td>\n      <td>0</td>\n      <td>0</td>\n      <td>1</td>\n      <td>0</td>\n      <td>2</td>\n      <td>0</td>\n      <td>3</td>\n      <td>1</td>\n      <td>1</td>\n      <td>0</td>\n    </tr>\n    <tr>\n      <th>Cheese Maggi</th>\n      <td>0</td>\n      <td>4</td>\n      <td>0</td>\n      <td>3</td>\n      <td>0</td>\n      <td>0</td>\n      <td>2</td>\n      <td>0</td>\n      <td>0</td>\n      <td>0</td>\n      <td>...</td>\n      <td>3</td>\n      <td>1</td>\n      <td>0</td>\n      <td>0</td>\n      <td>3</td>\n      <td>0</td>\n      <td>3</td>\n      <td>1</td>\n      <td>0</td>\n      <td>4</td>\n    </tr>\n    <tr>\n      <th>Cheese Masala Dosa</th>\n      <td>0</td>\n      <td>0</td>\n      <td>1</td>\n      <td>4</td>\n      <td>0</td>\n      <td>0</td>\n      <td>2</td>\n      <td>0</td>\n      <td>0</td>\n      <td>3</td>\n      <td>...</td>\n      <td>0</td>\n      <td>0</td>\n      <td>3</td>\n      <td>0</td>\n      <td>3</td>\n      <td>0</td>\n      <td>3</td>\n      <td>4</td>\n      <td>0</td>\n      <td>0</td>\n    </tr>\n    <tr>\n      <th>Cheese Sandwich</th>\n      <td>0</td>\n      <td>2</td>\n      <td>1</td>\n      <td>2</td>\n      <td>0</td>\n      <td>0</td>\n      <td>2</td>\n      <td>0</td>\n      <td>0</td>\n      <td>1</td>\n      <td>...</td>\n      <td>0</td>\n      <td>0</td>\n      <td>1</td>\n      <td>0</td>\n      <td>3</td>\n      <td>3</td>\n      <td>3</td>\n      <td>1</td>\n      <td>0</td>\n      <td>0</td>\n    </tr>\n    <tr>\n      <th>Chole Bature</th>\n      <td>3</td>\n      <td>3</td>\n      <td>2</td>\n      <td>4</td>\n      <td>5</td>\n      <td>4</td>\n      <td>1</td>\n      <td>4</td>\n      <td>5</td>\n      <td>2</td>\n      <td>...</td>\n      <td>4</td>\n      <td>0</td>\n      <td>5</td>\n      <td>5</td>\n      <td>3</td>\n      <td>5</td>\n      <td>3</td>\n      <td>5</td>\n      <td>2</td>\n      <td>3</td>\n    </tr>\n    <tr>\n      <th>Coffee</th>\n      <td>4</td>\n      <td>0</td>\n      <td>1</td>\n      <td>4</td>\n      <td>1</td>\n      <td>1</td>\n      <td>1</td>\n      <td>0</td>\n      <td>4</td>\n      <td>0</td>\n      <td>...</td>\n      <td>3</td>\n      <td>3</td>\n      <td>3</td>\n      <td>0</td>\n      <td>3</td>\n      <td>4</td>\n      <td>5</td>\n      <td>2</td>\n      <td>0</td>\n      <td>0</td>\n    </tr>\n    <tr>\n      <th>Cold Coffee</th>\n      <td>4</td>\n      <td>0</td>\n      <td>1</td>\n      <td>3</td>\n      <td>0</td>\n      <td>0</td>\n      <td>1</td>\n      <td>5</td>\n      <td>3</td>\n      <td>0</td>\n      <td>...</td>\n      <td>0</td>\n      <td>0</td>\n      <td>3</td>\n      <td>4</td>\n      <td>3</td>\n      <td>0</td>\n      <td>5</td>\n      <td>4</td>\n      <td>0</td>\n      <td>0</td>\n    </tr>\n    <tr>\n      <th>Dahi Misal Pav</th>\n      <td>0</td>\n      <td>0</td>\n      <td>0</td>\n      <td>0</td>\n      <td>0</td>\n      <td>0</td>\n      <td>2</td>\n      <td>0</td>\n      <td>0</td>\n      <td>0</td>\n      <td>...</td>\n      <td>4</td>\n      <td>0</td>\n      <td>3</td>\n      <td>0</td>\n      <td>3</td>\n      <td>0</td>\n      <td>3</td>\n      <td>1</td>\n      <td>0</td>\n      <td>0</td>\n    </tr>\n    <tr>\n      <th>Dal Khichdi</th>\n      <td>0</td>\n      <td>0</td>\n      <td>1</td>\n      <td>0</td>\n      <td>0</td>\n      <td>0</td>\n      <td>3</td>\n      <td>0</td>\n      <td>0</td>\n      <td>0</td>\n      <td>...</td>\n      <td>0</td>\n      <td>0</td>\n      <td>3</td>\n      <td>0</td>\n      <td>4</td>\n      <td>0</td>\n      <td>4</td>\n      <td>5</td>\n      <td>0</td>\n      <td>2</td>\n    </tr>\n    <tr>\n      <th>Fruit Platter</th>\n      <td>0</td>\n      <td>0</td>\n      <td>0</td>\n      <td>3</td>\n      <td>0</td>\n      <td>0</td>\n      <td>1</td>\n      <td>0</td>\n      <td>0</td>\n      <td>0</td>\n      <td>...</td>\n      <td>0</td>\n      <td>0</td>\n      <td>3</td>\n      <td>0</td>\n      <td>3</td>\n      <td>0</td>\n      <td>4</td>\n      <td>3</td>\n      <td>0</td>\n      <td>0</td>\n    </tr>\n    <tr>\n      <th>Full Meal</th>\n      <td>0</td>\n      <td>1</td>\n      <td>1</td>\n      <td>0</td>\n      <td>4</td>\n      <td>0</td>\n      <td>1</td>\n      <td>4</td>\n      <td>0</td>\n      <td>0</td>\n      <td>...</td>\n      <td>0</td>\n      <td>1</td>\n      <td>4</td>\n      <td>5</td>\n      <td>3</td>\n      <td>0</td>\n      <td>4</td>\n      <td>5</td>\n      <td>0</td>\n      <td>3</td>\n    </tr>\n    <tr>\n      <th>Garlic Bread</th>\n      <td>2</td>\n      <td>0</td>\n      <td>0</td>\n      <td>3</td>\n      <td>0</td>\n      <td>0</td>\n      <td>1</td>\n      <td>0</td>\n      <td>0</td>\n      <td>0</td>\n      <td>...</td>\n      <td>0</td>\n      <td>0</td>\n      <td>4</td>\n      <td>0</td>\n      <td>4</td>\n      <td>0</td>\n      <td>3</td>\n      <td>1</td>\n      <td>2</td>\n      <td>0</td>\n    </tr>\n    <tr>\n      <th>Idli Sambar</th>\n      <td>2</td>\n      <td>4</td>\n      <td>1</td>\n      <td>0</td>\n      <td>0</td>\n      <td>0</td>\n      <td>2</td>\n      <td>3</td>\n      <td>0</td>\n      <td>0</td>\n      <td>...</td>\n      <td>3</td>\n      <td>0</td>\n      <td>3</td>\n      <td>5</td>\n      <td>3</td>\n      <td>0</td>\n      <td>4</td>\n      <td>1</td>\n      <td>0</td>\n      <td>0</td>\n    </tr>\n    <tr>\n      <th>Kachori Chaat</th>\n      <td>0</td>\n      <td>0</td>\n      <td>1</td>\n      <td>3</td>\n      <td>0</td>\n      <td>0</td>\n      <td>2</td>\n      <td>0</td>\n      <td>0</td>\n      <td>1</td>\n      <td>...</td>\n      <td>4</td>\n      <td>0</td>\n      <td>4</td>\n      <td>0</td>\n      <td>4</td>\n      <td>5</td>\n      <td>2</td>\n      <td>0</td>\n      <td>0</td>\n      <td>0</td>\n    </tr>\n    <tr>\n      <th>Lassi</th>\n      <td>3</td>\n      <td>0</td>\n      <td>1</td>\n      <td>0</td>\n      <td>0</td>\n      <td>0</td>\n      <td>2</td>\n      <td>0</td>\n      <td>0</td>\n      <td>1</td>\n      <td>...</td>\n      <td>3</td>\n      <td>0</td>\n      <td>3</td>\n      <td>0</td>\n      <td>3</td>\n      <td>2</td>\n      <td>5</td>\n      <td>3</td>\n      <td>0</td>\n      <td>0</td>\n    </tr>\n    <tr>\n      <th>Lemonade</th>\n      <td>4</td>\n      <td>0</td>\n      <td>1</td>\n      <td>0</td>\n      <td>0</td>\n      <td>0</td>\n      <td>1</td>\n      <td>1</td>\n      <td>0</td>\n      <td>0</td>\n      <td>...</td>\n      <td>0</td>\n      <td>0</td>\n      <td>5</td>\n      <td>0</td>\n      <td>3</td>\n      <td>0</td>\n      <td>5</td>\n      <td>1</td>\n      <td>0</td>\n      <td>0</td>\n    </tr>\n    <tr>\n      <th>Margherita Pizza</th>\n      <td>2</td>\n      <td>0</td>\n      <td>0</td>\n      <td>3</td>\n      <td>0</td>\n      <td>0</td>\n      <td>1</td>\n      <td>0</td>\n      <td>3</td>\n      <td>0</td>\n      <td>...</td>\n      <td>0</td>\n      <td>0</td>\n      <td>0</td>\n      <td>0</td>\n      <td>2</td>\n      <td>0</td>\n      <td>4</td>\n      <td>1</td>\n      <td>2</td>\n      <td>0</td>\n    </tr>\n    <tr>\n      <th>Masala Dosa</th>\n      <td>2</td>\n      <td>0</td>\n      <td>1</td>\n      <td>4</td>\n      <td>3</td>\n      <td>3</td>\n      <td>2</td>\n      <td>0</td>\n      <td>0</td>\n      <td>2</td>\n      <td>...</td>\n      <td>4</td>\n      <td>0</td>\n      <td>4</td>\n      <td>0</td>\n      <td>4</td>\n      <td>0</td>\n      <td>4</td>\n      <td>4</td>\n      <td>5</td>\n      <td>3</td>\n    </tr>\n    <tr>\n      <th>Medhu Wada Sambar</th>\n      <td>2</td>\n      <td>0</td>\n      <td>2</td>\n      <td>0</td>\n      <td>0</td>\n      <td>0</td>\n      <td>2</td>\n      <td>0</td>\n      <td>0</td>\n      <td>0</td>\n      <td>...</td>\n      <td>4</td>\n      <td>0</td>\n      <td>4</td>\n      <td>5</td>\n      <td>3</td>\n      <td>0</td>\n      <td>4</td>\n      <td>1</td>\n      <td>0</td>\n      <td>0</td>\n    </tr>\n    <tr>\n      <th>Misal Pav</th>\n      <td>2</td>\n      <td>4</td>\n      <td>3</td>\n      <td>3</td>\n      <td>4</td>\n      <td>0</td>\n      <td>2</td>\n      <td>0</td>\n      <td>1</td>\n      <td>0</td>\n      <td>...</td>\n      <td>0</td>\n      <td>2</td>\n      <td>4</td>\n      <td>5</td>\n      <td>3</td>\n      <td>4</td>\n      <td>2</td>\n      <td>2</td>\n      <td>3</td>\n      <td>3</td>\n    </tr>\n    <tr>\n      <th>Mysore Dosa</th>\n      <td>2</td>\n      <td>0</td>\n      <td>1</td>\n      <td>4</td>\n      <td>0</td>\n      <td>0</td>\n      <td>2</td>\n      <td>3</td>\n      <td>0</td>\n      <td>2</td>\n      <td>...</td>\n      <td>2</td>\n      <td>0</td>\n      <td>4</td>\n      <td>0</td>\n      <td>4</td>\n      <td>0</td>\n      <td>2</td>\n      <td>3</td>\n      <td>0</td>\n      <td>0</td>\n    </tr>\n    <tr>\n      <th>Mysore Masala Dosa</th>\n      <td>0</td>\n      <td>0</td>\n      <td>1</td>\n      <td>4</td>\n      <td>0</td>\n      <td>0</td>\n      <td>2</td>\n      <td>0</td>\n      <td>0</td>\n      <td>2</td>\n      <td>...</td>\n      <td>4</td>\n      <td>0</td>\n      <td>4</td>\n      <td>0</td>\n      <td>3</td>\n      <td>0</td>\n      <td>1</td>\n      <td>2</td>\n      <td>0</td>\n      <td>0</td>\n    </tr>\n    <tr>\n      <th>Omlette Pav</th>\n      <td>0</td>\n      <td>3</td>\n      <td>1</td>\n      <td>3</td>\n      <td>0</td>\n      <td>0</td>\n      <td>1</td>\n      <td>0</td>\n      <td>4</td>\n      <td>0</td>\n      <td>...</td>\n      <td>0</td>\n      <td>0</td>\n      <td>4</td>\n      <td>0</td>\n      <td>2</td>\n      <td>0</td>\n      <td>2</td>\n      <td>3</td>\n      <td>3</td>\n      <td>0</td>\n    </tr>\n    <tr>\n      <th>Paneer Paratha</th>\n      <td>0</td>\n      <td>0</td>\n      <td>0</td>\n      <td>0</td>\n      <td>0</td>\n      <td>0</td>\n      <td>0</td>\n      <td>0</td>\n      <td>0</td>\n      <td>0</td>\n      <td>...</td>\n      <td>0</td>\n      <td>0</td>\n      <td>3</td>\n      <td>0</td>\n      <td>4</td>\n      <td>0</td>\n      <td>4</td>\n      <td>5</td>\n      <td>0</td>\n      <td>0</td>\n    </tr>\n    <tr>\n      <th>Papdi Chaat</th>\n      <td>3</td>\n      <td>2</td>\n      <td>1</td>\n      <td>3</td>\n      <td>3</td>\n      <td>0</td>\n      <td>2</td>\n      <td>0</td>\n      <td>4</td>\n      <td>1</td>\n      <td>...</td>\n      <td>4</td>\n      <td>2</td>\n      <td>4</td>\n      <td>0</td>\n      <td>4</td>\n      <td>5</td>\n      <td>3</td>\n      <td>4</td>\n      <td>0</td>\n      <td>3</td>\n    </tr>\n    <tr>\n      <th>Pasta</th>\n      <td>2</td>\n      <td>0</td>\n      <td>1</td>\n      <td>4</td>\n      <td>0</td>\n      <td>0</td>\n      <td>3</td>\n      <td>0</td>\n      <td>0</td>\n      <td>0</td>\n      <td>...</td>\n      <td>0</td>\n      <td>0</td>\n      <td>4</td>\n      <td>0</td>\n      <td>3</td>\n      <td>1</td>\n      <td>2</td>\n      <td>1</td>\n      <td>4</td>\n      <td>4</td>\n    </tr>\n    <tr>\n      <th>Pav Bhaji</th>\n      <td>2</td>\n      <td>2</td>\n      <td>2</td>\n      <td>4</td>\n      <td>4</td>\n      <td>0</td>\n      <td>1</td>\n      <td>5</td>\n      <td>2</td>\n      <td>2</td>\n      <td>...</td>\n      <td>3</td>\n      <td>2</td>\n      <td>5</td>\n      <td>3</td>\n      <td>4</td>\n      <td>0</td>\n      <td>2</td>\n      <td>4</td>\n      <td>3</td>\n      <td>3</td>\n    </tr>\n    <tr>\n      <th>Pineaaple Juice</th>\n      <td>3</td>\n      <td>0</td>\n      <td>1</td>\n      <td>0</td>\n      <td>0</td>\n      <td>0</td>\n      <td>0</td>\n      <td>0</td>\n      <td>0</td>\n      <td>0</td>\n      <td>...</td>\n      <td>0</td>\n      <td>0</td>\n      <td>3</td>\n      <td>0</td>\n      <td>3</td>\n      <td>0</td>\n      <td>5</td>\n      <td>1</td>\n      <td>0</td>\n      <td>0</td>\n    </tr>\n    <tr>\n      <th>Plain Maggi</th>\n      <td>3</td>\n      <td>4</td>\n      <td>2</td>\n      <td>3</td>\n      <td>3</td>\n      <td>0</td>\n      <td>2</td>\n      <td>5</td>\n      <td>0</td>\n      <td>0</td>\n      <td>...</td>\n      <td>4</td>\n      <td>1</td>\n      <td>5</td>\n      <td>0</td>\n      <td>4</td>\n      <td>0</td>\n      <td>3</td>\n      <td>1</td>\n      <td>0</td>\n      <td>3</td>\n    </tr>\n    <tr>\n      <th>Poha</th>\n      <td>1</td>\n      <td>0</td>\n      <td>2</td>\n      <td>3</td>\n      <td>0</td>\n      <td>0</td>\n      <td>2</td>\n      <td>4</td>\n      <td>0</td>\n      <td>0</td>\n      <td>...</td>\n      <td>0</td>\n      <td>0</td>\n      <td>3</td>\n      <td>4</td>\n      <td>2</td>\n      <td>0</td>\n      <td>2</td>\n      <td>3</td>\n      <td>0</td>\n      <td>0</td>\n    </tr>\n    <tr>\n      <th>Sabudana Khichdi</th>\n      <td>0</td>\n      <td>0</td>\n      <td>1</td>\n      <td>0</td>\n      <td>0</td>\n      <td>0</td>\n      <td>1</td>\n      <td>0</td>\n      <td>0</td>\n      <td>0</td>\n      <td>...</td>\n      <td>0</td>\n      <td>0</td>\n      <td>3</td>\n      <td>0</td>\n      <td>2</td>\n      <td>0</td>\n      <td>4</td>\n      <td>5</td>\n      <td>0</td>\n      <td>0</td>\n    </tr>\n    <tr>\n      <th>Sada Dosa</th>\n      <td>2</td>\n      <td>0</td>\n      <td>2</td>\n      <td>0</td>\n      <td>0</td>\n      <td>0</td>\n      <td>2</td>\n      <td>0</td>\n      <td>0</td>\n      <td>0</td>\n      <td>...</td>\n      <td>4</td>\n      <td>0</td>\n      <td>4</td>\n      <td>0</td>\n      <td>4</td>\n      <td>0</td>\n      <td>4</td>\n      <td>5</td>\n      <td>0</td>\n      <td>3</td>\n    </tr>\n    <tr>\n      <th>Samosa Chaat</th>\n      <td>3</td>\n      <td>0</td>\n      <td>1</td>\n      <td>3</td>\n      <td>3</td>\n      <td>3</td>\n      <td>2</td>\n      <td>0</td>\n      <td>0</td>\n      <td>2</td>\n      <td>...</td>\n      <td>4</td>\n      <td>2</td>\n      <td>4</td>\n      <td>5</td>\n      <td>3</td>\n      <td>5</td>\n      <td>2</td>\n      <td>5</td>\n      <td>4</td>\n      <td>3</td>\n    </tr>\n    <tr>\n      <th>Samosa Pav</th>\n      <td>2</td>\n      <td>0</td>\n      <td>1</td>\n      <td>4</td>\n      <td>4</td>\n      <td>2</td>\n      <td>3</td>\n      <td>4</td>\n      <td>4</td>\n      <td>1</td>\n      <td>...</td>\n      <td>4</td>\n      <td>2</td>\n      <td>4</td>\n      <td>5</td>\n      <td>4</td>\n      <td>5</td>\n      <td>1</td>\n      <td>3</td>\n      <td>4</td>\n      <td>4</td>\n    </tr>\n    <tr>\n      <th>Schezwan Dosa</th>\n      <td>0</td>\n      <td>0</td>\n      <td>1</td>\n      <td>4</td>\n      <td>0</td>\n      <td>3</td>\n      <td>2</td>\n      <td>0</td>\n      <td>5</td>\n      <td>3</td>\n      <td>...</td>\n      <td>0</td>\n      <td>0</td>\n      <td>3</td>\n      <td>0</td>\n      <td>3</td>\n      <td>0</td>\n      <td>1</td>\n      <td>5</td>\n      <td>0</td>\n      <td>0</td>\n    </tr>\n    <tr>\n      <th>Sev Puri</th>\n      <td>2</td>\n      <td>3</td>\n      <td>1</td>\n      <td>3</td>\n      <td>0</td>\n      <td>0</td>\n      <td>2</td>\n      <td>0</td>\n      <td>0</td>\n      <td>1</td>\n      <td>...</td>\n      <td>4</td>\n      <td>0</td>\n      <td>3</td>\n      <td>0</td>\n      <td>3</td>\n      <td>5</td>\n      <td>2</td>\n      <td>3</td>\n      <td>0</td>\n      <td>3</td>\n    </tr>\n    <tr>\n      <th>Tea</th>\n      <td>0</td>\n      <td>4</td>\n      <td>1</td>\n      <td>4</td>\n      <td>3</td>\n      <td>0</td>\n      <td>1</td>\n      <td>0</td>\n      <td>0</td>\n      <td>0</td>\n      <td>...</td>\n      <td>0</td>\n      <td>3</td>\n      <td>3</td>\n      <td>0</td>\n      <td>4</td>\n      <td>0</td>\n      <td>5</td>\n      <td>2</td>\n      <td>0</td>\n      <td>5</td>\n    </tr>\n    <tr>\n      <th>Toast Butter Jam</th>\n      <td>0</td>\n      <td>2</td>\n      <td>1</td>\n      <td>0</td>\n      <td>0</td>\n      <td>0</td>\n      <td>2</td>\n      <td>0</td>\n      <td>0</td>\n      <td>0</td>\n      <td>...</td>\n      <td>0</td>\n      <td>0</td>\n      <td>3</td>\n      <td>0</td>\n      <td>2</td>\n      <td>0</td>\n      <td>2</td>\n      <td>3</td>\n      <td>4</td>\n      <td>0</td>\n    </tr>\n    <tr>\n      <th>Upma</th>\n      <td>1</td>\n      <td>0</td>\n      <td>2</td>\n      <td>0</td>\n      <td>0</td>\n      <td>0</td>\n      <td>2</td>\n      <td>0</td>\n      <td>0</td>\n      <td>0</td>\n      <td>...</td>\n      <td>0</td>\n      <td>0</td>\n      <td>3</td>\n      <td>0</td>\n      <td>2</td>\n      <td>0</td>\n      <td>2</td>\n      <td>3</td>\n      <td>0</td>\n      <td>0</td>\n    </tr>\n    <tr>\n      <th>Veg &amp; Cheese grill Sandwich</th>\n      <td>0</td>\n      <td>2</td>\n      <td>1</td>\n      <td>0</td>\n      <td>0</td>\n      <td>1</td>\n      <td>2</td>\n      <td>0</td>\n      <td>0</td>\n      <td>0</td>\n      <td>...</td>\n      <td>0</td>\n      <td>0</td>\n      <td>1</td>\n      <td>0</td>\n      <td>3</td>\n      <td>0</td>\n      <td>2</td>\n      <td>3</td>\n      <td>3</td>\n      <td>0</td>\n    </tr>\n    <tr>\n      <th>Veg Grill Sandwich</th>\n      <td>0</td>\n      <td>3</td>\n      <td>1</td>\n      <td>3</td>\n      <td>0</td>\n      <td>0</td>\n      <td>2</td>\n      <td>0</td>\n      <td>0</td>\n      <td>1</td>\n      <td>...</td>\n      <td>0</td>\n      <td>0</td>\n      <td>1</td>\n      <td>0</td>\n      <td>3</td>\n      <td>0</td>\n      <td>2</td>\n      <td>1</td>\n      <td>0</td>\n      <td>0</td>\n    </tr>\n    <tr>\n      <th>Veg Pizza</th>\n      <td>2</td>\n      <td>0</td>\n      <td>3</td>\n      <td>2</td>\n      <td>4</td>\n      <td>0</td>\n      <td>1</td>\n      <td>0</td>\n      <td>4</td>\n      <td>0</td>\n      <td>...</td>\n      <td>0</td>\n      <td>0</td>\n      <td>4</td>\n      <td>0</td>\n      <td>3</td>\n      <td>3</td>\n      <td>3</td>\n      <td>1</td>\n      <td>2</td>\n      <td>0</td>\n    </tr>\n    <tr>\n      <th>Vegetable Sandwich</th>\n      <td>0</td>\n      <td>3</td>\n      <td>1</td>\n      <td>2</td>\n      <td>0</td>\n      <td>0</td>\n      <td>2</td>\n      <td>0</td>\n      <td>0</td>\n      <td>0</td>\n      <td>...</td>\n      <td>0</td>\n      <td>0</td>\n      <td>1</td>\n      <td>0</td>\n      <td>4</td>\n      <td>0</td>\n      <td>2</td>\n      <td>2</td>\n      <td>2</td>\n      <td>0</td>\n    </tr>\n    <tr>\n      <th>Wada Pav</th>\n      <td>1</td>\n      <td>5</td>\n      <td>1</td>\n      <td>3</td>\n      <td>3</td>\n      <td>2</td>\n      <td>3</td>\n      <td>4</td>\n      <td>3</td>\n      <td>1</td>\n      <td>...</td>\n      <td>4</td>\n      <td>1</td>\n      <td>4</td>\n      <td>3</td>\n      <td>3</td>\n      <td>5</td>\n      <td>4</td>\n      <td>1</td>\n      <td>0</td>\n      <td>3</td>\n    </tr>\n    <tr>\n      <th>Watermelon Juice</th>\n      <td>3</td>\n      <td>0</td>\n      <td>1</td>\n      <td>0</td>\n      <td>0</td>\n      <td>0</td>\n      <td>1</td>\n      <td>0</td>\n      <td>0</td>\n      <td>0</td>\n      <td>...</td>\n      <td>0</td>\n      <td>0</td>\n      <td>3</td>\n      <td>0</td>\n      <td>3</td>\n      <td>0</td>\n      <td>5</td>\n      <td>1</td>\n      <td>0</td>\n      <td>0</td>\n    </tr>\n  </tbody>\n</table>\n<p>52 rows × 197 columns</p>\n</div>"
          },
          "metadata": {}
        }
      ]
    },
    {
      "cell_type": "code",
      "source": "from scipy.sparse import csr_matrix",
      "metadata": {
        "trusted": true
      },
      "execution_count": 507,
      "outputs": []
    },
    {
      "cell_type": "code",
      "source": "pt_sparse= csr_matrix(pt)",
      "metadata": {
        "trusted": true
      },
      "execution_count": 508,
      "outputs": []
    },
    {
      "cell_type": "code",
      "source": "from sklearn.neighbors import NearestNeighbors\nmodel=NearestNeighbors(algorithm='brute', metric='euclidean')",
      "metadata": {
        "trusted": true
      },
      "execution_count": 577,
      "outputs": []
    },
    {
      "cell_type": "code",
      "source": "model.fit(pt_sparse)",
      "metadata": {
        "trusted": true
      },
      "execution_count": 578,
      "outputs": [
        {
          "execution_count": 578,
          "output_type": "execute_result",
          "data": {
            "text/plain": "NearestNeighbors(algorithm='brute', metric='euclidean')",
            "text/html": "<style>#sk-container-id-10 {color: black;background-color: white;}#sk-container-id-10 pre{padding: 0;}#sk-container-id-10 div.sk-toggleable {background-color: white;}#sk-container-id-10 label.sk-toggleable__label {cursor: pointer;display: block;width: 100%;margin-bottom: 0;padding: 0.3em;box-sizing: border-box;text-align: center;}#sk-container-id-10 label.sk-toggleable__label-arrow:before {content: \"▸\";float: left;margin-right: 0.25em;color: #696969;}#sk-container-id-10 label.sk-toggleable__label-arrow:hover:before {color: black;}#sk-container-id-10 div.sk-estimator:hover label.sk-toggleable__label-arrow:before {color: black;}#sk-container-id-10 div.sk-toggleable__content {max-height: 0;max-width: 0;overflow: hidden;text-align: left;background-color: #f0f8ff;}#sk-container-id-10 div.sk-toggleable__content pre {margin: 0.2em;color: black;border-radius: 0.25em;background-color: #f0f8ff;}#sk-container-id-10 input.sk-toggleable__control:checked~div.sk-toggleable__content {max-height: 200px;max-width: 100%;overflow: auto;}#sk-container-id-10 input.sk-toggleable__control:checked~label.sk-toggleable__label-arrow:before {content: \"▾\";}#sk-container-id-10 div.sk-estimator input.sk-toggleable__control:checked~label.sk-toggleable__label {background-color: #d4ebff;}#sk-container-id-10 div.sk-label input.sk-toggleable__control:checked~label.sk-toggleable__label {background-color: #d4ebff;}#sk-container-id-10 input.sk-hidden--visually {border: 0;clip: rect(1px 1px 1px 1px);clip: rect(1px, 1px, 1px, 1px);height: 1px;margin: -1px;overflow: hidden;padding: 0;position: absolute;width: 1px;}#sk-container-id-10 div.sk-estimator {font-family: monospace;background-color: #f0f8ff;border: 1px dotted black;border-radius: 0.25em;box-sizing: border-box;margin-bottom: 0.5em;}#sk-container-id-10 div.sk-estimator:hover {background-color: #d4ebff;}#sk-container-id-10 div.sk-parallel-item::after {content: \"\";width: 100%;border-bottom: 1px solid gray;flex-grow: 1;}#sk-container-id-10 div.sk-label:hover label.sk-toggleable__label {background-color: #d4ebff;}#sk-container-id-10 div.sk-serial::before {content: \"\";position: absolute;border-left: 1px solid gray;box-sizing: border-box;top: 0;bottom: 0;left: 50%;z-index: 0;}#sk-container-id-10 div.sk-serial {display: flex;flex-direction: column;align-items: center;background-color: white;padding-right: 0.2em;padding-left: 0.2em;position: relative;}#sk-container-id-10 div.sk-item {position: relative;z-index: 1;}#sk-container-id-10 div.sk-parallel {display: flex;align-items: stretch;justify-content: center;background-color: white;position: relative;}#sk-container-id-10 div.sk-item::before, #sk-container-id-10 div.sk-parallel-item::before {content: \"\";position: absolute;border-left: 1px solid gray;box-sizing: border-box;top: 0;bottom: 0;left: 50%;z-index: -1;}#sk-container-id-10 div.sk-parallel-item {display: flex;flex-direction: column;z-index: 1;position: relative;background-color: white;}#sk-container-id-10 div.sk-parallel-item:first-child::after {align-self: flex-end;width: 50%;}#sk-container-id-10 div.sk-parallel-item:last-child::after {align-self: flex-start;width: 50%;}#sk-container-id-10 div.sk-parallel-item:only-child::after {width: 0;}#sk-container-id-10 div.sk-dashed-wrapped {border: 1px dashed gray;margin: 0 0.4em 0.5em 0.4em;box-sizing: border-box;padding-bottom: 0.4em;background-color: white;}#sk-container-id-10 div.sk-label label {font-family: monospace;font-weight: bold;display: inline-block;line-height: 1.2em;}#sk-container-id-10 div.sk-label-container {text-align: center;}#sk-container-id-10 div.sk-container {/* jupyter's `normalize.less` sets `[hidden] { display: none; }` but bootstrap.min.css set `[hidden] { display: none !important; }` so we also need the `!important` here to be able to override the default hidden behavior on the sphinx rendered scikit-learn.org. See: https://github.com/scikit-learn/scikit-learn/issues/21755 */display: inline-block !important;position: relative;}#sk-container-id-10 div.sk-text-repr-fallback {display: none;}</style><div id=\"sk-container-id-10\" class=\"sk-top-container\"><div class=\"sk-text-repr-fallback\"><pre>NearestNeighbors(algorithm=&#x27;brute&#x27;, metric=&#x27;euclidean&#x27;)</pre><b>In a Jupyter environment, please rerun this cell to show the HTML representation or trust the notebook. <br />On GitHub, the HTML representation is unable to render, please try loading this page with nbviewer.org.</b></div><div class=\"sk-container\" hidden><div class=\"sk-item\"><div class=\"sk-estimator sk-toggleable\"><input class=\"sk-toggleable__control sk-hidden--visually\" id=\"sk-estimator-id-10\" type=\"checkbox\" checked><label for=\"sk-estimator-id-10\" class=\"sk-toggleable__label sk-toggleable__label-arrow\">NearestNeighbors</label><div class=\"sk-toggleable__content\"><pre>NearestNeighbors(algorithm=&#x27;brute&#x27;, metric=&#x27;euclidean&#x27;)</pre></div></div></div></div></div>"
          },
          "metadata": {}
        }
      ]
    },
    {
      "cell_type": "code",
      "source": "d,s=model.kneighbors(pt.iloc[29,:].values.reshape(1,-1), n_neighbors=6)",
      "metadata": {
        "trusted": true
      },
      "execution_count": 579,
      "outputs": []
    },
    {
      "cell_type": "code",
      "source": "s",
      "metadata": {
        "trusted": true
      },
      "execution_count": 580,
      "outputs": [
        {
          "execution_count": 580,
          "output_type": "execute_result",
          "data": {
            "text/plain": "array([[29,  2,  1, 44,  3, 37]], dtype=int32)"
          },
          "metadata": {}
        }
      ]
    },
    {
      "cell_type": "code",
      "source": "for i in range(len(s)):\n    print(list(pt.index[s[i]])[1:6])",
      "metadata": {
        "trusted": true
      },
      "execution_count": 581,
      "outputs": [
        {
          "name": "stdout",
          "text": "['Boiled Egg', 'Bhurji Pav', 'Toast Butter Jam', 'Bread Butter Jam', 'Sabudana Khichdi']\n",
          "output_type": "stream"
        }
      ]
    },
    {
      "cell_type": "code",
      "source": "pt.index[29]",
      "metadata": {
        "trusted": true
      },
      "execution_count": 582,
      "outputs": [
        {
          "execution_count": 582,
          "output_type": "execute_result",
          "data": {
            "text/plain": "'Omlette Pav'"
          },
          "metadata": {}
        }
      ]
    }
  ]
}